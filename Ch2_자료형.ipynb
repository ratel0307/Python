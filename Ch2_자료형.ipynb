{
  "nbformat": 4,
  "nbformat_minor": 0,
  "metadata": {
    "colab": {
      "provenance": [],
      "toc_visible": true,
      "authorship_tag": "ABX9TyNz6dqb21vLfajzegngZAxa",
      "include_colab_link": true
    },
    "kernelspec": {
      "name": "python3",
      "display_name": "Python 3"
    },
    "language_info": {
      "name": "python"
    }
  },
  "cells": [
    {
      "cell_type": "markdown",
      "metadata": {
        "id": "view-in-github",
        "colab_type": "text"
      },
      "source": [
        "<a href=\"https://colab.research.google.com/github/ratel0307/Python/blob/main/Ch2_%EC%9E%90%EB%A3%8C%ED%98%95.ipynb\" target=\"_parent\"><img src=\"https://colab.research.google.com/assets/colab-badge.svg\" alt=\"Open In Colab\"/></a>"
      ]
    },
    {
      "cell_type": "markdown",
      "source": [
        "#02-1. 자료형과 문자열"
      ],
      "metadata": {
        "id": "GZlGfmB-lJGT"
      }
    },
    {
      "cell_type": "markdown",
      "source": [
        "##자료형과 기본 자료형  \n",
        "가장 기본적인 자료형: 문자열, 숫자, 불\n",
        "\n"
      ],
      "metadata": {
        "id": "-404ITHBwGVE"
      }
    },
    {
      "cell_type": "code",
      "source": [
        "print(type(\"안녕하세요\"))"
      ],
      "metadata": {
        "colab": {
          "base_uri": "https://localhost:8080/"
        },
        "id": "0_x90ENlwqcA",
        "outputId": "846ce254-8541-437a-f135-23210814da5a"
      },
      "execution_count": null,
      "outputs": [
        {
          "output_type": "stream",
          "name": "stdout",
          "text": [
            "<class 'str'>\n"
          ]
        }
      ]
    },
    {
      "cell_type": "code",
      "source": [
        "print(type(273))"
      ],
      "metadata": {
        "colab": {
          "base_uri": "https://localhost:8080/"
        },
        "id": "blYZjw-PwsLz",
        "outputId": "99e9fa5a-59c0-4528-c28d-f3784bb4d0e6"
      },
      "execution_count": null,
      "outputs": [
        {
          "output_type": "stream",
          "name": "stdout",
          "text": [
            "<class 'int'>\n"
          ]
        }
      ]
    },
    {
      "cell_type": "markdown",
      "source": [
        "##문자열 만들기  \n",
        "문자열은 영어로 string이라고 함  \n",
        "이스케이프 문자: 역슬래시(\\)기호와 함께 조합해서 사용하는 특수한 문자  \n",
        "- \\\\: 큰따옴표를 의미\n",
        "- \\\\': 작은따옴표를 의미"
      ],
      "metadata": {
        "id": "-7QPmlHIp8Z5"
      }
    },
    {
      "cell_type": "code",
      "source": [
        "print(\"\\\"안녕하세요\\\"라고 말했습니다.\")"
      ],
      "metadata": {
        "colab": {
          "base_uri": "https://localhost:8080/"
        },
        "id": "JHtpLSJep6GQ",
        "outputId": "d8228053-4b39-4c16-9626-2216ab0f8914"
      },
      "execution_count": null,
      "outputs": [
        {
          "output_type": "stream",
          "name": "stdout",
          "text": [
            "\"안녕하세요\"라고 말했습니다.\n"
          ]
        }
      ]
    },
    {
      "cell_type": "code",
      "source": [
        "print(\"안녕하세요\\n안녕하세요\")"
      ],
      "metadata": {
        "colab": {
          "base_uri": "https://localhost:8080/"
        },
        "id": "uVQNEqrwqzxZ",
        "outputId": "965333c2-12b1-4439-9002-ffb78de8926c"
      },
      "execution_count": null,
      "outputs": [
        {
          "output_type": "stream",
          "name": "stdout",
          "text": [
            "안녕하세요\n",
            "안녕하세요\n"
          ]
        }
      ]
    },
    {
      "cell_type": "code",
      "source": [
        "print(\"안녕하세요\\t안녕하세요\") #\\t는 글자들을 표 형식으로 출력할 때 많이 사용됨"
      ],
      "metadata": {
        "colab": {
          "base_uri": "https://localhost:8080/"
        },
        "id": "LCc3vuUtq5X2",
        "outputId": "24192ebe-a35c-4800-d40c-4f67ef6af495"
      },
      "execution_count": null,
      "outputs": [
        {
          "output_type": "stream",
          "name": "stdout",
          "text": [
            "안녕하세요\t안녕하세요\n"
          ]
        }
      ]
    },
    {
      "cell_type": "code",
      "source": [
        "print(\"이름\\t나이\\t지역\")\n",
        "print(\"윤인성\\t25\\t강서구\")\n",
        "print(\"임재선\\t26\\t성동구\")"
      ],
      "metadata": {
        "colab": {
          "base_uri": "https://localhost:8080/"
        },
        "id": "G9aI7b2Dq9EV",
        "outputId": "dd504ee0-09eb-4e2a-d7ae-d49e413402eb"
      },
      "execution_count": null,
      "outputs": [
        {
          "output_type": "stream",
          "name": "stdout",
          "text": [
            "이름\t나이\t지역\n",
            "윤인성\t25\t강서구\n",
            "임재선\t26\t성동구\n"
          ]
        }
      ]
    },
    {
      "cell_type": "code",
      "source": [
        "print(\"안녕, 안녕\")\n",
        "print(\"내 이름은\")\n",
        "print()\n",
        "print(\"임재선\")"
      ],
      "metadata": {
        "colab": {
          "base_uri": "https://localhost:8080/"
        },
        "id": "PP_PtBuKrg9W",
        "outputId": "fb2731ee-abe2-4dee-a668-c6f72417ec33"
      },
      "execution_count": null,
      "outputs": [
        {
          "output_type": "stream",
          "name": "stdout",
          "text": [
            "안녕, 안녕\n",
            "내 이름은\n",
            "\n",
            "임재선\n"
          ]
        }
      ]
    },
    {
      "cell_type": "markdown",
      "source": [
        "여러 줄 문자열"
      ],
      "metadata": {
        "id": "rkhs4bw0r9KA"
      }
    },
    {
      "cell_type": "code",
      "source": [
        "print(\"\"\"동해물과 백두산이 마르고 닳도록\n",
        "하느님이 보우하사 우리나라 만세\"\"\")"
      ],
      "metadata": {
        "colab": {
          "base_uri": "https://localhost:8080/"
        },
        "id": "Hp2xsmujroKC",
        "outputId": "031a030d-0847-4010-c6f0-dd7384d9d593"
      },
      "execution_count": null,
      "outputs": [
        {
          "output_type": "stream",
          "name": "stdout",
          "text": [
            "동해물과 백두산이 마르고 닳도록\n",
            "하느님이 보우하사 우리나라 만세\n"
          ]
        }
      ]
    },
    {
      "cell_type": "code",
      "source": [
        "print(\"\"\"\n",
        "안녕\n",
        "내 이름은\n",
        "임재선\n",
        "\"\"\")"
      ],
      "metadata": {
        "colab": {
          "base_uri": "https://localhost:8080/"
        },
        "id": "-wAE_PebsEKg",
        "outputId": "5bfdd42a-02c8-4103-c05b-fa4469a3ce18"
      },
      "execution_count": null,
      "outputs": [
        {
          "output_type": "stream",
          "name": "stdout",
          "text": [
            "\n",
            "안녕\n",
            "내 이름은\n",
            "임재선\n",
            "\n"
          ]
        }
      ]
    },
    {
      "cell_type": "code",
      "source": [
        "print(\"\"\"\\\n",
        "안녕\n",
        "내 이름은\n",
        "임재선\\\n",
        "\"\"\")#줄을 바꿔 출력하지 않겠다고 선언"
      ],
      "metadata": {
        "colab": {
          "base_uri": "https://localhost:8080/"
        },
        "id": "upJF-j0nsLd2",
        "outputId": "f19dbc49-18ce-45a7-9f95-e1ba75e2575d"
      },
      "execution_count": null,
      "outputs": [
        {
          "output_type": "stream",
          "name": "stdout",
          "text": [
            "안녕\n",
            "내 이름은\n",
            "임재선\n"
          ]
        }
      ]
    },
    {
      "cell_type": "markdown",
      "source": [
        "##문자열 연산자"
      ],
      "metadata": {
        "id": "xe4SiBGasaKn"
      }
    },
    {
      "cell_type": "code",
      "source": [
        "print(\"안녕\"+\"하세요\")"
      ],
      "metadata": {
        "colab": {
          "base_uri": "https://localhost:8080/"
        },
        "id": "_09QDAD6sPg0",
        "outputId": "861b76f2-d46a-4b9d-d1ec-11f623a09b92"
      },
      "execution_count": null,
      "outputs": [
        {
          "output_type": "stream",
          "name": "stdout",
          "text": [
            "안녕하세요\n"
          ]
        }
      ]
    },
    {
      "cell_type": "code",
      "source": [
        "print(\"안녕\"+1) #문자열은 무조건 문자열끼리 + 연산자를 사용해서 연결해야 한다"
      ],
      "metadata": {
        "colab": {
          "base_uri": "https://localhost:8080/",
          "height": 145
        },
        "id": "W9REIiWdslQ_",
        "outputId": "b28145e4-dd0f-4e88-d070-6f5827851a20"
      },
      "execution_count": null,
      "outputs": [
        {
          "output_type": "error",
          "ename": "TypeError",
          "evalue": "can only concatenate str (not \"int\") to str",
          "traceback": [
            "\u001b[0;31m---------------------------------------------------------------------------\u001b[0m",
            "\u001b[0;31mTypeError\u001b[0m                                 Traceback (most recent call last)",
            "\u001b[0;32m<ipython-input-24-2afe58fb85ab>\u001b[0m in \u001b[0;36m<cell line: 1>\u001b[0;34m()\u001b[0m\n\u001b[0;32m----> 1\u001b[0;31m \u001b[0mprint\u001b[0m\u001b[0;34m(\u001b[0m\u001b[0;34m\"안녕\"\u001b[0m\u001b[0;34m+\u001b[0m\u001b[0;36m1\u001b[0m\u001b[0;34m)\u001b[0m \u001b[0;31m#문자열은 무조건 문자열끼리 + 연산자를 사용해서 연결해야 한다\u001b[0m\u001b[0;34m\u001b[0m\u001b[0;34m\u001b[0m\u001b[0m\n\u001b[0m",
            "\u001b[0;31mTypeError\u001b[0m: can only concatenate str (not \"int\") to str"
          ]
        }
      ]
    },
    {
      "cell_type": "code",
      "source": [
        "print(\"안녕하세요\"*3)"
      ],
      "metadata": {
        "colab": {
          "base_uri": "https://localhost:8080/"
        },
        "id": "P03xQDSVsnp-",
        "outputId": "97e56691-bcfe-4a1f-871e-d8e6b75d3dd7"
      },
      "execution_count": null,
      "outputs": [
        {
          "output_type": "stream",
          "name": "stdout",
          "text": [
            "안녕하세요안녕하세요안녕하세요\n"
          ]
        }
      ]
    },
    {
      "cell_type": "markdown",
      "source": [
        "문자 선택 연산자(인덱싱): [ ]"
      ],
      "metadata": {
        "id": "Li8bFhxluORx"
      }
    },
    {
      "cell_type": "code",
      "source": [
        "print(\"안녕하세요\"[1])"
      ],
      "metadata": {
        "colab": {
          "base_uri": "https://localhost:8080/"
        },
        "id": "ghXWIoWkuGeR",
        "outputId": "16579a2c-5a90-4e2d-b591-ecdb7f47aadc"
      },
      "execution_count": null,
      "outputs": [
        {
          "output_type": "stream",
          "name": "stdout",
          "text": [
            "녕\n"
          ]
        }
      ]
    },
    {
      "cell_type": "code",
      "source": [
        "print(\"안녕하세요\"[-1])"
      ],
      "metadata": {
        "colab": {
          "base_uri": "https://localhost:8080/"
        },
        "id": "3wba26qcuVku",
        "outputId": "42f26eee-1ec4-4600-d3d5-ea16d07afa17"
      },
      "execution_count": null,
      "outputs": [
        {
          "output_type": "stream",
          "name": "stdout",
          "text": [
            "요\n"
          ]
        }
      ]
    },
    {
      "cell_type": "markdown",
      "source": [
        "- 문자열 범위 선택연산자(슬라이싱): [:]"
      ],
      "metadata": {
        "id": "EfuztTBuuxXh"
      }
    },
    {
      "cell_type": "code",
      "source": [
        "print(\"안녕하세요\"[1:4])"
      ],
      "metadata": {
        "colab": {
          "base_uri": "https://localhost:8080/"
        },
        "id": "7QjRAzHxuqRO",
        "outputId": "5e514284-18d2-482b-e2ef-fbdf6c5b31a8"
      },
      "execution_count": null,
      "outputs": [
        {
          "output_type": "stream",
          "name": "stdout",
          "text": [
            "녕하세\n"
          ]
        }
      ]
    },
    {
      "cell_type": "code",
      "source": [
        "print(\"안녕하세요\"[1:])"
      ],
      "metadata": {
        "colab": {
          "base_uri": "https://localhost:8080/"
        },
        "id": "sIBL3ZBxu78p",
        "outputId": "acd38228-418d-43f5-9f87-c70afdf25021"
      },
      "execution_count": null,
      "outputs": [
        {
          "output_type": "stream",
          "name": "stdout",
          "text": [
            "녕하세요\n"
          ]
        }
      ]
    },
    {
      "cell_type": "code",
      "source": [
        "print(\"안녕하세요\"[:3])"
      ],
      "metadata": {
        "colab": {
          "base_uri": "https://localhost:8080/"
        },
        "id": "G6kRbaeQvB9S",
        "outputId": "ca854a37-57b5-4f36-b0e5-c02745206574"
      },
      "execution_count": null,
      "outputs": [
        {
          "output_type": "stream",
          "name": "stdout",
          "text": [
            "안녕하\n"
          ]
        }
      ]
    },
    {
      "cell_type": "markdown",
      "source": [
        "##문자열의 길이 구하기  \n",
        "len()함수 사용하기"
      ],
      "metadata": {
        "id": "cCM2fUavvRLb"
      }
    },
    {
      "cell_type": "code",
      "source": [
        "print(len(\"안녕하세요\"))"
      ],
      "metadata": {
        "colab": {
          "base_uri": "https://localhost:8080/"
        },
        "id": "vTu9LdgJvGeW",
        "outputId": "a278b90b-c612-4def-ed3a-9d2545b8f275"
      },
      "execution_count": null,
      "outputs": [
        {
          "output_type": "stream",
          "name": "stdout",
          "text": [
            "5\n"
          ]
        }
      ]
    },
    {
      "cell_type": "markdown",
      "source": [
        "#02-2. 숫자  \n",
        "소수점이 없는 숫자: 정수형(int)  \n",
        "소수점이 있는 숫자: 실수형(float)"
      ],
      "metadata": {
        "id": "tpJcIG10vZsx"
      }
    },
    {
      "cell_type": "markdown",
      "source": [
        "##숫자의 종류"
      ],
      "metadata": {
        "id": "AiJl2qwnvkzH"
      }
    },
    {
      "cell_type": "code",
      "source": [
        "print(type(52))"
      ],
      "metadata": {
        "colab": {
          "base_uri": "https://localhost:8080/"
        },
        "id": "nNx-ItJxvXD8",
        "outputId": "10940071-39ce-4bc8-b533-9712ee9b7745"
      },
      "execution_count": null,
      "outputs": [
        {
          "output_type": "stream",
          "name": "stdout",
          "text": [
            "<class 'int'>\n"
          ]
        }
      ]
    },
    {
      "cell_type": "code",
      "source": [
        "print(type(52.3))"
      ],
      "metadata": {
        "colab": {
          "base_uri": "https://localhost:8080/"
        },
        "id": "yDMYXhorv4_E",
        "outputId": "8f8ee613-4b2c-4d70-b36f-222f8e7a5c7a"
      },
      "execution_count": null,
      "outputs": [
        {
          "output_type": "stream",
          "name": "stdout",
          "text": [
            "<class 'float'>\n"
          ]
        }
      ]
    },
    {
      "cell_type": "markdown",
      "source": [
        "##숫자 연산자\n",
        "사칙연산자: +, -, *, /"
      ],
      "metadata": {
        "id": "BeGLRcQjwF9D"
      }
    },
    {
      "cell_type": "code",
      "source": [
        "3//2 ##정수 나누기 연산자 (몫만 나와)"
      ],
      "metadata": {
        "colab": {
          "base_uri": "https://localhost:8080/"
        },
        "id": "BsFUbEjFv6rW",
        "outputId": "32266416-df05-4c45-91df-d48d307efa46"
      },
      "execution_count": null,
      "outputs": [
        {
          "output_type": "execute_result",
          "data": {
            "text/plain": [
              "1"
            ]
          },
          "metadata": {},
          "execution_count": 40
        }
      ]
    },
    {
      "cell_type": "code",
      "source": [
        "7//2\n"
      ],
      "metadata": {
        "colab": {
          "base_uri": "https://localhost:8080/"
        },
        "id": "uybeeC32wIgw",
        "outputId": "d2174329-573f-4bbd-e2f4-3e02b516d95b"
      },
      "execution_count": null,
      "outputs": [
        {
          "output_type": "execute_result",
          "data": {
            "text/plain": [
              "3"
            ]
          },
          "metadata": {},
          "execution_count": 41
        }
      ]
    },
    {
      "cell_type": "code",
      "source": [
        "7%2 #나머지 연산자"
      ],
      "metadata": {
        "colab": {
          "base_uri": "https://localhost:8080/"
        },
        "id": "ReZ2oWJ0wrw8",
        "outputId": "5cdc2a75-48b9-42e4-b1e4-b8ecaf5aae60"
      },
      "execution_count": null,
      "outputs": [
        {
          "output_type": "execute_result",
          "data": {
            "text/plain": [
              "1"
            ]
          },
          "metadata": {},
          "execution_count": 45
        }
      ]
    },
    {
      "cell_type": "code",
      "source": [
        "#제곱 연산자: **\n",
        "print(2**3)"
      ],
      "metadata": {
        "colab": {
          "base_uri": "https://localhost:8080/"
        },
        "id": "No_E2Ba8wusQ",
        "outputId": "bf2405c3-1b00-4721-b9e1-f0045847f6f5"
      },
      "execution_count": null,
      "outputs": [
        {
          "output_type": "stream",
          "name": "stdout",
          "text": [
            "8\n"
          ]
        }
      ]
    },
    {
      "cell_type": "code",
      "source": [
        "2**3"
      ],
      "metadata": {
        "colab": {
          "base_uri": "https://localhost:8080/"
        },
        "id": "M_LizTj7xd8S",
        "outputId": "631fcfb1-2407-4dcf-df1e-46af0c8b4c1c"
      },
      "execution_count": null,
      "outputs": [
        {
          "output_type": "execute_result",
          "data": {
            "text/plain": [
              "8"
            ]
          },
          "metadata": {},
          "execution_count": 46
        }
      ]
    },
    {
      "cell_type": "code",
      "source": [],
      "metadata": {
        "id": "UC1pRyA0xbkL"
      },
      "execution_count": null,
      "outputs": []
    },
    {
      "cell_type": "markdown",
      "source": [
        "##연산자의 우선순위\n",
        "우리가 흔히 알고 있는거랑 같아"
      ],
      "metadata": {
        "id": "x-gMzDkyxVZa"
      }
    },
    {
      "cell_type": "markdown",
      "source": [
        "#02-3. 변수와 입력\n",
        "변수란? 값을 저장할 때 사용하는 식별자"
      ],
      "metadata": {
        "id": "JKjbJgR9xl_L"
      }
    },
    {
      "cell_type": "markdown",
      "source": [
        "##변수 만들기/ 사용하기\n",
        "변수 = 값  \n",
        ": 값을 변수에 할당한다는 의미이다"
      ],
      "metadata": {
        "id": "AVkay05cxz3A"
      }
    },
    {
      "cell_type": "code",
      "source": [
        "pi = 3.14159263\n",
        "r = 10\n",
        "\n",
        "print(2*pi*r)\n",
        "print(pi*(r**2))"
      ],
      "metadata": {
        "colab": {
          "base_uri": "https://localhost:8080/"
        },
        "id": "O8mW9qXhxOPy",
        "outputId": "8688941f-de4c-4076-9cbd-2b94e231d5e1"
      },
      "execution_count": null,
      "outputs": [
        {
          "output_type": "stream",
          "name": "stdout",
          "text": [
            "62.8318526\n",
            "314.159263\n"
          ]
        }
      ]
    },
    {
      "cell_type": "markdown",
      "source": [
        "##복합 대입 연산자"
      ],
      "metadata": {
        "id": "SSMIhovuyb5e"
      }
    },
    {
      "cell_type": "code",
      "source": [
        "a += 10"
      ],
      "metadata": {
        "colab": {
          "base_uri": "https://localhost:8080/",
          "height": 145
        },
        "id": "2TUT8m7RyXkk",
        "outputId": "d8bfa196-1141-42e6-ea8b-8dfc10862d74"
      },
      "execution_count": null,
      "outputs": [
        {
          "output_type": "error",
          "ename": "NameError",
          "evalue": "name 'a' is not defined",
          "traceback": [
            "\u001b[0;31m---------------------------------------------------------------------------\u001b[0m",
            "\u001b[0;31mNameError\u001b[0m                                 Traceback (most recent call last)",
            "\u001b[0;32m<ipython-input-49-e39ed28ecf4b>\u001b[0m in \u001b[0;36m<cell line: 1>\u001b[0;34m()\u001b[0m\n\u001b[0;32m----> 1\u001b[0;31m \u001b[0ma\u001b[0m \u001b[0;34m+=\u001b[0m \u001b[0;36m10\u001b[0m\u001b[0;34m\u001b[0m\u001b[0;34m\u001b[0m\u001b[0m\n\u001b[0m",
            "\u001b[0;31mNameError\u001b[0m: name 'a' is not defined"
          ]
        }
      ]
    },
    {
      "cell_type": "code",
      "source": [
        "number = 100"
      ],
      "metadata": {
        "id": "4J8nMVISyOdE"
      },
      "execution_count": null,
      "outputs": []
    },
    {
      "cell_type": "code",
      "source": [
        "number += 100"
      ],
      "metadata": {
        "id": "bjypgPr-yri5"
      },
      "execution_count": null,
      "outputs": []
    },
    {
      "cell_type": "code",
      "source": [
        "number"
      ],
      "metadata": {
        "colab": {
          "base_uri": "https://localhost:8080/"
        },
        "id": "wILo3qDwytG3",
        "outputId": "3c3eecb0-fadb-40fa-9435-d40eb47733ab"
      },
      "execution_count": null,
      "outputs": [
        {
          "output_type": "execute_result",
          "data": {
            "text/plain": [
              "200"
            ]
          },
          "metadata": {},
          "execution_count": 52
        }
      ]
    },
    {
      "cell_type": "code",
      "source": [
        "number //= 10"
      ],
      "metadata": {
        "id": "kDeog6lpytqP"
      },
      "execution_count": null,
      "outputs": []
    },
    {
      "cell_type": "code",
      "source": [
        "number"
      ],
      "metadata": {
        "colab": {
          "base_uri": "https://localhost:8080/"
        },
        "id": "AMvt6H2Gy0zd",
        "outputId": "0da04adf-c352-40a0-9cb3-acf819832257"
      },
      "execution_count": null,
      "outputs": [
        {
          "output_type": "execute_result",
          "data": {
            "text/plain": [
              "20"
            ]
          },
          "metadata": {},
          "execution_count": 54
        }
      ]
    },
    {
      "cell_type": "markdown",
      "source": [
        "문자열도 마찬가지로 복합 대입 연산자를 사용할 수 있음"
      ],
      "metadata": {
        "id": "SAp8s6uky49B"
      }
    },
    {
      "cell_type": "code",
      "source": [
        "string = \"안녕하세요\"\n",
        "string += \"!\""
      ],
      "metadata": {
        "id": "kmj3DCJYy1ZS"
      },
      "execution_count": null,
      "outputs": []
    },
    {
      "cell_type": "code",
      "source": [
        "string"
      ],
      "metadata": {
        "colab": {
          "base_uri": "https://localhost:8080/",
          "height": 35
        },
        "id": "H-H2y3LBy_Be",
        "outputId": "48f898b7-998d-4ba7-dcbe-4d36e99010fe"
      },
      "execution_count": null,
      "outputs": [
        {
          "output_type": "execute_result",
          "data": {
            "text/plain": [
              "'안녕하세요!'"
            ],
            "application/vnd.google.colaboratory.intrinsic+json": {
              "type": "string"
            }
          },
          "metadata": {},
          "execution_count": 56
        }
      ]
    },
    {
      "cell_type": "markdown",
      "source": [
        "##사용자 입력: input()\n",
        "파이썬은 명령 프롬프트에서 사용자로부터 데이터를 입력받을 때 input()함수를 사용한다  \n"
      ],
      "metadata": {
        "id": "eESeMBSjzB4Q"
      }
    },
    {
      "cell_type": "code",
      "source": [
        "input(\"인사말을 입력하세요> \")"
      ],
      "metadata": {
        "colab": {
          "base_uri": "https://localhost:8080/",
          "height": 53
        },
        "id": "arHNTGOry_mG",
        "outputId": "7bee690e-07c8-4aa9-9b9e-e3e4ac1d30fc"
      },
      "execution_count": null,
      "outputs": [
        {
          "name": "stdout",
          "output_type": "stream",
          "text": [
            "인사말을 입력하세요> 안녕하세요\n"
          ]
        },
        {
          "output_type": "execute_result",
          "data": {
            "text/plain": [
              "'안녕하세요'"
            ],
            "application/vnd.google.colaboratory.intrinsic+json": {
              "type": "string"
            }
          },
          "metadata": {},
          "execution_count": 57
        }
      ]
    },
    {
      "cell_type": "code",
      "source": [
        "string = input(\"인사말을 입력하세요> \")"
      ],
      "metadata": {
        "colab": {
          "base_uri": "https://localhost:8080/"
        },
        "id": "l5j-Ej7Uzlpx",
        "outputId": "9a55efad-b563-4f3b-d3e5-94088bb0eea1"
      },
      "execution_count": null,
      "outputs": [
        {
          "name": "stdout",
          "output_type": "stream",
          "text": [
            "인사말을 입력하세요> 12345\n"
          ]
        }
      ]
    },
    {
      "cell_type": "code",
      "source": [
        "print(string)"
      ],
      "metadata": {
        "colab": {
          "base_uri": "https://localhost:8080/"
        },
        "id": "h1sS2jg6z8VO",
        "outputId": "ad0707f2-8012-4086-adea-ef3d2c3b15e1"
      },
      "execution_count": null,
      "outputs": [
        {
          "output_type": "stream",
          "name": "stdout",
          "text": [
            "12345\n"
          ]
        }
      ]
    },
    {
      "cell_type": "code",
      "source": [
        "type(string) #input()함수는 사용자가 무엇을 입력해도 결과는 무조건 문자열 자료형"
      ],
      "metadata": {
        "colab": {
          "base_uri": "https://localhost:8080/"
        },
        "id": "G-cFFS5B0CYf",
        "outputId": "cf86a4bd-baaa-4742-ae2f-5e20a26b2e0f"
      },
      "execution_count": null,
      "outputs": [
        {
          "output_type": "execute_result",
          "data": {
            "text/plain": [
              "str"
            ]
          },
          "metadata": {},
          "execution_count": 64
        }
      ]
    },
    {
      "cell_type": "markdown",
      "source": [
        "##문자열을 숫자로 바꾸기"
      ],
      "metadata": {
        "id": "PKR6ieJ90wGj"
      }
    },
    {
      "cell_type": "code",
      "source": [
        "string_a = input(\"입력A> \")\n",
        "int_a = int(string_a)"
      ],
      "metadata": {
        "colab": {
          "base_uri": "https://localhost:8080/"
        },
        "id": "Rz3VKTMR0i50",
        "outputId": "0c04da33-0f0e-464d-d6fd-2bc4ad37c936"
      },
      "execution_count": null,
      "outputs": [
        {
          "name": "stdout",
          "output_type": "stream",
          "text": [
            "입력A> 234\n"
          ]
        }
      ]
    },
    {
      "cell_type": "code",
      "source": [
        "type(string_a)"
      ],
      "metadata": {
        "colab": {
          "base_uri": "https://localhost:8080/"
        },
        "id": "KByBebPm0_wg",
        "outputId": "eeba8e7e-ee57-4894-8c94-5f4429f9543b"
      },
      "execution_count": null,
      "outputs": [
        {
          "output_type": "execute_result",
          "data": {
            "text/plain": [
              "str"
            ]
          },
          "metadata": {},
          "execution_count": 66
        }
      ]
    },
    {
      "cell_type": "code",
      "source": [
        "type(int_a)"
      ],
      "metadata": {
        "colab": {
          "base_uri": "https://localhost:8080/"
        },
        "id": "XZ1ltxRe1Fs3",
        "outputId": "6ffbc6d8-7bd3-4c87-a2e8-6d50b5b19cdc"
      },
      "execution_count": null,
      "outputs": [
        {
          "output_type": "execute_result",
          "data": {
            "text/plain": [
              "int"
            ]
          },
          "metadata": {},
          "execution_count": 67
        }
      ]
    },
    {
      "cell_type": "code",
      "source": [
        "int_a + 3"
      ],
      "metadata": {
        "colab": {
          "base_uri": "https://localhost:8080/"
        },
        "id": "hmlC1LXO1G5q",
        "outputId": "a744691c-e8f9-40f8-b48f-4828cea163c7"
      },
      "execution_count": null,
      "outputs": [
        {
          "output_type": "execute_result",
          "data": {
            "text/plain": [
              "237"
            ]
          },
          "metadata": {},
          "execution_count": 68
        }
      ]
    },
    {
      "cell_type": "code",
      "source": [
        "output_a = int(\"52\")\n",
        "output_b = float(\"52.273\")\n",
        "\n",
        "print(type(output_a))\n",
        "print(type(output_b))"
      ],
      "metadata": {
        "colab": {
          "base_uri": "https://localhost:8080/"
        },
        "id": "6HZ7XoBK1KG3",
        "outputId": "535d22c2-1006-496b-f098-570bb3f5a225"
      },
      "execution_count": null,
      "outputs": [
        {
          "output_type": "stream",
          "name": "stdout",
          "text": [
            "<class 'int'>\n",
            "<class 'float'>\n"
          ]
        }
      ]
    },
    {
      "cell_type": "code",
      "source": [
        "input_a = float(input(\"첫 번째 숫자>\"))\n",
        "input_b = float(input(\"두 번째 숫자>\"))"
      ],
      "metadata": {
        "colab": {
          "base_uri": "https://localhost:8080/"
        },
        "id": "jRUDYBTT1VTi",
        "outputId": "bd09a64e-e438-4253-fa40-d2e4a99343e8"
      },
      "execution_count": null,
      "outputs": [
        {
          "name": "stdout",
          "output_type": "stream",
          "text": [
            "첫 번째 숫자>123\n",
            "두 번째 숫자>47\n"
          ]
        }
      ]
    },
    {
      "cell_type": "code",
      "source": [
        "input_a + input_b"
      ],
      "metadata": {
        "colab": {
          "base_uri": "https://localhost:8080/"
        },
        "id": "TFlWrze218gN",
        "outputId": "2f2fc9d2-9b6a-4cd3-e8d3-b37112bbb614"
      },
      "execution_count": null,
      "outputs": [
        {
          "output_type": "execute_result",
          "data": {
            "text/plain": [
              "170.0"
            ]
          },
          "metadata": {},
          "execution_count": 72
        }
      ]
    },
    {
      "cell_type": "markdown",
      "source": [
        "##숫자를 문자열로 바꾸기"
      ],
      "metadata": {
        "id": "lOSewXk12Hb5"
      }
    },
    {
      "cell_type": "code",
      "source": [
        "output_a = str(52)\n",
        "output_b = str(52.273)\n",
        "\n",
        "print(type(output_a))"
      ],
      "metadata": {
        "colab": {
          "base_uri": "https://localhost:8080/"
        },
        "id": "LgaYIL4Y2CKd",
        "outputId": "d54c487f-e918-456b-bf7a-0a2431824526"
      },
      "execution_count": null,
      "outputs": [
        {
          "output_type": "stream",
          "name": "stdout",
          "text": [
            "<class 'str'>\n"
          ]
        }
      ]
    },
    {
      "cell_type": "code",
      "source": [
        "print(type(output_b))"
      ],
      "metadata": {
        "colab": {
          "base_uri": "https://localhost:8080/"
        },
        "id": "BJGqb8K72V6F",
        "outputId": "dc19c008-6697-4d28-e9c9-69e7ba3d2b8f"
      },
      "execution_count": null,
      "outputs": [
        {
          "output_type": "stream",
          "name": "stdout",
          "text": [
            "<class 'str'>\n"
          ]
        }
      ]
    },
    {
      "cell_type": "code",
      "source": [
        "output_a + output_b"
      ],
      "metadata": {
        "colab": {
          "base_uri": "https://localhost:8080/",
          "height": 35
        },
        "id": "n-9Imhgr2YGA",
        "outputId": "b8f5a269-8781-4d46-ae3e-6fd531883f80"
      },
      "execution_count": null,
      "outputs": [
        {
          "output_type": "execute_result",
          "data": {
            "text/plain": [
              "'5252.273'"
            ],
            "application/vnd.google.colaboratory.intrinsic+json": {
              "type": "string"
            }
          },
          "metadata": {},
          "execution_count": 76
        }
      ]
    },
    {
      "cell_type": "markdown",
      "source": [
        "##inch 단위를 cm 단위로 변경하기"
      ],
      "metadata": {
        "id": "3gWG_qrK2gGa"
      }
    },
    {
      "cell_type": "code",
      "source": [
        "raw_input = input(\"inch 단위의 숫자를 입력해주세요: \")"
      ],
      "metadata": {
        "colab": {
          "base_uri": "https://localhost:8080/"
        },
        "id": "-bvUXcEZ2dOi",
        "outputId": "dfe8406f-b0e9-4658-975e-bec0d34b023e"
      },
      "execution_count": null,
      "outputs": [
        {
          "name": "stdout",
          "output_type": "stream",
          "text": [
            "inch 단위의 숫자를 입력해주세요: 27\n"
          ]
        }
      ]
    },
    {
      "cell_type": "code",
      "source": [
        "inch = int(raw_input) ##input함수 넣었으니깐 int로 바꿔줘야 해\n",
        "cm = inch * 2.54\n",
        "print(inch)"
      ],
      "metadata": {
        "colab": {
          "base_uri": "https://localhost:8080/"
        },
        "id": "npNdz3mk2n2K",
        "outputId": "5b1df967-694c-47e4-8bfe-abf9ebdc49a3"
      },
      "execution_count": null,
      "outputs": [
        {
          "output_type": "stream",
          "name": "stdout",
          "text": [
            "27\n"
          ]
        }
      ]
    },
    {
      "cell_type": "markdown",
      "source": [
        "#02-4. 숫자와 문자열의 다양한 기능\n",
        "\n",
        "앞으로 여러 가지 문자열 기능들을 살펴볼 텐데 절대로 모두 외우려고 하지 말자!"
      ],
      "metadata": {
        "id": "hKBDnLDi23fX"
      }
    },
    {
      "cell_type": "markdown",
      "source": [
        "##문자열의 format() 함수\n",
        "앞쪽에 있는 문자열의 {}기호가 format() 함수 괄호 앙네 있는 매개변수로 차례로 대치되면서 **숫자가 문자열이 된다**"
      ],
      "metadata": {
        "id": "Ji25Y6dv-W8a"
      }
    },
    {
      "cell_type": "code",
      "source": [
        "\"{}\".format(10)\n",
        "\"{} {}\".format(10,20) #중괄호의ㅡ 개수와 format 함수 괄호 안 매개변수의 개수는 반드시 같아야 함"
      ],
      "metadata": {
        "id": "iXmxyuN020Zi",
        "colab": {
          "base_uri": "https://localhost:8080/",
          "height": 35
        },
        "outputId": "7ff39d9f-e2ca-4246-a98e-c843ed0ca279"
      },
      "execution_count": null,
      "outputs": [
        {
          "output_type": "execute_result",
          "data": {
            "text/plain": [
              "'10 20'"
            ],
            "application/vnd.google.colaboratory.intrinsic+json": {
              "type": "string"
            }
          },
          "metadata": {},
          "execution_count": 1
        }
      ]
    },
    {
      "cell_type": "code",
      "source": [
        "string_a = \"{}\".format(10)\n",
        "print(string_a)\n",
        "print(type(string_a))"
      ],
      "metadata": {
        "colab": {
          "base_uri": "https://localhost:8080/"
        },
        "id": "coiTneAQ-tY6",
        "outputId": "85c003d4-8672-424d-a884-a60a93d7b20b"
      },
      "execution_count": null,
      "outputs": [
        {
          "output_type": "stream",
          "name": "stdout",
          "text": [
            "10\n",
            "<class 'str'>\n"
          ]
        }
      ]
    },
    {
      "cell_type": "code",
      "source": [
        "#format()함수로 숫자를 문자열로 변환하기\n",
        "format_a = \"{}만원\".format(5000)\n",
        "format_b = \"파이썬 열공하여 첫 연봉 {}만 원 만들기\".format(5000)\n",
        "format_c = \"{} {} {}\".format(3000, 4000, 5000)\n",
        "format_d = \"{} {} {}\".format(1, \"문자열\", True)"
      ],
      "metadata": {
        "id": "8spzBfwD_I6h"
      },
      "execution_count": null,
      "outputs": []
    },
    {
      "cell_type": "code",
      "source": [
        "print(format_a)\n",
        "print(format_b)\n",
        "print(format_c)\n",
        "print(format_d)"
      ],
      "metadata": {
        "colab": {
          "base_uri": "https://localhost:8080/"
        },
        "id": "NBHAOC-2_oya",
        "outputId": "51939660-a4b5-4548-a9ba-811a14ab193d"
      },
      "execution_count": null,
      "outputs": [
        {
          "output_type": "stream",
          "name": "stdout",
          "text": [
            "5000만원\n",
            "파이썬 열공하여 첫 연봉 5000만 원 만들기\n",
            "3000 4000 5000\n",
            "1 문자열 True\n"
          ]
        }
      ]
    },
    {
      "cell_type": "code",
      "source": [
        "print(type(format_d))"
      ],
      "metadata": {
        "colab": {
          "base_uri": "https://localhost:8080/"
        },
        "id": "CMJ2RluI_s3R",
        "outputId": "517c4449-0fd7-46a1-b208-0b9a48a8e2e3"
      },
      "execution_count": null,
      "outputs": [
        {
          "output_type": "stream",
          "name": "stdout",
          "text": [
            "<class 'str'>\n"
          ]
        }
      ]
    },
    {
      "cell_type": "markdown",
      "source": [
        "##format()함수의 다양한 기능\n",
        "\n"
      ],
      "metadata": {
        "id": "z8aoFHcF_9i9"
      }
    },
    {
      "cell_type": "markdown",
      "source": [
        "- 정수 출력의 다양한 형태"
      ],
      "metadata": {
        "id": "zEYjphtlDKVP"
      }
    },
    {
      "cell_type": "code",
      "source": [
        "# 정수\n",
        "output_a = \"{:d}\".format(52)"
      ],
      "metadata": {
        "id": "M9Olb6cV_6U6"
      },
      "execution_count": null,
      "outputs": []
    },
    {
      "cell_type": "code",
      "source": [
        "output_a"
      ],
      "metadata": {
        "colab": {
          "base_uri": "https://localhost:8080/",
          "height": 35
        },
        "id": "r3Uj4MNvBFEU",
        "outputId": "ad9eee7f-996a-495f-a853-ecc65e72f6f0"
      },
      "execution_count": null,
      "outputs": [
        {
          "output_type": "execute_result",
          "data": {
            "text/plain": [
              "'52'"
            ],
            "application/vnd.google.colaboratory.intrinsic+json": {
              "type": "string"
            }
          },
          "metadata": {},
          "execution_count": 7
        }
      ]
    },
    {
      "cell_type": "code",
      "source": [
        "output_b = \"{:5d}\".format(52) #특정 칸에 출력하기"
      ],
      "metadata": {
        "id": "aS_Xdt6VBGzc"
      },
      "execution_count": null,
      "outputs": []
    },
    {
      "cell_type": "code",
      "source": [
        "output_b #5칸을 빈칸으로 잡고 뒤에서부터 52라는 숫자를 채워"
      ],
      "metadata": {
        "colab": {
          "base_uri": "https://localhost:8080/",
          "height": 35
        },
        "id": "tSxjx2leBRtc",
        "outputId": "10d59316-80ed-4aec-b614-bc58a12e65cf"
      },
      "execution_count": null,
      "outputs": [
        {
          "output_type": "execute_result",
          "data": {
            "text/plain": [
              "'   52'"
            ],
            "application/vnd.google.colaboratory.intrinsic+json": {
              "type": "string"
            }
          },
          "metadata": {},
          "execution_count": 9
        }
      ]
    },
    {
      "cell_type": "code",
      "source": [
        "output_d = \"{:05d}\".format(52) #앞의 빈 곳을 0으로 채워\n",
        "print(output_d)"
      ],
      "metadata": {
        "colab": {
          "base_uri": "https://localhost:8080/"
        },
        "id": "Pxkbs52YBSvc",
        "outputId": "d49887db-a6c7-44ac-ce63-4c18e04af86a"
      },
      "execution_count": null,
      "outputs": [
        {
          "output_type": "stream",
          "name": "stdout",
          "text": [
            "00052\n"
          ]
        }
      ]
    },
    {
      "cell_type": "code",
      "source": [
        "output_e = \"{:05d}\".format(-52) #맨 앞자리를 부호로 채우고 나머지 빈 곳은 0으로 채움\n",
        "print(output_e)"
      ],
      "metadata": {
        "colab": {
          "base_uri": "https://localhost:8080/"
        },
        "id": "zNU-gs-XBdQE",
        "outputId": "a609b0b5-9d5f-457c-ad2e-7ae278655d2d"
      },
      "execution_count": null,
      "outputs": [
        {
          "output_type": "stream",
          "name": "stdout",
          "text": [
            "-0052\n"
          ]
        }
      ]
    },
    {
      "cell_type": "code",
      "source": [
        "#기호와 함께 출력하기\n",
        "output_f = \"{:+d}\".format(52)\n",
        "print(output_f)"
      ],
      "metadata": {
        "colab": {
          "base_uri": "https://localhost:8080/"
        },
        "id": "ZZOm1uEHB0WW",
        "outputId": "c2a02a5f-dbeb-49da-cc24-b2ce85766597"
      },
      "execution_count": null,
      "outputs": [
        {
          "output_type": "stream",
          "name": "stdout",
          "text": [
            "+52\n"
          ]
        }
      ]
    },
    {
      "cell_type": "code",
      "source": [
        "output_g = \"{:+d}\".format(-52) #+를 붙이면 기호를 표시해\n",
        "print(output_g)"
      ],
      "metadata": {
        "colab": {
          "base_uri": "https://localhost:8080/"
        },
        "id": "llt9ch_9CPSF",
        "outputId": "e514e3c4-cef6-4034-aef1-c4cb81f60ccc"
      },
      "execution_count": null,
      "outputs": [
        {
          "output_type": "stream",
          "name": "stdout",
          "text": [
            "-52\n"
          ]
        }
      ]
    },
    {
      "cell_type": "code",
      "source": [
        "output_h = \"{: d}\".format(52) #기호 부분 공백\n",
        "print(output_h)"
      ],
      "metadata": {
        "colab": {
          "base_uri": "https://localhost:8080/"
        },
        "id": "mH-6l-jyCVSN",
        "outputId": "08f5342e-9795-4848-8817-d570241084cb"
      },
      "execution_count": null,
      "outputs": [
        {
          "output_type": "stream",
          "name": "stdout",
          "text": [
            " 52\n"
          ]
        }
      ]
    },
    {
      "cell_type": "markdown",
      "source": [
        "- 부동 소수점 출력의 다양한 형태  \n",
        "{:f}를 사용!"
      ],
      "metadata": {
        "id": "k34CygylDNWk"
      }
    },
    {
      "cell_type": "code",
      "source": [
        "output_a = \"{:f}\".format(52.273)"
      ],
      "metadata": {
        "id": "wj_6GOP0CrwO"
      },
      "execution_count": null,
      "outputs": []
    },
    {
      "cell_type": "code",
      "source": [
        "output_a"
      ],
      "metadata": {
        "colab": {
          "base_uri": "https://localhost:8080/",
          "height": 35
        },
        "id": "FAVwWPrVDYdP",
        "outputId": "c96a96f2-d6cd-4a4e-e2fc-cce81e897f55"
      },
      "execution_count": null,
      "outputs": [
        {
          "output_type": "execute_result",
          "data": {
            "text/plain": [
              "'52.273000'"
            ],
            "application/vnd.google.colaboratory.intrinsic+json": {
              "type": "string"
            }
          },
          "metadata": {},
          "execution_count": 21
        }
      ]
    },
    {
      "cell_type": "code",
      "source": [
        "output_b = \"{:15f}\".format(52.273)\n",
        "print(output_b)"
      ],
      "metadata": {
        "colab": {
          "base_uri": "https://localhost:8080/"
        },
        "id": "ecynpOPeDZav",
        "outputId": "1f992cc1-4977-448d-9a08-ba4555dc4f1f"
      },
      "execution_count": null,
      "outputs": [
        {
          "output_type": "stream",
          "name": "stdout",
          "text": [
            "      52.273000\n"
          ]
        }
      ]
    },
    {
      "cell_type": "code",
      "source": [
        "output_a = \"{:15.3f}\".format(52.273) #소수점 셋째자리까지만!\n",
        "print(output_a)"
      ],
      "metadata": {
        "colab": {
          "base_uri": "https://localhost:8080/"
        },
        "id": "Eof0RuZyDw-X",
        "outputId": "3cf8a272-ef84-4466-a431-f30c1d6b1944"
      },
      "execution_count": null,
      "outputs": [
        {
          "output_type": "stream",
          "name": "stdout",
          "text": [
            "         52.273\n"
          ]
        }
      ]
    },
    {
      "cell_type": "markdown",
      "source": [
        "- 의미 없는 소수점 제거하기  \n",
        "{:g} 사용!"
      ],
      "metadata": {
        "id": "7JXvEjl1D_wl"
      }
    },
    {
      "cell_type": "code",
      "source": [
        "output_a = 52.0\n",
        "output_b = \"{:g}\".format(output_a)\n",
        "print(output_b)"
      ],
      "metadata": {
        "colab": {
          "base_uri": "https://localhost:8080/"
        },
        "id": "BPYxKwx7D64H",
        "outputId": "f75acfdc-d735-430a-c5f2-cc55d2733763"
      },
      "execution_count": null,
      "outputs": [
        {
          "output_type": "stream",
          "name": "stdout",
          "text": [
            "52\n"
          ]
        }
      ]
    },
    {
      "cell_type": "markdown",
      "source": [
        "##대소문자 바꾸기: upper()와 lower()"
      ],
      "metadata": {
        "id": "tvdiVnQqEL5s"
      }
    },
    {
      "cell_type": "code",
      "source": [
        "a = \"Hello Python Programming\"\n",
        "a.upper()"
      ],
      "metadata": {
        "colab": {
          "base_uri": "https://localhost:8080/",
          "height": 35
        },
        "id": "5N8sm7vHEHgg",
        "outputId": "0e03f986-ced8-4a9c-ddd3-7a0d5ef6ad65"
      },
      "execution_count": null,
      "outputs": [
        {
          "output_type": "execute_result",
          "data": {
            "text/plain": [
              "'HELLO PYTHON PROGRAMMING'"
            ],
            "application/vnd.google.colaboratory.intrinsic+json": {
              "type": "string"
            }
          },
          "metadata": {},
          "execution_count": 28
        }
      ]
    },
    {
      "cell_type": "code",
      "source": [
        "a.lower() #이 때 원본은 바뀌지 않아"
      ],
      "metadata": {
        "colab": {
          "base_uri": "https://localhost:8080/",
          "height": 35
        },
        "id": "TV153xJMEViA",
        "outputId": "6518275f-73a9-453b-ea83-2c471c2cf975"
      },
      "execution_count": null,
      "outputs": [
        {
          "output_type": "execute_result",
          "data": {
            "text/plain": [
              "'hello python programming'"
            ],
            "application/vnd.google.colaboratory.intrinsic+json": {
              "type": "string"
            }
          },
          "metadata": {},
          "execution_count": 29
        }
      ]
    },
    {
      "cell_type": "code",
      "source": [
        "a"
      ],
      "metadata": {
        "colab": {
          "base_uri": "https://localhost:8080/",
          "height": 35
        },
        "id": "UdP9b4D3Ear4",
        "outputId": "65f6e954-aa3d-4637-90b0-d637a964418e"
      },
      "execution_count": null,
      "outputs": [
        {
          "output_type": "execute_result",
          "data": {
            "text/plain": [
              "'Hello Python Programming'"
            ],
            "application/vnd.google.colaboratory.intrinsic+json": {
              "type": "string"
            }
          },
          "metadata": {},
          "execution_count": 30
        }
      ]
    },
    {
      "cell_type": "markdown",
      "source": [
        "##문자열 양옆의 공백 제거하기: strip()\n",
        "- strip(): 문자열 양옆의 공백 제거\n",
        "- lstrip(): 왼쪽 공백 제거\n",
        "- rstrip(): 오른쪽 공백 제거"
      ],
      "metadata": {
        "id": "WcfRx0RMEj4a"
      }
    },
    {
      "cell_type": "code",
      "source": [
        "input_a = \"\"\"\n",
        "  안녕하세요\n",
        "문자열의 함수를 알아봅니다\n",
        "\"\"\"\n",
        "print(input_a)\n",
        "print(input_a.strip())"
      ],
      "metadata": {
        "colab": {
          "base_uri": "https://localhost:8080/"
        },
        "id": "qaA7uYrDEiRR",
        "outputId": "9bf1c0a9-6ccf-4336-8e61-1f9b53ee1c41"
      },
      "execution_count": null,
      "outputs": [
        {
          "output_type": "stream",
          "name": "stdout",
          "text": [
            "\n",
            "  안녕하세요\n",
            "문자열의 함수를 알아봅니다\n",
            "\n",
            "안녕하세요\n",
            "문자열의 함수를 알아봅니다\n"
          ]
        }
      ]
    },
    {
      "cell_type": "code",
      "source": [
        "print(input_a.strip())"
      ],
      "metadata": {
        "colab": {
          "base_uri": "https://localhost:8080/"
        },
        "id": "J3U8d78SE-1r",
        "outputId": "7c709440-b972-4f0e-f9b1-0da404ed356f"
      },
      "execution_count": null,
      "outputs": [
        {
          "output_type": "stream",
          "name": "stdout",
          "text": [
            "안녕하세요\n",
            "문자열의 함수를 알아봅니다\n"
          ]
        }
      ]
    },
    {
      "cell_type": "markdown",
      "source": [
        "##문자열의 구성 파악하기: isOO()\n",
        "모든 걸 다 외우려고 하진 마..."
      ],
      "metadata": {
        "id": "x6AB4o_MFyu7"
      }
    },
    {
      "cell_type": "code",
      "source": [
        "print(\"TrainA10\".isalnum())"
      ],
      "metadata": {
        "colab": {
          "base_uri": "https://localhost:8080/"
        },
        "id": "QDL8wjqqE_dq",
        "outputId": "ee121d72-75c3-486e-b933-af62a400f2e2"
      },
      "execution_count": null,
      "outputs": [
        {
          "output_type": "stream",
          "name": "stdout",
          "text": [
            "True\n"
          ]
        }
      ]
    },
    {
      "cell_type": "code",
      "source": [
        "print(\"10\".isdigit()) #문자열이 숫자로 인식될 수 있는지"
      ],
      "metadata": {
        "colab": {
          "base_uri": "https://localhost:8080/"
        },
        "id": "SydLNdVlGIUz",
        "outputId": "54d876e3-3364-437a-c2c2-b785d7612fa6"
      },
      "execution_count": null,
      "outputs": [
        {
          "output_type": "stream",
          "name": "stdout",
          "text": [
            "True\n"
          ]
        }
      ]
    },
    {
      "cell_type": "code",
      "source": [
        "print(\"a\".isdigit())"
      ],
      "metadata": {
        "colab": {
          "base_uri": "https://localhost:8080/"
        },
        "id": "DxGQ8VR0GKOL",
        "outputId": "f72eda98-fa74-4cea-f4c8-2b0e6c4023a4"
      },
      "execution_count": null,
      "outputs": [
        {
          "output_type": "stream",
          "name": "stdout",
          "text": [
            "False\n"
          ]
        }
      ]
    },
    {
      "cell_type": "markdown",
      "source": [
        "##문자열 찾기: find()와 rfind()\n",
        "- find(): 왼쪽부터 찾아서 처음 등장하는 위치를 찾음\n",
        "- rfind(): 오른쪽부터~"
      ],
      "metadata": {
        "id": "qwyHO5R7GQkA"
      }
    },
    {
      "cell_type": "code",
      "source": [
        "output_a = \"안녕안녕하세요\".find(\"안녕\")"
      ],
      "metadata": {
        "id": "Tz9qu1xFGPPc"
      },
      "execution_count": null,
      "outputs": []
    },
    {
      "cell_type": "code",
      "source": [
        "print(output_a)"
      ],
      "metadata": {
        "colab": {
          "base_uri": "https://localhost:8080/"
        },
        "id": "2zDOsrMRGc39",
        "outputId": "7fa2e5aa-ef8b-40f4-da51-4ce97fe3aec0"
      },
      "execution_count": null,
      "outputs": [
        {
          "output_type": "stream",
          "name": "stdout",
          "text": [
            "0\n"
          ]
        }
      ]
    },
    {
      "cell_type": "code",
      "source": [
        "output_b = \"안녕안녕하세요\".rfind(\"안녕\")\n",
        "print(output_b)"
      ],
      "metadata": {
        "colab": {
          "base_uri": "https://localhost:8080/"
        },
        "id": "tn8oMq_MGd97",
        "outputId": "8752a1c5-88d8-4398-dd98-075a48432825"
      },
      "execution_count": null,
      "outputs": [
        {
          "output_type": "stream",
          "name": "stdout",
          "text": [
            "2\n"
          ]
        }
      ]
    },
    {
      "cell_type": "markdown",
      "source": [
        "##문자열과 in  연산자"
      ],
      "metadata": {
        "id": "C7iHeJDNGlyc"
      }
    },
    {
      "cell_type": "code",
      "source": [
        "print(\"안녕\" in \"안녕하세요\")"
      ],
      "metadata": {
        "colab": {
          "base_uri": "https://localhost:8080/"
        },
        "id": "BlKokuBQGiEL",
        "outputId": "4254a719-0a61-4c92-b835-a4502d918210"
      },
      "execution_count": null,
      "outputs": [
        {
          "output_type": "stream",
          "name": "stdout",
          "text": [
            "True\n"
          ]
        }
      ]
    },
    {
      "cell_type": "code",
      "source": [
        "print(\"잘자\" in \"안녕하세요\")"
      ],
      "metadata": {
        "colab": {
          "base_uri": "https://localhost:8080/"
        },
        "id": "3MG3msBkGr_F",
        "outputId": "acf7bf6d-bd22-4a1a-8887-7c765ace6d73"
      },
      "execution_count": null,
      "outputs": [
        {
          "output_type": "stream",
          "name": "stdout",
          "text": [
            "False\n"
          ]
        }
      ]
    },
    {
      "cell_type": "markdown",
      "source": [
        "##문자열 자르기: split()"
      ],
      "metadata": {
        "id": "ONQauwkUGw_x"
      }
    },
    {
      "cell_type": "code",
      "source": [
        "a = \"10 20 30 40 50\".split(\" \") #split()함수 괄호 안의 문자열인 공백을 기준으로 자른다"
      ],
      "metadata": {
        "id": "KCJ_FjsPGwId"
      },
      "execution_count": null,
      "outputs": []
    },
    {
      "cell_type": "code",
      "source": [
        "print(a) #실행결과로 리스트가 나온다"
      ],
      "metadata": {
        "colab": {
          "base_uri": "https://localhost:8080/"
        },
        "id": "cs-vnFq6G4YM",
        "outputId": "a6ea05a9-f665-4b22-9cd1-db66646aa73f"
      },
      "execution_count": null,
      "outputs": [
        {
          "output_type": "stream",
          "name": "stdout",
          "text": [
            "['1', ' 2', ' 3', ' 4', ' 5', '']\n"
          ]
        }
      ]
    },
    {
      "cell_type": "code",
      "source": [
        "a = \"10 20 30 40 50\".split(\"0\")"
      ],
      "metadata": {
        "id": "2IaMTfxaG5Ns"
      },
      "execution_count": null,
      "outputs": []
    },
    {
      "cell_type": "code",
      "source": [
        "a"
      ],
      "metadata": {
        "colab": {
          "base_uri": "https://localhost:8080/"
        },
        "id": "NlVojT_vG_sM",
        "outputId": "0db65211-a529-426c-cae4-27b7d4ed8639"
      },
      "execution_count": null,
      "outputs": [
        {
          "output_type": "execute_result",
          "data": {
            "text/plain": [
              "['1', ' 2', ' 3', ' 4', ' 5', '']"
            ]
          },
          "metadata": {},
          "execution_count": 56
        }
      ]
    },
    {
      "cell_type": "code",
      "source": [],
      "metadata": {
        "id": "Pg-qQqnHHCIc"
      },
      "execution_count": null,
      "outputs": []
    }
  ]
}