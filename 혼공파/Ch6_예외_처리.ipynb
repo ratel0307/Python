{
  "nbformat": 4,
  "nbformat_minor": 0,
  "metadata": {
    "colab": {
      "provenance": [],
      "toc_visible": true,
      "authorship_tag": "ABX9TyOvW+QZXhnDIsyqbroLRibn",
      "include_colab_link": true
    },
    "kernelspec": {
      "name": "python3",
      "display_name": "Python 3"
    },
    "language_info": {
      "name": "python"
    }
  },
  "cells": [
    {
      "cell_type": "markdown",
      "metadata": {
        "id": "view-in-github",
        "colab_type": "text"
      },
      "source": [
        "<a href=\"https://colab.research.google.com/github/ratel0307/Python/blob/main/Ch6_%EC%98%88%EC%99%B8_%EC%B2%98%EB%A6%AC.ipynb\" target=\"_parent\"><img src=\"https://colab.research.google.com/assets/colab-badge.svg\" alt=\"Open In Colab\"/></a>"
      ]
    },
    {
      "cell_type": "markdown",
      "source": [
        "#06-1. 구문 오류와 예외"
      ],
      "metadata": {
        "id": "1C5KR9ajMboQ"
      }
    },
    {
      "cell_type": "markdown",
      "source": [
        "##오류의 종류"
      ],
      "metadata": {
        "id": "IWu8aUopMpuK"
      }
    },
    {
      "cell_type": "code",
      "execution_count": null,
      "metadata": {
        "id": "yb6NADHyMXYy"
      },
      "outputs": [],
      "source": [
        "#오류의 종류\n",
        "#1. 구문 오류: 프로그램 실행 전에 발생하는 오류\n",
        "#2. 예외 또는 런타임 오류: 프로그램 실행 전에 발행하는 오류"
      ]
    },
    {
      "cell_type": "code",
      "source": [
        "#구문 오류"
      ],
      "metadata": {
        "id": "WeYXH-YzM1sm"
      },
      "execution_count": null,
      "outputs": []
    },
    {
      "cell_type": "code",
      "source": [
        "#SyntaxError: 구문에 문제가 있어 프로그램이 실행조차 되지 않는 오류"
      ],
      "metadata": {
        "id": "D4kG1WDmM23H"
      },
      "execution_count": null,
      "outputs": []
    },
    {
      "cell_type": "code",
      "source": [
        "#예외"
      ],
      "metadata": {
        "id": "jWkbePaWOBHp"
      },
      "execution_count": null,
      "outputs": []
    },
    {
      "cell_type": "code",
      "source": [
        "print(\"1\")\n",
        "\n",
        "list_a[1] #NameError 발생"
      ],
      "metadata": {
        "colab": {
          "base_uri": "https://localhost:8080/",
          "height": 201
        },
        "id": "33Ju4yl5OBt3",
        "outputId": "43f2c0d9-bd7a-463c-8f7b-0affacb3910f"
      },
      "execution_count": null,
      "outputs": [
        {
          "output_type": "stream",
          "name": "stdout",
          "text": [
            "1\n"
          ]
        },
        {
          "output_type": "error",
          "ename": "NameError",
          "evalue": "name 'list_a' is not defined",
          "traceback": [
            "\u001b[0;31m---------------------------------------------------------------------------\u001b[0m",
            "\u001b[0;31mNameError\u001b[0m                                 Traceback (most recent call last)",
            "\u001b[0;32m<ipython-input-6-75b08f07552a>\u001b[0m in \u001b[0;36m<cell line: 3>\u001b[0;34m()\u001b[0m\n\u001b[1;32m      1\u001b[0m \u001b[0mprint\u001b[0m\u001b[0;34m(\u001b[0m\u001b[0;34m\"1\"\u001b[0m\u001b[0;34m)\u001b[0m\u001b[0;34m\u001b[0m\u001b[0;34m\u001b[0m\u001b[0m\n\u001b[1;32m      2\u001b[0m \u001b[0;34m\u001b[0m\u001b[0m\n\u001b[0;32m----> 3\u001b[0;31m \u001b[0mlist_a\u001b[0m\u001b[0;34m[\u001b[0m\u001b[0;36m1\u001b[0m\u001b[0;34m]\u001b[0m \u001b[0;31m#NameError 발생\u001b[0m\u001b[0;34m\u001b[0m\u001b[0;34m\u001b[0m\u001b[0m\n\u001b[0m",
            "\u001b[0;31mNameError\u001b[0m: name 'list_a' is not defined"
          ]
        }
      ]
    },
    {
      "cell_type": "markdown",
      "source": [
        "##기본 예외 처리\n",
        "- 예외 처리: 예외를 해결하는 모든 것으로, 다음 2가지 방법으로 나뉨\n",
        "  - 조건문을 사용하는 방법\n",
        "  - try 구문을 사용하는 방법"
      ],
      "metadata": {
        "id": "YhtRNxW1OUL2"
      }
    },
    {
      "cell_type": "code",
      "source": [
        "#조건문을 사용하는 방법 -> 기본 예외 처리"
      ],
      "metadata": {
        "id": "pDpV6G78OMCW"
      },
      "execution_count": null,
      "outputs": []
    },
    {
      "cell_type": "code",
      "source": [
        "a = input(\"정수 입력> \")\n",
        "\n",
        "if a.isdigit():    #isdigit() 함수: 숫자라면 True, 문자열 하나라도 있으면 False\n",
        "  b = int(a)\n",
        "  print(\"원의 반지름:\", b)\n",
        "else:\n",
        "  print(\"정수를 입력하지 않았습니다\")"
      ],
      "metadata": {
        "colab": {
          "base_uri": "https://localhost:8080/"
        },
        "id": "wCSpP9kZOfpo",
        "outputId": "31d8df99-f122-4812-8b5a-9bdeb5d8f772"
      },
      "execution_count": null,
      "outputs": [
        {
          "output_type": "stream",
          "name": "stdout",
          "text": [
            "정수 입력> 안녕\n",
            "정수를 입력하지 않았습니다\n"
          ]
        }
      ]
    },
    {
      "cell_type": "markdown",
      "source": [
        "##try except 구문"
      ],
      "metadata": {
        "id": "oCz7-Fr5RNm_"
      }
    },
    {
      "cell_type": "code",
      "source": [
        "#try:\n",
        "  #예외가 발생할 가능성이 있는 코드\n",
        "#except:\n",
        "  #예외가 발생했을 때 실행할 코드"
      ],
      "metadata": {
        "id": "ZWeuhNqrQ740"
      },
      "execution_count": null,
      "outputs": []
    },
    {
      "cell_type": "code",
      "source": [
        "try:\n",
        "  number_input_a = int(input(\"정수 입력> \")) #예외가 발생할 가능성이 있는 코드\n",
        "  print(\"원의 반지름:\", number_input_a)\n",
        "except:\n",
        "  print(\"무언가 잘못되었습니다.\")"
      ],
      "metadata": {
        "colab": {
          "base_uri": "https://localhost:8080/"
        },
        "id": "UDmXkGt0TQcv",
        "outputId": "9da5376f-776a-4a02-e3ce-6a1d6bf11b6f"
      },
      "execution_count": null,
      "outputs": [
        {
          "output_type": "stream",
          "name": "stdout",
          "text": [
            "정수 입력> 헬로우\n",
            "무언가 잘못되었습니다.\n"
          ]
        }
      ]
    },
    {
      "cell_type": "code",
      "source": [
        "list_input_a = [\"52\", \"273\", \"32\", \"스파이\", \"103\"]\n",
        "\n",
        "list_number = []\n",
        "for item in list_input_a:\n",
        "  try:\n",
        "    float(item)\n",
        "    list_number.append(item)\n",
        "  except:\n",
        "    pass\n",
        "\n",
        "print(\"{} 내부에 있는 숫자는\".format(list_input_a))\n",
        "print(\"{}입니다.\".format(list_number))"
      ],
      "metadata": {
        "colab": {
          "base_uri": "https://localhost:8080/"
        },
        "id": "ZwH5udiDTq8O",
        "outputId": "8ccac2c1-8444-4642-dd2e-dcda44805b02"
      },
      "execution_count": null,
      "outputs": [
        {
          "output_type": "stream",
          "name": "stdout",
          "text": [
            "['52', '273', '32', '스파이', '103'] 내부에 있는 숫자는\n",
            "['52', '273', '32', '103']입니다.\n"
          ]
        }
      ]
    },
    {
      "cell_type": "markdown",
      "source": [
        "##try except else 구문\n",
        "- try: 예외가 발생할 가능성이 있는 코드\n",
        "- except: 예외가 발생했을 때 실행할 코드\n",
        "- else: 예외가 발생하지 않았을 때 실행할 코드"
      ],
      "metadata": {
        "id": "yEs-QIlqU1dS"
      }
    },
    {
      "cell_type": "markdown",
      "source": [
        "##finally 구문\n",
        "- finally: 무조건 실행할 코드\n",
        "- finally 구문은 반복문 또는 함수 내부에 있을 때 위력을 발휘한다\n",
        "- close()함수: 파일을 닫을 때 쓴다"
      ],
      "metadata": {
        "id": "XBrFHh-CVftA"
      }
    },
    {
      "cell_type": "code",
      "source": [
        "#try 구문 내부에서 return 키워드를 사용하는 경우"
      ],
      "metadata": {
        "id": "PoMa7usEUy0Q"
      },
      "execution_count": null,
      "outputs": []
    },
    {
      "cell_type": "code",
      "source": [
        "def test():\n",
        "  print(\"test() 함수의 첫 줄입니다.\")\n",
        "  try:\n",
        "    print(\"try 구문이 실행되었습니다.\")\n",
        "    return #return 뒤에 아무 값도 없기 때문에 실행을 종료해버려 다음줄에 있는거 다 무시! 근데 finally는 남겨둠\n",
        "    print(\"try 구문의 return 키워드 뒤입니다.\")\n",
        "  except:\n",
        "    print(\"except 구문이 실행되었습니다.\")\n",
        "  else:\n",
        "    print(\"else 구문이 실행되었습니다.\")\n",
        "  finally:\n",
        "    print(\"finally 구문이 실행되었습니다.\")\n",
        "  print(\"test()함수의 마지막 줄입니다.\")\n",
        "\n",
        "test()"
      ],
      "metadata": {
        "colab": {
          "base_uri": "https://localhost:8080/"
        },
        "id": "uiKcIOIXWQd5",
        "outputId": "01a11f38-3167-4042-d001-d81a6987cd67"
      },
      "execution_count": null,
      "outputs": [
        {
          "output_type": "stream",
          "name": "stdout",
          "text": [
            "test() 함수의 첫 줄입니다.\n",
            "try 구문이 실행되었습니다.\n",
            "finally 구문이 실행되었습니다.\n"
          ]
        }
      ]
    },
    {
      "cell_type": "code",
      "source": [
        "#fianlly 키워드 활용"
      ],
      "metadata": {
        "id": "Th1Px7BRXknc"
      },
      "execution_count": null,
      "outputs": []
    },
    {
      "cell_type": "code",
      "source": [
        "def write_text_file(filename, text):\n",
        "  try:\n",
        "    file = open(filename, \"w\")\n",
        "    return\n",
        "    file.write(text)\n",
        "  except:\n",
        "    print(\"오류가 발생했습니다.\")\n",
        "  finally:\n",
        "    file.close()\n",
        "\n",
        "write_text_file(\"text.txt\", \"안녕하세요!\")"
      ],
      "metadata": {
        "id": "X62OTFMGYio2"
      },
      "execution_count": null,
      "outputs": []
    },
    {
      "cell_type": "code",
      "source": [
        "#반복문과 함께 사용하는 경우"
      ],
      "metadata": {
        "id": "8tcZ_PTSairA"
      },
      "execution_count": null,
      "outputs": []
    },
    {
      "cell_type": "code",
      "source": [
        "while True:\n",
        "  try:\n",
        "    print(\"try 구문이 실행되었습니다.\")\n",
        "    break\n",
        "    print(\"try 구문의 break 키워드 뒤입니다.\")\n",
        "  except:\n",
        "    print(\"except 구문이 실행되었습니다.\")\n",
        "  finally:\n",
        "    print(\"finally 구문이 실행되었습니다.\") #break로 try 구문 전체를 빠져나가도 fianlly 구문이 실행됨!\n",
        "  print(\"while 반복문의 마지막 줄입니다.\")\n",
        "print(\"프로그램이 종료되었습니다.\")"
      ],
      "metadata": {
        "colab": {
          "base_uri": "https://localhost:8080/"
        },
        "id": "-ItYJ9_baknY",
        "outputId": "c33bd32a-0908-4fab-f534-f2d0edc808bf"
      },
      "execution_count": null,
      "outputs": [
        {
          "output_type": "stream",
          "name": "stdout",
          "text": [
            "try 구문이 실행되었습니다.\n",
            "finally 구문이 실행되었습니다.\n",
            "프로그램이 종료되었습니다.\n"
          ]
        }
      ]
    },
    {
      "cell_type": "markdown",
      "source": [
        "#06-2. 예외 고급"
      ],
      "metadata": {
        "id": "GbP2kO0Ybi7b"
      }
    },
    {
      "cell_type": "markdown",
      "source": [
        "##예외 객체\n",
        "'모든 예외의 어머니': Exception"
      ],
      "metadata": {
        "id": "bNAt56QzvlNI"
      }
    },
    {
      "cell_type": "code",
      "source": [
        "try:\n",
        "  number_input_a = int(input(\"정수 입력>\"))\n",
        "  print(\"원의 반지름:\", number_input_a)\n",
        "except Exception as exception:#예외의 종류 모르면 일단 Exception\n",
        "  print(\"type(exception:)\", type(exception))\n",
        "  print(\"exception:\", exception)"
      ],
      "metadata": {
        "id": "qBLlijBCbkki",
        "colab": {
          "base_uri": "https://localhost:8080/"
        },
        "outputId": "c3fb8432-01b3-43f2-e9db-a5eafbbd4785"
      },
      "execution_count": 1,
      "outputs": [
        {
          "output_type": "stream",
          "name": "stdout",
          "text": [
            "정수 입력>yes\n",
            "type(exception:) <class 'ValueError'>\n",
            "exception: invalid literal for int() with base 10: 'yes'\n"
          ]
        }
      ]
    },
    {
      "cell_type": "code",
      "source": [
        "#예외 객체의 자료형은 ValueError, 내용은 invalid literal for int() with base 10: 'yes'"
      ],
      "metadata": {
        "id": "7afp6F0ewB2i"
      },
      "execution_count": 1,
      "outputs": []
    },
    {
      "cell_type": "markdown",
      "source": [
        "##예외 구분하기"
      ],
      "metadata": {
        "id": "HLzFWcSWwQ-x"
      }
    },
    {
      "cell_type": "code",
      "source": [
        "#여러 가지 예외가 발생할 수 있는 코드\n",
        "\n",
        "list_number = [52, 273, 32, 72, 100]\n",
        "\n",
        "try:\n",
        "  number_input = int(input(\"정수 입력> \"))\n",
        "  print(\"{}번째 요소: {}\".format(number_input, list_number[number_input]))\n",
        "except Exception as exception:\n",
        "  print(type(exception))\n",
        "  print(exception)"
      ],
      "metadata": {
        "colab": {
          "base_uri": "https://localhost:8080/"
        },
        "id": "0jixElGewSpS",
        "outputId": "190ff57a-b4c1-4455-9242-7fb8a1a6c3f2"
      },
      "execution_count": 4,
      "outputs": [
        {
          "output_type": "stream",
          "name": "stdout",
          "text": [
            "정수 입력> 100\n",
            "<class 'IndexError'>\n",
            "list index out of range\n"
          ]
        }
      ]
    },
    {
      "cell_type": "code",
      "source": [
        "#100을 입력하면 IndexError"
      ],
      "metadata": {
        "id": "fWmlDu-ixY0v"
      },
      "execution_count": 5,
      "outputs": []
    },
    {
      "cell_type": "code",
      "source": [
        "#예외 구분하기\n",
        "\n",
        "list_number = [52, 273, 32, 72, 100]\n",
        "\n",
        "try:\n",
        "  number_input = int(input(\"정수 입력> \"))\n",
        "  print(\"{}번째 요소: {}\".format(number_input, list_number[number_input]))\n",
        "except ValueError:\n",
        "  print(\"정수를 입력해주세요!\")\n",
        "except IndexError:\n",
        "  print(\"리스트의 인덱스를 벗어났어요!\")"
      ],
      "metadata": {
        "colab": {
          "base_uri": "https://localhost:8080/"
        },
        "id": "iGLP-kChxfYt",
        "outputId": "a2b435b8-41c4-4147-96b5-fdfd320e8c37"
      },
      "execution_count": 7,
      "outputs": [
        {
          "output_type": "stream",
          "name": "stdout",
          "text": [
            "정수 입력> 정수\n",
            "정수를 입력해주세요!\n"
          ]
        }
      ]
    },
    {
      "cell_type": "code",
      "source": [
        "#예외 구문과 예외 객체\n",
        "\n",
        "list_number = [52, 273, 32, 72, 100]\n",
        "\n",
        "try:\n",
        "  number_input = int(input(\"정수 입력> \"))\n",
        "  print(\"{}번째 요소: {}\".format(number_input, list_number[number_input]))\n",
        "except ValueError as exception:\n",
        "  print(\"정수를 입력해주세요!\")\n",
        "  print(\"exception:\", exception)\n",
        "except IndexError as exception:\n",
        "  print(\"리스트의 인덱스를 벗어났어요!\")\n",
        "  print(\"exception:\", exception)"
      ],
      "metadata": {
        "colab": {
          "base_uri": "https://localhost:8080/"
        },
        "id": "_ux3FfyNxvNh",
        "outputId": "52317b86-243c-4b35-e5f8-ab2546ce5435"
      },
      "execution_count": 9,
      "outputs": [
        {
          "output_type": "stream",
          "name": "stdout",
          "text": [
            "정수 입력> a\n",
            "정수를 입력해주세요!\n",
            "exception: invalid literal for int() with base 10: 'a'\n"
          ]
        }
      ]
    },
    {
      "cell_type": "markdown",
      "source": [
        "##모든 예외 잡기"
      ],
      "metadata": {
        "id": "GqgIUZENzgwk"
      }
    },
    {
      "cell_type": "code",
      "source": [
        "list_number = [52, 273, 32, 72, 100]\n",
        "\n",
        "try:\n",
        "  number_input = int(input(\"정수 입력> \"))\n",
        "  print(\"{}번째 요소: {}\".format(number_input, list_number[number_input]))\n",
        "  예외.발생해주세요() #NameError\n",
        "except ValueError as exception:\n",
        "  print(\"정수를 입력해주세요!\")\n",
        "  print(\"exception:\", exception)\n",
        "except IndexError as exception:\n",
        "  print(\"리스트의 인덱스를 벗어났어요!\")\n",
        "  print(\"exception:\", exception)"
      ],
      "metadata": {
        "colab": {
          "base_uri": "https://localhost:8080/",
          "height": 254
        },
        "id": "CaLikDZMzbDD",
        "outputId": "c7b81f35-e189-45a8-f0c6-b4fed2f4d68c"
      },
      "execution_count": 10,
      "outputs": [
        {
          "output_type": "stream",
          "name": "stdout",
          "text": [
            "정수 입력> 3\n",
            "3번째 요소: 72\n"
          ]
        },
        {
          "output_type": "error",
          "ename": "NameError",
          "evalue": "name '예외' is not defined",
          "traceback": [
            "\u001b[0;31m---------------------------------------------------------------------------\u001b[0m",
            "\u001b[0;31mNameError\u001b[0m                                 Traceback (most recent call last)",
            "\u001b[0;32m<ipython-input-10-0de487fe299c>\u001b[0m in \u001b[0;36m<cell line: 3>\u001b[0;34m()\u001b[0m\n\u001b[1;32m      4\u001b[0m   \u001b[0mnumber_input\u001b[0m \u001b[0;34m=\u001b[0m \u001b[0mint\u001b[0m\u001b[0;34m(\u001b[0m\u001b[0minput\u001b[0m\u001b[0;34m(\u001b[0m\u001b[0;34m\"정수 입력> \"\u001b[0m\u001b[0;34m)\u001b[0m\u001b[0;34m)\u001b[0m\u001b[0;34m\u001b[0m\u001b[0;34m\u001b[0m\u001b[0m\n\u001b[1;32m      5\u001b[0m   \u001b[0mprint\u001b[0m\u001b[0;34m(\u001b[0m\u001b[0;34m\"{}번째 요소: {}\"\u001b[0m\u001b[0;34m.\u001b[0m\u001b[0mformat\u001b[0m\u001b[0;34m(\u001b[0m\u001b[0mnumber_input\u001b[0m\u001b[0;34m,\u001b[0m \u001b[0mlist_number\u001b[0m\u001b[0;34m[\u001b[0m\u001b[0mnumber_input\u001b[0m\u001b[0;34m]\u001b[0m\u001b[0;34m)\u001b[0m\u001b[0;34m)\u001b[0m\u001b[0;34m\u001b[0m\u001b[0;34m\u001b[0m\u001b[0m\n\u001b[0;32m----> 6\u001b[0;31m   \u001b[0m예외\u001b[0m\u001b[0;34m.\u001b[0m\u001b[0m발생해주세요\u001b[0m\u001b[0;34m(\u001b[0m\u001b[0;34m)\u001b[0m\u001b[0;34m\u001b[0m\u001b[0;34m\u001b[0m\u001b[0m\n\u001b[0m\u001b[1;32m      7\u001b[0m \u001b[0;32mexcept\u001b[0m \u001b[0mValueError\u001b[0m \u001b[0;32mas\u001b[0m \u001b[0mexception\u001b[0m\u001b[0;34m:\u001b[0m\u001b[0;34m\u001b[0m\u001b[0;34m\u001b[0m\u001b[0m\n\u001b[1;32m      8\u001b[0m   \u001b[0mprint\u001b[0m\u001b[0;34m(\u001b[0m\u001b[0;34m\"정수를 입력해주세요!\"\u001b[0m\u001b[0;34m)\u001b[0m\u001b[0;34m\u001b[0m\u001b[0;34m\u001b[0m\u001b[0m\n",
            "\u001b[0;31mNameError\u001b[0m: name '예외' is not defined"
          ]
        }
      ]
    },
    {
      "cell_type": "code",
      "source": [
        "#위와 같은 상황에서는 예외가 발생해 프로그램이 강제 종료됨.\n",
        "#따라서 else 구문처럼 마지막에는 모든 예외의 부모라고 할 수 있는 Exception을 넣어서 프로그램이 죽지 않게 하는 것이 좋음"
      ],
      "metadata": {
        "id": "TaAA11zOz_VB"
      },
      "execution_count": 11,
      "outputs": []
    },
    {
      "cell_type": "code",
      "source": [
        "#모든 예외 잡기\n",
        "\n",
        "list_number = [52, 273, 32, 72, 100]\n",
        "\n",
        "try:\n",
        "  number_input = int(input(\"정수 입력> \"))\n",
        "  print(\"{}번째 요소: {}\".format(number_input, list_number[number_input]))\n",
        "  예외.발생해주세요() #NameError\n",
        "except ValueError as exception:\n",
        "  print(\"정수를 입력해주세요!\")\n",
        "  print(\"exception:\", exception)\n",
        "except IndexError as exception:\n",
        "  print(\"리스트의 인덱스를 벗어났어요!\")\n",
        "  print(\"exception:\", exception)\n",
        "except Exception as exceptioin:\n",
        "  print(\"미리 파악하지 못한 예외가 발생했습니다.\")\n",
        "  print(type(exception), exception)"
      ],
      "metadata": {
        "colab": {
          "base_uri": "https://localhost:8080/",
          "height": 417
        },
        "id": "xpoWjFLz0HsA",
        "outputId": "314fd723-b507-4e21-c0a2-81bdd40f908a"
      },
      "execution_count": 12,
      "outputs": [
        {
          "output_type": "stream",
          "name": "stdout",
          "text": [
            "정수 입력> 3\n",
            "3번째 요소: 72\n",
            "미리 파악하지 못한 예외가 발생했습니다.\n"
          ]
        },
        {
          "output_type": "error",
          "ename": "NameError",
          "evalue": "name 'exception' is not defined",
          "traceback": [
            "\u001b[0;31m---------------------------------------------------------------------------\u001b[0m",
            "\u001b[0;31mNameError\u001b[0m                                 Traceback (most recent call last)",
            "\u001b[0;32m<ipython-input-12-8dce957e810a>\u001b[0m in \u001b[0;36m<cell line: 5>\u001b[0;34m()\u001b[0m\n\u001b[1;32m      7\u001b[0m   \u001b[0mprint\u001b[0m\u001b[0;34m(\u001b[0m\u001b[0;34m\"{}번째 요소: {}\"\u001b[0m\u001b[0;34m.\u001b[0m\u001b[0mformat\u001b[0m\u001b[0;34m(\u001b[0m\u001b[0mnumber_input\u001b[0m\u001b[0;34m,\u001b[0m \u001b[0mlist_number\u001b[0m\u001b[0;34m[\u001b[0m\u001b[0mnumber_input\u001b[0m\u001b[0;34m]\u001b[0m\u001b[0;34m)\u001b[0m\u001b[0;34m)\u001b[0m\u001b[0;34m\u001b[0m\u001b[0;34m\u001b[0m\u001b[0m\n\u001b[0;32m----> 8\u001b[0;31m   \u001b[0m예외\u001b[0m\u001b[0;34m.\u001b[0m\u001b[0m발생해주세요\u001b[0m\u001b[0;34m(\u001b[0m\u001b[0;34m)\u001b[0m \u001b[0;31m#NameError\u001b[0m\u001b[0;34m\u001b[0m\u001b[0;34m\u001b[0m\u001b[0m\n\u001b[0m\u001b[1;32m      9\u001b[0m \u001b[0;32mexcept\u001b[0m \u001b[0mValueError\u001b[0m \u001b[0;32mas\u001b[0m \u001b[0mexception\u001b[0m\u001b[0;34m:\u001b[0m\u001b[0;34m\u001b[0m\u001b[0;34m\u001b[0m\u001b[0m\n",
            "\u001b[0;31mNameError\u001b[0m: name '예외' is not defined",
            "\nDuring handling of the above exception, another exception occurred:\n",
            "\u001b[0;31mNameError\u001b[0m                                 Traceback (most recent call last)",
            "\u001b[0;32m<ipython-input-12-8dce957e810a>\u001b[0m in \u001b[0;36m<cell line: 5>\u001b[0;34m()\u001b[0m\n\u001b[1;32m     15\u001b[0m \u001b[0;32mexcept\u001b[0m \u001b[0mException\u001b[0m \u001b[0;32mas\u001b[0m \u001b[0mexceptioin\u001b[0m\u001b[0;34m:\u001b[0m\u001b[0;34m\u001b[0m\u001b[0;34m\u001b[0m\u001b[0m\n\u001b[1;32m     16\u001b[0m   \u001b[0mprint\u001b[0m\u001b[0;34m(\u001b[0m\u001b[0;34m\"미리 파악하지 못한 예외가 발생했습니다.\"\u001b[0m\u001b[0;34m)\u001b[0m\u001b[0;34m\u001b[0m\u001b[0;34m\u001b[0m\u001b[0m\n\u001b[0;32m---> 17\u001b[0;31m   \u001b[0mprint\u001b[0m\u001b[0;34m(\u001b[0m\u001b[0mtype\u001b[0m\u001b[0;34m(\u001b[0m\u001b[0mexception\u001b[0m\u001b[0;34m)\u001b[0m\u001b[0;34m,\u001b[0m \u001b[0mexception\u001b[0m\u001b[0;34m)\u001b[0m\u001b[0;34m\u001b[0m\u001b[0;34m\u001b[0m\u001b[0m\n\u001b[0m",
            "\u001b[0;31mNameError\u001b[0m: name 'exception' is not defined"
          ]
        }
      ]
    },
    {
      "cell_type": "markdown",
      "source": [
        "##raise 구문"
      ],
      "metadata": {
        "id": "sq5Bh2lh0hES"
      }
    },
    {
      "cell_type": "code",
      "source": [
        "#아직 구현되지 않은 부분에서 강제로 예외 발생시키기\n",
        "\n",
        "number = input(\"정수 입력> \")\n",
        "number = int(number)\n",
        "\n",
        "if number > 0:\n",
        "  raise NotImplementedError\n",
        "else:\n",
        "  raise NotImplementedError"
      ],
      "metadata": {
        "colab": {
          "base_uri": "https://localhost:8080/",
          "height": 236
        },
        "id": "enBJzC4x0Slw",
        "outputId": "44878419-b112-42c5-a395-662d540068c0"
      },
      "execution_count": 13,
      "outputs": [
        {
          "name": "stdout",
          "output_type": "stream",
          "text": [
            "정수 입력> 1\n"
          ]
        },
        {
          "output_type": "error",
          "ename": "NotImplementedError",
          "evalue": "",
          "traceback": [
            "\u001b[0;31m---------------------------------------------------------------------------\u001b[0m",
            "\u001b[0;31mNotImplementedError\u001b[0m                       Traceback (most recent call last)",
            "\u001b[0;32m<ipython-input-13-a1f802c9dbbf>\u001b[0m in \u001b[0;36m<cell line: 6>\u001b[0;34m()\u001b[0m\n\u001b[1;32m      5\u001b[0m \u001b[0;34m\u001b[0m\u001b[0m\n\u001b[1;32m      6\u001b[0m \u001b[0;32mif\u001b[0m \u001b[0mnumber\u001b[0m \u001b[0;34m>\u001b[0m \u001b[0;36m0\u001b[0m\u001b[0;34m:\u001b[0m\u001b[0;34m\u001b[0m\u001b[0;34m\u001b[0m\u001b[0m\n\u001b[0;32m----> 7\u001b[0;31m   \u001b[0;32mraise\u001b[0m \u001b[0mNotImplementedError\u001b[0m\u001b[0;34m\u001b[0m\u001b[0;34m\u001b[0m\u001b[0m\n\u001b[0m\u001b[1;32m      8\u001b[0m \u001b[0;32melse\u001b[0m\u001b[0;34m:\u001b[0m\u001b[0;34m\u001b[0m\u001b[0;34m\u001b[0m\u001b[0m\n\u001b[1;32m      9\u001b[0m   \u001b[0;32mraise\u001b[0m \u001b[0mNotImplementedError\u001b[0m\u001b[0;34m\u001b[0m\u001b[0;34m\u001b[0m\u001b[0m\n",
            "\u001b[0;31mNotImplementedError\u001b[0m: "
          ]
        }
      ]
    },
    {
      "cell_type": "code",
      "source": [],
      "metadata": {
        "id": "r-xRYXsl02Vf"
      },
      "execution_count": null,
      "outputs": []
    }
  ]
}
