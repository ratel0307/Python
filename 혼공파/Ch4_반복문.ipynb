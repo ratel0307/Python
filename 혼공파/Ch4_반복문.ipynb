{
  "nbformat": 4,
  "nbformat_minor": 0,
  "metadata": {
    "colab": {
      "provenance": [],
      "toc_visible": true,
      "authorship_tag": "ABX9TyO1et3RC3Jh47isBsGvEmkR",
      "include_colab_link": true
    },
    "kernelspec": {
      "name": "python3",
      "display_name": "Python 3"
    },
    "language_info": {
      "name": "python"
    }
  },
  "cells": [
    {
      "cell_type": "markdown",
      "metadata": {
        "id": "view-in-github",
        "colab_type": "text"
      },
      "source": [
        "<a href=\"https://colab.research.google.com/github/ratel0307/Python/blob/main/Ch4_%EB%B0%98%EB%B3%B5%EB%AC%B8.ipynb\" target=\"_parent\"><img src=\"https://colab.research.google.com/assets/colab-badge.svg\" alt=\"Open In Colab\"/></a>"
      ]
    },
    {
      "cell_type": "markdown",
      "source": [
        "#04-1. 리스트와 반복문"
      ],
      "metadata": {
        "id": "uCJAqIKiJHtM"
      }
    },
    {
      "cell_type": "markdown",
      "source": [
        "##리스트 선언하고 요소에 접근하기"
      ],
      "metadata": {
        "id": "SzqZ5pvGJMmz"
      }
    },
    {
      "cell_type": "code",
      "source": [
        "list_a = [1, 2, 3, 4, 5]"
      ],
      "metadata": {
        "id": "FDwa9i-wJLiJ"
      },
      "execution_count": null,
      "outputs": []
    },
    {
      "cell_type": "code",
      "source": [
        "list_a[1] = 4"
      ],
      "metadata": {
        "id": "TFLWEXp7JbNo"
      },
      "execution_count": null,
      "outputs": []
    },
    {
      "cell_type": "code",
      "source": [
        "list_a"
      ],
      "metadata": {
        "colab": {
          "base_uri": "https://localhost:8080/"
        },
        "id": "1JbeP0P0Jeyg",
        "outputId": "f51c4cf2-907d-419d-ee5a-f9e39d5956a8"
      },
      "execution_count": null,
      "outputs": [
        {
          "output_type": "execute_result",
          "data": {
            "text/plain": [
              "[1, 4, 3, 4, 5]"
            ]
          },
          "metadata": {},
          "execution_count": 3
        }
      ]
    },
    {
      "cell_type": "code",
      "source": [
        "list_a[-1]"
      ],
      "metadata": {
        "colab": {
          "base_uri": "https://localhost:8080/"
        },
        "id": "BXMyafvLJfkJ",
        "outputId": "4f30b342-99e4-428f-9025-f24aec97ff35"
      },
      "execution_count": null,
      "outputs": [
        {
          "output_type": "execute_result",
          "data": {
            "text/plain": [
              "5"
            ]
          },
          "metadata": {},
          "execution_count": 4
        }
      ]
    },
    {
      "cell_type": "code",
      "source": [
        "list_a[1] = 'ace'"
      ],
      "metadata": {
        "id": "Qgpob7hfJkze"
      },
      "execution_count": null,
      "outputs": []
    },
    {
      "cell_type": "code",
      "source": [
        "list_a"
      ],
      "metadata": {
        "colab": {
          "base_uri": "https://localhost:8080/"
        },
        "id": "mEKdwOP5Jn63",
        "outputId": "f4abe75f-ef36-43dc-c016-c0fb5673432e"
      },
      "execution_count": null,
      "outputs": [
        {
          "output_type": "execute_result",
          "data": {
            "text/plain": [
              "[1, 'ace', 3, 4, 5]"
            ]
          },
          "metadata": {},
          "execution_count": 8
        }
      ]
    },
    {
      "cell_type": "code",
      "source": [
        "list_a[1][1] #리스트 접근 연산자를 이중으로 사용할 수 있음, 근데 대신 문자열이여야겠지?"
      ],
      "metadata": {
        "colab": {
          "base_uri": "https://localhost:8080/",
          "height": 35
        },
        "id": "5QLc2EhYJ0X7",
        "outputId": "c0c4c0b3-337d-40ac-c815-86421b6d1dc7"
      },
      "execution_count": null,
      "outputs": [
        {
          "output_type": "execute_result",
          "data": {
            "text/plain": [
              "'c'"
            ],
            "application/vnd.google.colaboratory.intrinsic+json": {
              "type": "string"
            }
          },
          "metadata": {},
          "execution_count": 9
        }
      ]
    },
    {
      "cell_type": "code",
      "source": [
        "'ace'[2]"
      ],
      "metadata": {
        "colab": {
          "base_uri": "https://localhost:8080/",
          "height": 35
        },
        "id": "J8oSnlzHJ3E-",
        "outputId": "75e495a2-ea22-4384-f33f-c7ad5c16f617"
      },
      "execution_count": null,
      "outputs": [
        {
          "output_type": "execute_result",
          "data": {
            "text/plain": [
              "'e'"
            ],
            "application/vnd.google.colaboratory.intrinsic+json": {
              "type": "string"
            }
          },
          "metadata": {},
          "execution_count": 10
        }
      ]
    },
    {
      "cell_type": "code",
      "source": [
        "123[1]"
      ],
      "metadata": {
        "colab": {
          "base_uri": "https://localhost:8080/",
          "height": 218
        },
        "id": "KQOLl5CJJ4mx",
        "outputId": "e043f066-1d2b-4c6b-827b-8f6c2a04311e"
      },
      "execution_count": null,
      "outputs": [
        {
          "output_type": "stream",
          "name": "stderr",
          "text": [
            "<>:1: SyntaxWarning: 'int' object is not subscriptable; perhaps you missed a comma?\n",
            "<>:1: SyntaxWarning: 'int' object is not subscriptable; perhaps you missed a comma?\n",
            "<ipython-input-11-d81a8102f307>:1: SyntaxWarning: 'int' object is not subscriptable; perhaps you missed a comma?\n",
            "  123[1]\n"
          ]
        },
        {
          "output_type": "error",
          "ename": "TypeError",
          "evalue": "'int' object is not subscriptable",
          "traceback": [
            "\u001b[0;31m---------------------------------------------------------------------------\u001b[0m",
            "\u001b[0;31mTypeError\u001b[0m                                 Traceback (most recent call last)",
            "\u001b[0;32m<ipython-input-11-d81a8102f307>\u001b[0m in \u001b[0;36m<cell line: 1>\u001b[0;34m()\u001b[0m\n\u001b[0;32m----> 1\u001b[0;31m \u001b[0;36m123\u001b[0m\u001b[0;34m[\u001b[0m\u001b[0;36m1\u001b[0m\u001b[0;34m]\u001b[0m\u001b[0;34m\u001b[0m\u001b[0;34m\u001b[0m\u001b[0m\n\u001b[0m",
            "\u001b[0;31mTypeError\u001b[0m: 'int' object is not subscriptable"
          ]
        }
      ]
    },
    {
      "cell_type": "markdown",
      "source": [
        "##리스트 연산하기: 연결, 반복, len()"
      ],
      "metadata": {
        "id": "jyI393QZKd2H"
      }
    },
    {
      "cell_type": "code",
      "source": [
        "list_a = [1,2,3]\n",
        "list_b = [4,5,6]\n",
        "\n",
        "list_a + list_b #연결"
      ],
      "metadata": {
        "colab": {
          "base_uri": "https://localhost:8080/"
        },
        "id": "nf0S07UQJ5kC",
        "outputId": "b8a539c5-8ff5-4287-db33-5ffef7709fc4"
      },
      "execution_count": null,
      "outputs": [
        {
          "output_type": "execute_result",
          "data": {
            "text/plain": [
              "[1, 2, 3, 4, 5, 6]"
            ]
          },
          "metadata": {},
          "execution_count": 12
        }
      ]
    },
    {
      "cell_type": "code",
      "source": [
        "list_a * 3 #반복"
      ],
      "metadata": {
        "colab": {
          "base_uri": "https://localhost:8080/"
        },
        "id": "vSfhloaIKp3w",
        "outputId": "b1c3190a-c5ac-4331-eeb6-1caf126d32ab"
      },
      "execution_count": null,
      "outputs": [
        {
          "output_type": "execute_result",
          "data": {
            "text/plain": [
              "[1, 2, 3, 1, 2, 3, 1, 2, 3]"
            ]
          },
          "metadata": {},
          "execution_count": 13
        }
      ]
    },
    {
      "cell_type": "code",
      "source": [
        "len(list_a)"
      ],
      "metadata": {
        "colab": {
          "base_uri": "https://localhost:8080/"
        },
        "id": "7fWB5YhTKsjp",
        "outputId": "3ae6e53e-3a5b-4393-b336-ac02b538e901"
      },
      "execution_count": null,
      "outputs": [
        {
          "output_type": "execute_result",
          "data": {
            "text/plain": [
              "3"
            ]
          },
          "metadata": {},
          "execution_count": 14
        }
      ]
    },
    {
      "cell_type": "markdown",
      "source": [
        "##리스트에 요소 추가하기: append(), insert()"
      ],
      "metadata": {
        "id": "gLiYrcfWKziE"
      }
    },
    {
      "cell_type": "code",
      "source": [
        "list_a.append(4) #뒤에 요소 추가하기"
      ],
      "metadata": {
        "id": "hiOU-OVVKxOF"
      },
      "execution_count": null,
      "outputs": []
    },
    {
      "cell_type": "code",
      "source": [
        "list_a"
      ],
      "metadata": {
        "colab": {
          "base_uri": "https://localhost:8080/"
        },
        "id": "GzSTu1RYLCfD",
        "outputId": "76f3cf85-c2fc-4b83-bc59-c0c3cc8fae28"
      },
      "execution_count": null,
      "outputs": [
        {
          "output_type": "execute_result",
          "data": {
            "text/plain": [
              "[1, 2, 3, 4]"
            ]
          },
          "metadata": {},
          "execution_count": 16
        }
      ]
    },
    {
      "cell_type": "code",
      "source": [
        "list_a.insert(1,5)"
      ],
      "metadata": {
        "id": "H_mVbmrFLDA-"
      },
      "execution_count": null,
      "outputs": []
    },
    {
      "cell_type": "code",
      "source": [
        "list_a"
      ],
      "metadata": {
        "colab": {
          "base_uri": "https://localhost:8080/"
        },
        "id": "V0_KlMRDLJwk",
        "outputId": "1bd533ee-7599-418b-b892-75600098bcbd"
      },
      "execution_count": null,
      "outputs": [
        {
          "output_type": "execute_result",
          "data": {
            "text/plain": [
              "[1, 5, 2, 2, 3, 4]"
            ]
          },
          "metadata": {},
          "execution_count": 19
        }
      ]
    },
    {
      "cell_type": "code",
      "source": [
        "list_a.extend([1,2,3,4]) #한 번에 여러 요소 추가하기"
      ],
      "metadata": {
        "id": "sQXh0zFqLNA7"
      },
      "execution_count": null,
      "outputs": []
    },
    {
      "cell_type": "code",
      "source": [
        "list_a"
      ],
      "metadata": {
        "colab": {
          "base_uri": "https://localhost:8080/"
        },
        "id": "FtR2ci5WLT-4",
        "outputId": "7c90ea9a-3fbf-49ef-bc4e-cb2370dd4c5a"
      },
      "execution_count": null,
      "outputs": [
        {
          "output_type": "execute_result",
          "data": {
            "text/plain": [
              "[1, 5, 2, 2, 3, 4, 1, 2, 3, 4]"
            ]
          },
          "metadata": {},
          "execution_count": 21
        }
      ]
    },
    {
      "cell_type": "markdown",
      "source": [
        "비파괴적: 리스트 연결 연산자와 같이 원본에 어떠한 영향도 주지 않는 것  \n",
        "파괴적: append(), insert(), extend() 함수와 같이 리스트에 직접적인 영향을 주는 함수 또는 연산"
      ],
      "metadata": {
        "id": "OE8SHfwALciK"
      }
    },
    {
      "cell_type": "markdown",
      "source": [
        "##리스트에 요소 제거하기\n",
        "- 인덱스로 제거하기\n",
        "- 값으로 제거하기"
      ],
      "metadata": {
        "id": "4feqUGykLmEJ"
      }
    },
    {
      "cell_type": "code",
      "source": [
        "#인덱스로 제거하기: del 키워드, pop()\n",
        "#del 리스트명[인덱스] #리스트명.pop(인덱스)"
      ],
      "metadata": {
        "id": "ccjUmyX9LUW8"
      },
      "execution_count": null,
      "outputs": []
    },
    {
      "cell_type": "code",
      "source": [
        "list_a"
      ],
      "metadata": {
        "colab": {
          "base_uri": "https://localhost:8080/"
        },
        "id": "czQT95PaLx16",
        "outputId": "c4eec275-b465-4bc0-8912-0b2bf3c02d85"
      },
      "execution_count": null,
      "outputs": [
        {
          "output_type": "execute_result",
          "data": {
            "text/plain": [
              "[1, 5, 2, 2, 3, 4, 1, 2, 3, 4]"
            ]
          },
          "metadata": {},
          "execution_count": 24
        }
      ]
    },
    {
      "cell_type": "code",
      "source": [
        "del list_a[0]"
      ],
      "metadata": {
        "id": "WrGfGlWaL9Xx"
      },
      "execution_count": null,
      "outputs": []
    },
    {
      "cell_type": "code",
      "source": [
        "list_a"
      ],
      "metadata": {
        "colab": {
          "base_uri": "https://localhost:8080/"
        },
        "id": "gF3853jEL_uh",
        "outputId": "b3bd7c54-065e-4e62-ed74-0915213c1c77"
      },
      "execution_count": null,
      "outputs": [
        {
          "output_type": "execute_result",
          "data": {
            "text/plain": [
              "[5, 2, 2, 3, 4, 1, 2, 3, 4]"
            ]
          },
          "metadata": {},
          "execution_count": 26
        }
      ]
    },
    {
      "cell_type": "code",
      "source": [
        "list_a.pop(0)"
      ],
      "metadata": {
        "colab": {
          "base_uri": "https://localhost:8080/"
        },
        "id": "jZ6y2-OsMAK0",
        "outputId": "dcc6fe7e-5d85-42b3-f5e3-fa78234245bf"
      },
      "execution_count": null,
      "outputs": [
        {
          "output_type": "execute_result",
          "data": {
            "text/plain": [
              "5"
            ]
          },
          "metadata": {},
          "execution_count": 27
        }
      ]
    },
    {
      "cell_type": "code",
      "source": [
        "list_a"
      ],
      "metadata": {
        "colab": {
          "base_uri": "https://localhost:8080/"
        },
        "id": "JPO14A_2MHYt",
        "outputId": "bda0a26f-02eb-4473-afa7-ed1c3ccc61cb"
      },
      "execution_count": null,
      "outputs": [
        {
          "output_type": "execute_result",
          "data": {
            "text/plain": [
              "[2, 2, 3, 4, 1, 2, 3, 4]"
            ]
          },
          "metadata": {},
          "execution_count": 28
        }
      ]
    },
    {
      "cell_type": "code",
      "source": [
        "del list_a[3:] #범위를 지정할 수도 있어 #리스트에 [:]연산자로 리스트 범위를 지정하여 여러 요소를 선택하는 것을 슬라이싱이라고 함"
      ],
      "metadata": {
        "id": "WbPydZdcMZjC"
      },
      "execution_count": null,
      "outputs": []
    },
    {
      "cell_type": "code",
      "source": [
        "list_a"
      ],
      "metadata": {
        "colab": {
          "base_uri": "https://localhost:8080/"
        },
        "id": "vNVzzXFEMjxm",
        "outputId": "90ff0250-d8ea-43ea-eb3e-db16ebb091b1"
      },
      "execution_count": null,
      "outputs": [
        {
          "output_type": "execute_result",
          "data": {
            "text/plain": [
              "[2, 2, 3]"
            ]
          },
          "metadata": {},
          "execution_count": 32
        }
      ]
    },
    {
      "cell_type": "code",
      "source": [
        "number = [0,1,2,3,4,5]"
      ],
      "metadata": {
        "id": "b8aW64A9Mkkf"
      },
      "execution_count": null,
      "outputs": []
    },
    {
      "cell_type": "code",
      "source": [
        "number[:5]"
      ],
      "metadata": {
        "colab": {
          "base_uri": "https://localhost:8080/"
        },
        "id": "dnOcZrpZM_qe",
        "outputId": "2af32fe3-6b41-44f7-802b-abcdc266ef11"
      },
      "execution_count": null,
      "outputs": [
        {
          "output_type": "execute_result",
          "data": {
            "text/plain": [
              "[0, 1, 2, 3, 4]"
            ]
          },
          "metadata": {},
          "execution_count": 34
        }
      ]
    },
    {
      "cell_type": "code",
      "source": [
        "number[::5]"
      ],
      "metadata": {
        "colab": {
          "base_uri": "https://localhost:8080/"
        },
        "id": "MwxvfadbNDAz",
        "outputId": "75f67d30-c30c-4a19-9d65-3b95cfb32875"
      },
      "execution_count": null,
      "outputs": [
        {
          "output_type": "execute_result",
          "data": {
            "text/plain": [
              "[0, 5]"
            ]
          },
          "metadata": {},
          "execution_count": 35
        }
      ]
    },
    {
      "cell_type": "code",
      "source": [
        "number[:-1]"
      ],
      "metadata": {
        "colab": {
          "base_uri": "https://localhost:8080/"
        },
        "id": "P2qKqU7FNEh6",
        "outputId": "2f36d8f0-eb31-429b-bcd5-7bc633e4333d"
      },
      "execution_count": null,
      "outputs": [
        {
          "output_type": "execute_result",
          "data": {
            "text/plain": [
              "[0, 1, 2, 3, 4]"
            ]
          },
          "metadata": {},
          "execution_count": 36
        }
      ]
    },
    {
      "cell_type": "code",
      "source": [
        "number[::-1] #거꾸로 모두 출력할 때 [::-1] 사용"
      ],
      "metadata": {
        "colab": {
          "base_uri": "https://localhost:8080/"
        },
        "id": "lRcA6lDpNMBR",
        "outputId": "4c095765-826a-4ee3-d909-08ce5e0afe31"
      },
      "execution_count": null,
      "outputs": [
        {
          "output_type": "execute_result",
          "data": {
            "text/plain": [
              "[5, 4, 3, 2, 1, 0]"
            ]
          },
          "metadata": {},
          "execution_count": 37
        }
      ]
    },
    {
      "cell_type": "code",
      "source": [
        "#값으로 제거: remove()\n",
        "#리스트.remove(값)"
      ],
      "metadata": {
        "id": "Mvc9rfTZNQEn"
      },
      "execution_count": null,
      "outputs": []
    },
    {
      "cell_type": "code",
      "source": [
        "list_c = [1,2,1,2]\n",
        "list_c.remove(2)"
      ],
      "metadata": {
        "id": "SvCa81k5Ne-Z"
      },
      "execution_count": null,
      "outputs": []
    },
    {
      "cell_type": "code",
      "source": [
        "list_c #리스트 2가 2개 있는데 앞쪽에 있는 2 하나만 제거됨. 만약 모두 제거하려면 반복문과 조합해야 해"
      ],
      "metadata": {
        "colab": {
          "base_uri": "https://localhost:8080/"
        },
        "id": "uk9BlvPYNk2W",
        "outputId": "d4fb2fd4-54de-489c-cfe4-1ba1ca159e4f"
      },
      "execution_count": null,
      "outputs": [
        {
          "output_type": "execute_result",
          "data": {
            "text/plain": [
              "[1, 1, 2]"
            ]
          },
          "metadata": {},
          "execution_count": 41
        }
      ]
    },
    {
      "cell_type": "code",
      "source": [
        "#모두 제거하기: clear()\n",
        "list_d = [0,1,2,3,4,5]\n",
        "list_d.clear()\n",
        "print(list_d)"
      ],
      "metadata": {
        "colab": {
          "base_uri": "https://localhost:8080/"
        },
        "id": "Drt9lxqDNldH",
        "outputId": "3da40366-c44f-4881-dce0-57e5a0defc23"
      },
      "execution_count": null,
      "outputs": [
        {
          "output_type": "stream",
          "name": "stdout",
          "text": [
            "[]\n"
          ]
        }
      ]
    },
    {
      "cell_type": "markdown",
      "source": [
        "##리스트 정렬하기: sort()"
      ],
      "metadata": {
        "id": "J2TEAdQtN3ui"
      }
    },
    {
      "cell_type": "code",
      "source": [
        "#sort(): 오름차순 정렬\n",
        "list_e = [521, 23, 2123, 531]\n",
        "list_e.sort()\n",
        "print(list_e)"
      ],
      "metadata": {
        "colab": {
          "base_uri": "https://localhost:8080/"
        },
        "id": "V9fYSg-gN2Ca",
        "outputId": "a08e2db8-ee22-45f5-ba85-e32633b556ca"
      },
      "execution_count": null,
      "outputs": [
        {
          "output_type": "stream",
          "name": "stdout",
          "text": [
            "[23, 521, 531, 2123]\n"
          ]
        }
      ]
    },
    {
      "cell_type": "code",
      "source": [
        "list_e.sort(reverse=True) #내림차순\n",
        "print(list_e)"
      ],
      "metadata": {
        "colab": {
          "base_uri": "https://localhost:8080/"
        },
        "id": "SgDouv7TOCQl",
        "outputId": "2edfd676-e696-4e1f-a3bb-86ac701672bb"
      },
      "execution_count": null,
      "outputs": [
        {
          "output_type": "stream",
          "name": "stdout",
          "text": [
            "[2123, 531, 521, 23]\n"
          ]
        }
      ]
    },
    {
      "cell_type": "markdown",
      "source": [
        "##리스트 내부에 있는지 확인하기: in/not in 연산자"
      ],
      "metadata": {
        "id": "k5ULVdmyOJll"
      }
    },
    {
      "cell_type": "code",
      "source": [
        "list_a"
      ],
      "metadata": {
        "colab": {
          "base_uri": "https://localhost:8080/"
        },
        "id": "JN6-rEGDOGKU",
        "outputId": "12655f79-5671-4d7d-f6bf-9e0153fb342a"
      },
      "execution_count": null,
      "outputs": [
        {
          "output_type": "execute_result",
          "data": {
            "text/plain": [
              "[2, 2, 3]"
            ]
          },
          "metadata": {},
          "execution_count": 46
        }
      ]
    },
    {
      "cell_type": "code",
      "source": [
        "2 in list_a"
      ],
      "metadata": {
        "colab": {
          "base_uri": "https://localhost:8080/"
        },
        "id": "BK9vn9qkOUI8",
        "outputId": "fb04269e-8b1f-4105-d537-f1916aa489fa"
      },
      "execution_count": null,
      "outputs": [
        {
          "output_type": "execute_result",
          "data": {
            "text/plain": [
              "True"
            ]
          },
          "metadata": {},
          "execution_count": 48
        }
      ]
    },
    {
      "cell_type": "code",
      "source": [
        "4 in list_a"
      ],
      "metadata": {
        "colab": {
          "base_uri": "https://localhost:8080/"
        },
        "id": "KN-GJcOSOV-2",
        "outputId": "ce326b97-c8f0-4729-b49d-4771bd5f76cf"
      },
      "execution_count": null,
      "outputs": [
        {
          "output_type": "execute_result",
          "data": {
            "text/plain": [
              "False"
            ]
          },
          "metadata": {},
          "execution_count": 49
        }
      ]
    },
    {
      "cell_type": "code",
      "source": [
        "4 not in list_a"
      ],
      "metadata": {
        "colab": {
          "base_uri": "https://localhost:8080/"
        },
        "id": "p7VHakBXOYGW",
        "outputId": "e4d14539-f21a-49b1-b044-9b3eacbe4bca"
      },
      "execution_count": null,
      "outputs": [
        {
          "output_type": "execute_result",
          "data": {
            "text/plain": [
              "True"
            ]
          },
          "metadata": {},
          "execution_count": 50
        }
      ]
    },
    {
      "cell_type": "markdown",
      "source": [
        "##for 반복문"
      ],
      "metadata": {
        "id": "NZeWTQTFOb2j"
      }
    },
    {
      "cell_type": "code",
      "source": [
        "for i in range(5):\n",
        "  print(\"출력\")"
      ],
      "metadata": {
        "colab": {
          "base_uri": "https://localhost:8080/"
        },
        "id": "6K2cWLdzOaTW",
        "outputId": "85cc5f7d-15b6-4912-ef1b-2d1f4ce07174"
      },
      "execution_count": null,
      "outputs": [
        {
          "output_type": "stream",
          "name": "stdout",
          "text": [
            "출력\n",
            "출력\n",
            "출력\n",
            "출력\n",
            "출력\n"
          ]
        }
      ]
    },
    {
      "cell_type": "markdown",
      "source": [
        "##for 반복문: 리스트와 함께 사용하기"
      ],
      "metadata": {
        "id": "tdlaJuiGQN8L"
      }
    },
    {
      "cell_type": "code",
      "source": [
        "#for 반복자 in 반복할 수 있는 것: 코드"
      ],
      "metadata": {
        "id": "E24PxtkuQM1p"
      },
      "execution_count": null,
      "outputs": []
    },
    {
      "cell_type": "code",
      "source": [
        "#반복할 수 있는 것: 문자열, 리스트, 딕셔너리, 범위 등"
      ],
      "metadata": {
        "id": "sITwZPePQaXF"
      },
      "execution_count": null,
      "outputs": []
    },
    {
      "cell_type": "code",
      "source": [
        "array = [1,2,3,4,5]\n",
        "for element in array:\n",
        "  print(element)"
      ],
      "metadata": {
        "colab": {
          "base_uri": "https://localhost:8080/"
        },
        "id": "sQzyJZDYQd1y",
        "outputId": "d3d7fb86-1ac9-4cfd-9e5b-c86f9ba66f9b"
      },
      "execution_count": null,
      "outputs": [
        {
          "output_type": "stream",
          "name": "stdout",
          "text": [
            "1\n",
            "2\n",
            "3\n",
            "4\n",
            "5\n"
          ]
        }
      ]
    },
    {
      "cell_type": "markdown",
      "source": [
        "##중첩 리스트와 중첩 반복문"
      ],
      "metadata": {
        "id": "z3QPa7S2QpWe"
      }
    },
    {
      "cell_type": "code",
      "source": [
        "list_of_list = [\n",
        "    [1,2,3],\n",
        "    [4,5,6,7],\n",
        "    [8,9]\n",
        "]\n",
        "\n",
        "for items in list_of_list:\n",
        "  print(items)"
      ],
      "metadata": {
        "colab": {
          "base_uri": "https://localhost:8080/"
        },
        "id": "Hte8bj7lQlHj",
        "outputId": "70ca08f1-2809-422f-e396-d7c4997eb813"
      },
      "execution_count": null,
      "outputs": [
        {
          "output_type": "stream",
          "name": "stdout",
          "text": [
            "[1, 2, 3]\n",
            "[4, 5, 6, 7]\n",
            "[8, 9]\n"
          ]
        }
      ]
    },
    {
      "cell_type": "code",
      "source": [
        "for items in list_of_list:\n",
        "  for item in items:\n",
        "    print(item)"
      ],
      "metadata": {
        "colab": {
          "base_uri": "https://localhost:8080/"
        },
        "id": "POOLGK8xQ_1t",
        "outputId": "7d2cafee-9dcc-4720-cb77-562138a7e496"
      },
      "execution_count": null,
      "outputs": [
        {
          "output_type": "stream",
          "name": "stdout",
          "text": [
            "1\n",
            "2\n",
            "3\n",
            "4\n",
            "5\n",
            "6\n",
            "7\n",
            "8\n",
            "9\n"
          ]
        }
      ]
    },
    {
      "cell_type": "markdown",
      "source": [
        "#04-2. 딕셔너리와 반복문"
      ],
      "metadata": {
        "id": "IcTugToNRoxr"
      }
    },
    {
      "cell_type": "markdown",
      "source": [
        "##딕셔너리 선언하기"
      ],
      "metadata": {
        "id": "T3bx-JFmRwW0"
      }
    },
    {
      "cell_type": "code",
      "source": [
        "dict_a = {\n",
        "    'a' : '에이',\n",
        "    'b' : '비'\n",
        "}"
      ],
      "metadata": {
        "id": "nFEG7WLeRKEh"
      },
      "execution_count": null,
      "outputs": []
    },
    {
      "cell_type": "code",
      "source": [
        "dict_a"
      ],
      "metadata": {
        "colab": {
          "base_uri": "https://localhost:8080/"
        },
        "id": "T30eYm_sSA2l",
        "outputId": "06e26dfe-1f09-47ac-884c-9ebbb9f19587"
      },
      "execution_count": null,
      "outputs": [
        {
          "output_type": "execute_result",
          "data": {
            "text/plain": [
              "{'a': '에이', 'b': '비'}"
            ]
          },
          "metadata": {},
          "execution_count": 61
        }
      ]
    },
    {
      "cell_type": "markdown",
      "source": [
        "##딕셔너리의 요소에 접근하기"
      ],
      "metadata": {
        "id": "BXP-8Jf8SERM"
      }
    },
    {
      "cell_type": "code",
      "source": [
        "dict_a['b'] #['key']형태로 쓰기"
      ],
      "metadata": {
        "colab": {
          "base_uri": "https://localhost:8080/",
          "height": 35
        },
        "id": "wtc4IsgZSBQh",
        "outputId": "72d3b287-39b6-4d0e-ada8-a7f11b3c3b31"
      },
      "execution_count": null,
      "outputs": [
        {
          "output_type": "execute_result",
          "data": {
            "text/plain": [
              "'비'"
            ],
            "application/vnd.google.colaboratory.intrinsic+json": {
              "type": "string"
            }
          },
          "metadata": {},
          "execution_count": 64
        }
      ]
    },
    {
      "cell_type": "code",
      "source": [
        "#딕셔너리 안에 리스트도 넣을 수 있어"
      ],
      "metadata": {
        "id": "6oxVTECeSkSb"
      },
      "execution_count": null,
      "outputs": []
    },
    {
      "cell_type": "code",
      "source": [
        "dict_a"
      ],
      "metadata": {
        "colab": {
          "base_uri": "https://localhost:8080/"
        },
        "id": "fUwiUC72S6hE",
        "outputId": "dfb3131c-e732-4242-d692-2a5dc7a4082c"
      },
      "execution_count": null,
      "outputs": [
        {
          "output_type": "execute_result",
          "data": {
            "text/plain": [
              "{'a': '에이', 'b': '비'}"
            ]
          },
          "metadata": {},
          "execution_count": 66
        }
      ]
    },
    {
      "cell_type": "code",
      "source": [
        "dict_a['b'] = '빔'"
      ],
      "metadata": {
        "id": "IS16J0A4TTVb"
      },
      "execution_count": null,
      "outputs": []
    },
    {
      "cell_type": "code",
      "source": [
        "dict_a"
      ],
      "metadata": {
        "colab": {
          "base_uri": "https://localhost:8080/"
        },
        "id": "7T-kG3ccTW3p",
        "outputId": "8a61c668-fb3f-406a-88be-98b83fcf3c9d"
      },
      "execution_count": null,
      "outputs": [
        {
          "output_type": "execute_result",
          "data": {
            "text/plain": [
              "{'a': '에이', 'b': '빔'}"
            ]
          },
          "metadata": {},
          "execution_count": 68
        }
      ]
    },
    {
      "cell_type": "markdown",
      "source": [
        "##딕셔너리에 값 추가하기/제거하기"
      ],
      "metadata": {
        "id": "lfodNKB1TZ15"
      }
    },
    {
      "cell_type": "code",
      "source": [
        "#딕셔너리[새로운 키] = 새로운 값"
      ],
      "metadata": {
        "id": "IPfRTwSvTXSM"
      },
      "execution_count": null,
      "outputs": []
    },
    {
      "cell_type": "code",
      "source": [
        "dict_a"
      ],
      "metadata": {
        "colab": {
          "base_uri": "https://localhost:8080/"
        },
        "id": "DORXa7MGTrSr",
        "outputId": "14c90b44-0e39-4b9f-e5fa-80f3bc3533d7"
      },
      "execution_count": null,
      "outputs": [
        {
          "output_type": "execute_result",
          "data": {
            "text/plain": [
              "{'a': '에이', 'b': '빔'}"
            ]
          },
          "metadata": {},
          "execution_count": 70
        }
      ]
    },
    {
      "cell_type": "code",
      "source": [
        "dict_a['c'] = '씨'"
      ],
      "metadata": {
        "id": "oHvl_LAoTrpj"
      },
      "execution_count": null,
      "outputs": []
    },
    {
      "cell_type": "code",
      "source": [
        "dict_a"
      ],
      "metadata": {
        "colab": {
          "base_uri": "https://localhost:8080/"
        },
        "id": "oKlJHbfrTtrH",
        "outputId": "6f0bc202-8898-4e8e-efb7-dc6531a84acb"
      },
      "execution_count": null,
      "outputs": [
        {
          "output_type": "execute_result",
          "data": {
            "text/plain": [
              "{'a': '에이', 'b': '빔', 'c': '씨'}"
            ]
          },
          "metadata": {},
          "execution_count": 72
        }
      ]
    },
    {
      "cell_type": "code",
      "source": [
        "del dict_a['c'] #제거도 가능"
      ],
      "metadata": {
        "id": "H-kqYkDmTuWM"
      },
      "execution_count": null,
      "outputs": []
    },
    {
      "cell_type": "code",
      "source": [
        "dict_a"
      ],
      "metadata": {
        "colab": {
          "base_uri": "https://localhost:8080/"
        },
        "id": "q_j9ay5HTx1z",
        "outputId": "0a03491b-dc08-401f-bc94-14962c847d96"
      },
      "execution_count": null,
      "outputs": [
        {
          "output_type": "execute_result",
          "data": {
            "text/plain": [
              "{'a': '에이', 'b': '빔'}"
            ]
          },
          "metadata": {},
          "execution_count": 75
        }
      ]
    },
    {
      "cell_type": "markdown",
      "source": [
        "##딕셔너리 내부에 키가 있는지 확인하기"
      ],
      "metadata": {
        "id": "tQrirHnGT1hr"
      }
    },
    {
      "cell_type": "code",
      "source": [
        "dict_a"
      ],
      "metadata": {
        "colab": {
          "base_uri": "https://localhost:8080/"
        },
        "id": "1sa-0NdATz_z",
        "outputId": "c5978248-c793-44be-891e-93e55f3e29c5"
      },
      "execution_count": null,
      "outputs": [
        {
          "output_type": "execute_result",
          "data": {
            "text/plain": [
              "{'a': '에이', 'b': '빔'}"
            ]
          },
          "metadata": {},
          "execution_count": 76
        }
      ]
    },
    {
      "cell_type": "code",
      "source": [
        "'a' in dict_a #키가 있는지 확인"
      ],
      "metadata": {
        "colab": {
          "base_uri": "https://localhost:8080/"
        },
        "id": "7qn1BaOvULBd",
        "outputId": "ddced337-850a-4773-8c7f-25487b360852"
      },
      "execution_count": null,
      "outputs": [
        {
          "output_type": "execute_result",
          "data": {
            "text/plain": [
              "True"
            ]
          },
          "metadata": {},
          "execution_count": 79
        }
      ]
    },
    {
      "cell_type": "code",
      "source": [
        "'에이' in dict_a"
      ],
      "metadata": {
        "colab": {
          "base_uri": "https://localhost:8080/"
        },
        "id": "61ClI7PvUMlO",
        "outputId": "f8b512a2-1ab7-40bc-f857-5eda9e0a926b"
      },
      "execution_count": null,
      "outputs": [
        {
          "output_type": "execute_result",
          "data": {
            "text/plain": [
              "False"
            ]
          },
          "metadata": {},
          "execution_count": 78
        }
      ]
    },
    {
      "cell_type": "code",
      "source": [
        "#get() 함수: 존재하지 않는 키에 접근할 경우 KeyError을 발생시키지 않고 None을 출력함"
      ],
      "metadata": {
        "id": "3vz-LOr4UOUL"
      },
      "execution_count": null,
      "outputs": []
    },
    {
      "cell_type": "code",
      "source": [
        "dict_a"
      ],
      "metadata": {
        "colab": {
          "base_uri": "https://localhost:8080/"
        },
        "id": "xWHO2RIwUSyk",
        "outputId": "571d6fa2-2d48-427c-d686-a193b3ec6841"
      },
      "execution_count": null,
      "outputs": [
        {
          "output_type": "execute_result",
          "data": {
            "text/plain": [
              "{'a': '에이', 'b': '빔'}"
            ]
          },
          "metadata": {},
          "execution_count": 81
        }
      ]
    },
    {
      "cell_type": "code",
      "source": [
        "value = dict_a.get('c')\n",
        "print(value)"
      ],
      "metadata": {
        "colab": {
          "base_uri": "https://localhost:8080/"
        },
        "id": "ZK3_5ohPUiEm",
        "outputId": "aba21823-89db-4244-ffa6-4c0196a4012c"
      },
      "execution_count": null,
      "outputs": [
        {
          "output_type": "stream",
          "name": "stdout",
          "text": [
            "None\n"
          ]
        }
      ]
    },
    {
      "cell_type": "markdown",
      "source": [
        "##for 반복문: 딕셔너리와 함께 사용하기"
      ],
      "metadata": {
        "id": "Yg-IQVAYUuDr"
      }
    },
    {
      "cell_type": "code",
      "source": [
        "dict_a"
      ],
      "metadata": {
        "colab": {
          "base_uri": "https://localhost:8080/"
        },
        "id": "pK49J3L_UpbI",
        "outputId": "f8ddbfe5-8bec-4380-8ea5-c7827990e5dd"
      },
      "execution_count": null,
      "outputs": [
        {
          "output_type": "execute_result",
          "data": {
            "text/plain": [
              "{'a': '에이', 'b': '빔'}"
            ]
          },
          "metadata": {},
          "execution_count": 84
        }
      ]
    },
    {
      "cell_type": "code",
      "source": [
        "for key in dict_a:\n",
        "  print(key, dict_a[key])"
      ],
      "metadata": {
        "colab": {
          "base_uri": "https://localhost:8080/"
        },
        "id": "VUeQb2vlU_FI",
        "outputId": "df1bb5de-f593-458a-8e17-83420bc31885"
      },
      "execution_count": null,
      "outputs": [
        {
          "output_type": "stream",
          "name": "stdout",
          "text": [
            "a 에이\n",
            "b 빔\n"
          ]
        }
      ]
    },
    {
      "cell_type": "code",
      "source": [
        "for item in dict_a:\n",
        "  print(item, dict_a[item])"
      ],
      "metadata": {
        "colab": {
          "base_uri": "https://localhost:8080/"
        },
        "id": "sOXjmm8eVDsn",
        "outputId": "79508eae-b26d-435e-b88f-a64f095b247e"
      },
      "execution_count": null,
      "outputs": [
        {
          "output_type": "stream",
          "name": "stdout",
          "text": [
            "a 에이\n",
            "b 빔\n"
          ]
        }
      ]
    },
    {
      "cell_type": "markdown",
      "source": [
        "#04-3. 범위 자료형과 while 반복문"
      ],
      "metadata": {
        "id": "BoONnEYwVViS"
      }
    },
    {
      "cell_type": "markdown",
      "source": [
        "##범위"
      ],
      "metadata": {
        "id": "LheryWnGVaWn"
      }
    },
    {
      "cell_type": "code",
      "source": [
        "#range(A)\n",
        "#range(A,B)\n",
        "#range(A,B,C) -> 앞두의 숫자가 C만큼의 차이를 가짐"
      ],
      "metadata": {
        "id": "a9LqsNrDVTq7"
      },
      "execution_count": null,
      "outputs": []
    },
    {
      "cell_type": "code",
      "source": [
        "a = range(5)\n",
        "print(a)"
      ],
      "metadata": {
        "colab": {
          "base_uri": "https://localhost:8080/"
        },
        "id": "m7jrfatkWvI0",
        "outputId": "a0a9aafe-831d-4fef-8fce-8df2b925a74e"
      },
      "execution_count": null,
      "outputs": [
        {
          "output_type": "stream",
          "name": "stdout",
          "text": [
            "range(0, 5)\n"
          ]
        }
      ]
    },
    {
      "cell_type": "code",
      "source": [
        "list(a) #list()함수를 이용해 범위를 리스트로 변경하면 범위 내부에 어떤 값이 들어있는지 확인할 수 있어"
      ],
      "metadata": {
        "colab": {
          "base_uri": "https://localhost:8080/"
        },
        "id": "sML4d0lwWxKW",
        "outputId": "99eb16aa-b1fa-473c-8236-2e5e0104dd56"
      },
      "execution_count": null,
      "outputs": [
        {
          "output_type": "execute_result",
          "data": {
            "text/plain": [
              "[0, 1, 2, 3, 4]"
            ]
          },
          "metadata": {},
          "execution_count": 93
        }
      ]
    },
    {
      "cell_type": "code",
      "source": [
        "list(range(0,5))"
      ],
      "metadata": {
        "colab": {
          "base_uri": "https://localhost:8080/"
        },
        "id": "e5eXrJonW0CX",
        "outputId": "8e4cd7b2-8418-4596-e40e-82b01619ef16"
      },
      "execution_count": null,
      "outputs": [
        {
          "output_type": "execute_result",
          "data": {
            "text/plain": [
              "[0, 1, 2, 3, 4]"
            ]
          },
          "metadata": {},
          "execution_count": 94
        }
      ]
    },
    {
      "cell_type": "code",
      "source": [
        "list(range(0,5,2))"
      ],
      "metadata": {
        "colab": {
          "base_uri": "https://localhost:8080/"
        },
        "id": "YfyfmMpmW938",
        "outputId": "d25d545a-b4f8-4b82-ec96-28db64c70540"
      },
      "execution_count": null,
      "outputs": [
        {
          "output_type": "execute_result",
          "data": {
            "text/plain": [
              "[0, 2, 4]"
            ]
          },
          "metadata": {},
          "execution_count": 95
        }
      ]
    },
    {
      "cell_type": "code",
      "source": [
        "a = range(0,10+1) #끝 숫자 포함시키고 싶을 때\n",
        "list(a)"
      ],
      "metadata": {
        "colab": {
          "base_uri": "https://localhost:8080/"
        },
        "id": "_rZ27lyiW_Dv",
        "outputId": "120cc6b9-dedc-4a08-f11c-ff3d5767bc84"
      },
      "execution_count": null,
      "outputs": [
        {
          "output_type": "execute_result",
          "data": {
            "text/plain": [
              "[0, 1, 2, 3, 4, 5, 6, 7, 8, 9, 10]"
            ]
          },
          "metadata": {},
          "execution_count": 97
        }
      ]
    },
    {
      "cell_type": "code",
      "source": [
        "6 / 4"
      ],
      "metadata": {
        "colab": {
          "base_uri": "https://localhost:8080/"
        },
        "id": "w27910UeXGwm",
        "outputId": "0ffabc39-49af-406a-baf8-eed77328c645"
      },
      "execution_count": null,
      "outputs": [
        {
          "output_type": "execute_result",
          "data": {
            "text/plain": [
              "1.5"
            ]
          },
          "metadata": {},
          "execution_count": 98
        }
      ]
    },
    {
      "cell_type": "code",
      "source": [
        "6 // 4"
      ],
      "metadata": {
        "colab": {
          "base_uri": "https://localhost:8080/"
        },
        "id": "JhTdCzi-XhdI",
        "outputId": "c7816652-d4cd-4b0e-ff08-118174e3516d"
      },
      "execution_count": null,
      "outputs": [
        {
          "output_type": "execute_result",
          "data": {
            "text/plain": [
              "1"
            ]
          },
          "metadata": {},
          "execution_count": 99
        }
      ]
    },
    {
      "cell_type": "markdown",
      "source": [
        "##for 반복문: 범위와 함께 사용하기"
      ],
      "metadata": {
        "id": "Xxq1ystKXkLo"
      }
    },
    {
      "cell_type": "code",
      "source": [
        "for i in range(5):\n",
        "  print(i)"
      ],
      "metadata": {
        "colab": {
          "base_uri": "https://localhost:8080/"
        },
        "id": "u6KjmNrVXiS7",
        "outputId": "8a2df7ea-4fe9-4aaa-e107-26168d62c254"
      },
      "execution_count": null,
      "outputs": [
        {
          "output_type": "stream",
          "name": "stdout",
          "text": [
            "0\n",
            "1\n",
            "2\n",
            "3\n",
            "4\n"
          ]
        }
      ]
    },
    {
      "cell_type": "markdown",
      "source": [
        "##for 반복문: 리스트와 범위 조합하기"
      ],
      "metadata": {
        "id": "QYmVtrJFY5OM"
      }
    },
    {
      "cell_type": "code",
      "source": [
        "array = [273, 32, 103, 57, 52]"
      ],
      "metadata": {
        "id": "hVBPxS4WXqw9"
      },
      "execution_count": null,
      "outputs": []
    },
    {
      "cell_type": "code",
      "source": [
        "for i in range(len(array)):\n",
        "  print(\"{}번째 반복: {}\".format(i, array[i]))"
      ],
      "metadata": {
        "colab": {
          "base_uri": "https://localhost:8080/"
        },
        "id": "9mMLgsgnZGGa",
        "outputId": "f66c9625-2ca7-415b-b6e7-43bd57644a4f"
      },
      "execution_count": null,
      "outputs": [
        {
          "output_type": "stream",
          "name": "stdout",
          "text": [
            "0번째 반복: 273\n",
            "1번째 반복: 32\n",
            "2번째 반복: 103\n",
            "3번째 반복: 57\n",
            "4번째 반복: 52\n"
          ]
        }
      ]
    },
    {
      "cell_type": "markdown",
      "source": [
        "##for 반복문: 반대로 반복하기"
      ],
      "metadata": {
        "id": "34UngVlsZiwb"
      }
    },
    {
      "cell_type": "code",
      "source": [
        "for i in range(4,0-1,-1):\n",
        "  print(i)"
      ],
      "metadata": {
        "colab": {
          "base_uri": "https://localhost:8080/"
        },
        "id": "Y55FwFLPZedJ",
        "outputId": "bc8d7138-5c80-4686-fbad-a2e63b4efee6"
      },
      "execution_count": null,
      "outputs": [
        {
          "output_type": "stream",
          "name": "stdout",
          "text": [
            "4\n",
            "3\n",
            "2\n",
            "1\n",
            "0\n"
          ]
        }
      ]
    },
    {
      "cell_type": "code",
      "source": [
        "for i in reversed(range(5)):\n",
        "  print(i)"
      ],
      "metadata": {
        "colab": {
          "base_uri": "https://localhost:8080/"
        },
        "id": "aGGGtIcGZqX1",
        "outputId": "25f16655-f121-4800-d890-76ad0e401048"
      },
      "execution_count": null,
      "outputs": [
        {
          "output_type": "stream",
          "name": "stdout",
          "text": [
            "4\n",
            "3\n",
            "2\n",
            "1\n",
            "0\n"
          ]
        }
      ]
    },
    {
      "cell_type": "markdown",
      "source": [
        "##중첩 반복문으로 피라미드 만들기"
      ],
      "metadata": {
        "id": "eUP7fWRxZ7Dq"
      }
    },
    {
      "cell_type": "code",
      "source": [
        "output = \"\"\n",
        "\n",
        "for i in range(1,10):\n",
        "  for j in range(0,i):\n",
        "    output += \"*\"\n",
        "  output += \"\\n\"\n",
        "\n",
        "print(output)"
      ],
      "metadata": {
        "colab": {
          "base_uri": "https://localhost:8080/"
        },
        "id": "dAN5wTkNZ5ZR",
        "outputId": "7fc84af4-9d99-4fec-bdbb-8e1737a84916"
      },
      "execution_count": null,
      "outputs": [
        {
          "output_type": "stream",
          "name": "stdout",
          "text": [
            "*\n",
            "**\n",
            "***\n",
            "****\n",
            "*****\n",
            "******\n",
            "*******\n",
            "********\n",
            "*********\n",
            "\n"
          ]
        }
      ]
    },
    {
      "cell_type": "code",
      "source": [
        "output = \"\"\n",
        "\n",
        "for i in range(1,15):\n",
        "  for j in range(14, i, -1):\n",
        "    output += ' ' #띄어쓰기!\n",
        "  for k in range(0, 2*i - 1):\n",
        "    output += '*'\n",
        "  output += '\\n'\n",
        "\n",
        "print(output)"
      ],
      "metadata": {
        "colab": {
          "base_uri": "https://localhost:8080/"
        },
        "id": "uaPFmBJ6bPEQ",
        "outputId": "b3b35736-97d7-4fbe-b575-40ecf6eb0046"
      },
      "execution_count": null,
      "outputs": [
        {
          "output_type": "stream",
          "name": "stdout",
          "text": [
            "             *\n",
            "            ***\n",
            "           *****\n",
            "          *******\n",
            "         *********\n",
            "        ***********\n",
            "       *************\n",
            "      ***************\n",
            "     *****************\n",
            "    *******************\n",
            "   *********************\n",
            "  ***********************\n",
            " *************************\n",
            "***************************\n",
            "\n"
          ]
        }
      ]
    },
    {
      "cell_type": "markdown",
      "source": [
        "##while 반복문: for 반복문처럼 사용하기"
      ],
      "metadata": {
        "id": "s3ONXNB1cLvJ"
      }
    },
    {
      "cell_type": "code",
      "source": [
        "i = 0\n",
        "while i < 10:\n",
        "  print(\"{}번째 반복임\".format(i))\n",
        "  i += 1"
      ],
      "metadata": {
        "colab": {
          "base_uri": "https://localhost:8080/"
        },
        "id": "T85ehtYDboeE",
        "outputId": "b5c7e707-618c-499d-d80e-3c9a606e5cd8"
      },
      "execution_count": null,
      "outputs": [
        {
          "output_type": "stream",
          "name": "stdout",
          "text": [
            "0번째 반복임\n",
            "1번째 반복임\n",
            "2번째 반복임\n",
            "3번째 반복임\n",
            "4번째 반복임\n",
            "5번째 반복임\n",
            "6번째 반복임\n",
            "7번째 반복임\n",
            "8번째 반복임\n",
            "9번째 반복임\n"
          ]
        }
      ]
    },
    {
      "cell_type": "markdown",
      "source": [
        "##while 반복문: 상태를 기반으로 반복하기"
      ],
      "metadata": {
        "id": "iIW6BbVyhjhD"
      }
    },
    {
      "cell_type": "code",
      "source": [
        "list_test = [1,2,1,2]\n",
        "value = 2\n",
        "\n",
        "while value in list_test:\n",
        "  list_test.remove(value)\n",
        "\n",
        "print(list_test)"
      ],
      "metadata": {
        "colab": {
          "base_uri": "https://localhost:8080/"
        },
        "id": "YMS_QY-NgvW-",
        "outputId": "586bb470-6925-4803-c972-95d344f54c20"
      },
      "execution_count": null,
      "outputs": [
        {
          "output_type": "stream",
          "name": "stdout",
          "text": [
            "[1, 1]\n"
          ]
        }
      ]
    },
    {
      "cell_type": "markdown",
      "source": [
        "##while 반복문: 시간을 기반으로 반복하기"
      ],
      "metadata": {
        "id": "psuBeQCWiDEE"
      }
    },
    {
      "cell_type": "code",
      "source": [
        "import time\n",
        "number = 0\n",
        "target_tick = time.time() + 5\n",
        "while time.time() < target_tick:\n",
        "  number += 1\n",
        "print(number)"
      ],
      "metadata": {
        "colab": {
          "base_uri": "https://localhost:8080/"
        },
        "id": "szx8_2Moh-P2",
        "outputId": "0ca605db-3992-4d36-b080-57b6d0cf5460"
      },
      "execution_count": null,
      "outputs": [
        {
          "output_type": "stream",
          "name": "stdout",
          "text": [
            "21581605\n"
          ]
        }
      ]
    },
    {
      "cell_type": "code",
      "source": [
        "time.time()"
      ],
      "metadata": {
        "colab": {
          "base_uri": "https://localhost:8080/"
        },
        "id": "pv6bciE-i-gE",
        "outputId": "361f46c3-fa99-4054-d960-72a8029154e2"
      },
      "execution_count": null,
      "outputs": [
        {
          "output_type": "execute_result",
          "data": {
            "text/plain": [
              "1713147565.930603"
            ]
          },
          "metadata": {},
          "execution_count": 122
        }
      ]
    },
    {
      "cell_type": "markdown",
      "source": [
        "##while 반복문: break키워드, continue키워드"
      ],
      "metadata": {
        "id": "f2ydYXMpjskT"
      }
    },
    {
      "cell_type": "code",
      "source": [
        "i = 0\n",
        "\n",
        "while True:\n",
        "  print(i)\n",
        "  i += 1\n",
        "  if i == 10: #== 기억해주기\n",
        "    break"
      ],
      "metadata": {
        "colab": {
          "base_uri": "https://localhost:8080/"
        },
        "id": "WKlPQWRTjVTA",
        "outputId": "07c68604-a4ec-4938-de3c-b112b1239797"
      },
      "execution_count": null,
      "outputs": [
        {
          "output_type": "stream",
          "name": "stdout",
          "text": [
            "0\n",
            "1\n",
            "2\n",
            "3\n",
            "4\n",
            "5\n",
            "6\n",
            "7\n",
            "8\n",
            "9\n"
          ]
        }
      ]
    },
    {
      "cell_type": "code",
      "source": [
        "numbers = [5, 15, 6, 20, 7, 25]\n",
        "for number in numbers:\n",
        "  if number < 10:\n",
        "    continue\n",
        "  print(number)"
      ],
      "metadata": {
        "colab": {
          "base_uri": "https://localhost:8080/"
        },
        "id": "U8zLq92jkKtP",
        "outputId": "93c528f5-87e4-4e1b-be3f-f24ae45bffd9"
      },
      "execution_count": null,
      "outputs": [
        {
          "output_type": "stream",
          "name": "stdout",
          "text": [
            "15\n",
            "20\n",
            "25\n"
          ]
        }
      ]
    },
    {
      "cell_type": "markdown",
      "source": [
        "#04-4. 문자열, 리스트, 딕셔너리와 관련된 기본 함수"
      ],
      "metadata": {
        "id": "3HrVmoH9dlVp"
      }
    },
    {
      "cell_type": "markdown",
      "source": [
        "##리스트에 적용할 수 있는 기본 함수: min(), max(), sum()"
      ],
      "metadata": {
        "id": "3DWq6RvydoFt"
      }
    },
    {
      "cell_type": "code",
      "source": [
        "numbers = [12, 2134, 211, 231]\n",
        "print(min(numbers))\n",
        "print(max(numbers))\n",
        "print(sum(numbers))"
      ],
      "metadata": {
        "colab": {
          "base_uri": "https://localhost:8080/"
        },
        "id": "cI3nav6qdWVJ",
        "outputId": "97cf696f-b6d5-4bc9-dd94-b636feb2eaf1"
      },
      "execution_count": null,
      "outputs": [
        {
          "output_type": "stream",
          "name": "stdout",
          "text": [
            "12\n",
            "2134\n",
            "2588\n"
          ]
        }
      ]
    },
    {
      "cell_type": "markdown",
      "source": [
        "##reversed()함수로 리스트 뒤집기"
      ],
      "metadata": {
        "id": "EUy9acfRdV78"
      }
    },
    {
      "cell_type": "code",
      "source": [
        "list_a = [1,2,3,4,5]\n",
        "list_reversed = reversed(list_a)\n",
        "\n",
        "print(list_reversed)"
      ],
      "metadata": {
        "colab": {
          "base_uri": "https://localhost:8080/"
        },
        "id": "T5UyZRjLijUa",
        "outputId": "ab6e01cf-2a9d-461f-80e3-18942051842b"
      },
      "execution_count": null,
      "outputs": [
        {
          "output_type": "stream",
          "name": "stdout",
          "text": [
            "<list_reverseiterator object at 0x7bdbaf69a1d0>\n"
          ]
        }
      ]
    },
    {
      "cell_type": "code",
      "source": [
        "for i in list_reversed:\n",
        "  print(i)"
      ],
      "metadata": {
        "colab": {
          "base_uri": "https://localhost:8080/"
        },
        "id": "tvFCDKxJi4KB",
        "outputId": "1cf2e0c0-3a59-4f45-91e7-89df57a2a631"
      },
      "execution_count": null,
      "outputs": [
        {
          "output_type": "stream",
          "name": "stdout",
          "text": [
            "5\n",
            "4\n",
            "3\n",
            "2\n",
            "1\n"
          ]
        }
      ]
    },
    {
      "cell_type": "code",
      "source": [
        "list(list_reversed)"
      ],
      "metadata": {
        "colab": {
          "base_uri": "https://localhost:8080/"
        },
        "id": "I7HB1yxAjFOa",
        "outputId": "0a277cfe-c02d-4ac4-ef75-a55c7c3a5f0d"
      },
      "execution_count": null,
      "outputs": [
        {
          "output_type": "execute_result",
          "data": {
            "text/plain": [
              "[]"
            ]
          },
          "metadata": {},
          "execution_count": 7
        }
      ]
    },
    {
      "cell_type": "code",
      "source": [
        "list_reversed"
      ],
      "metadata": {
        "colab": {
          "base_uri": "https://localhost:8080/"
        },
        "id": "M-8dxgzijHeS",
        "outputId": "d8c18097-269f-40be-e096-e79a773319bf"
      },
      "execution_count": null,
      "outputs": [
        {
          "output_type": "execute_result",
          "data": {
            "text/plain": [
              "<list_reverseiterator at 0x7bdbaf69a1d0>"
            ]
          },
          "metadata": {},
          "execution_count": 8
        }
      ]
    },
    {
      "cell_type": "code",
      "source": [
        "list_a"
      ],
      "metadata": {
        "colab": {
          "base_uri": "https://localhost:8080/"
        },
        "id": "AcGgMAKYjIby",
        "outputId": "26465c92-3727-4038-d125-ca30a17d08b0"
      },
      "execution_count": null,
      "outputs": [
        {
          "output_type": "execute_result",
          "data": {
            "text/plain": [
              "[1, 2, 3, 4, 5]"
            ]
          },
          "metadata": {},
          "execution_count": 9
        }
      ]
    },
    {
      "cell_type": "code",
      "source": [
        "reversed(list_a)"
      ],
      "metadata": {
        "colab": {
          "base_uri": "https://localhost:8080/"
        },
        "id": "yJ26Jbh_jJTK",
        "outputId": "3d8626ce-7ced-44fd-8a8a-96258d78c19a"
      },
      "execution_count": null,
      "outputs": [
        {
          "output_type": "execute_result",
          "data": {
            "text/plain": [
              "<list_reverseiterator at 0x7bdbaf698e80>"
            ]
          },
          "metadata": {},
          "execution_count": 10
        }
      ]
    },
    {
      "cell_type": "code",
      "source": [
        "print(reversed(list_a)) #이터레이터"
      ],
      "metadata": {
        "colab": {
          "base_uri": "https://localhost:8080/"
        },
        "id": "2i6tO9mpjLIK",
        "outputId": "7982025f-8593-4410-9574-914dec354d79"
      },
      "execution_count": null,
      "outputs": [
        {
          "output_type": "stream",
          "name": "stdout",
          "text": [
            "<list_reverseiterator object at 0x7bdbaf699fc0>\n"
          ]
        }
      ]
    },
    {
      "cell_type": "markdown",
      "source": [
        "##enumerate() 함수와 반복문 조합하기"
      ],
      "metadata": {
        "id": "TDT4VywIjs8D"
      }
    },
    {
      "cell_type": "code",
      "source": [
        "example_list = [\"요소A\", \"요소B\", '요소C']"
      ],
      "metadata": {
        "id": "5it6aZrpjdNq"
      },
      "execution_count": null,
      "outputs": []
    },
    {
      "cell_type": "code",
      "source": [
        "print(example_list)"
      ],
      "metadata": {
        "colab": {
          "base_uri": "https://localhost:8080/"
        },
        "id": "3NM0gSMNj24r",
        "outputId": "57336524-c0f2-4212-b4b7-70480040cc9b"
      },
      "execution_count": null,
      "outputs": [
        {
          "output_type": "stream",
          "name": "stdout",
          "text": [
            "['요소A', '요소B', '요소C']\n"
          ]
        }
      ]
    },
    {
      "cell_type": "code",
      "source": [
        "print(enumerate(example_list))"
      ],
      "metadata": {
        "colab": {
          "base_uri": "https://localhost:8080/"
        },
        "id": "z7ZCIqIIkKZT",
        "outputId": "1fd73bd0-4261-45b6-cd09-429650bf3918"
      },
      "execution_count": null,
      "outputs": [
        {
          "output_type": "stream",
          "name": "stdout",
          "text": [
            "<enumerate object at 0x7bdbe0d5af40>\n"
          ]
        }
      ]
    },
    {
      "cell_type": "code",
      "source": [
        "list(enumerate(example_list)) #튜플은 5장에서 배운다"
      ],
      "metadata": {
        "colab": {
          "base_uri": "https://localhost:8080/"
        },
        "id": "qcRI-mLwkNMb",
        "outputId": "1be1ba26-bea9-47eb-d1c4-ff995e8b6ede"
      },
      "execution_count": null,
      "outputs": [
        {
          "output_type": "execute_result",
          "data": {
            "text/plain": [
              "[(0, '요소A'), (1, '요소B'), (2, '요소C')]"
            ]
          },
          "metadata": {},
          "execution_count": 15
        }
      ]
    },
    {
      "cell_type": "code",
      "source": [
        "#반복문과 조합하기\n",
        "for i, value in enumerate(example_list):\n",
        "  print(\"{}번째 요소는 {}입니다\".format(i, value))"
      ],
      "metadata": {
        "colab": {
          "base_uri": "https://localhost:8080/"
        },
        "id": "KGRTH2pykTYD",
        "outputId": "dfddde95-2d7f-4cc1-a480-299d29c5d5c7"
      },
      "execution_count": null,
      "outputs": [
        {
          "output_type": "stream",
          "name": "stdout",
          "text": [
            "0번째 요소는 요소A입니다\n",
            "1번째 요소는 요소B입니다\n",
            "2번째 요소는 요소C입니다\n"
          ]
        }
      ]
    },
    {
      "cell_type": "markdown",
      "source": [
        "##딕셔너리의 items() 함수와 반복문 조합하기"
      ],
      "metadata": {
        "id": "-z1I7GW4lPHN"
      }
    },
    {
      "cell_type": "code",
      "source": [
        "example_dictionary = {\n",
        "    \"키A\": \"값A\",\n",
        "    \"키B\": \"값B\",\n",
        "    \"키C\": \"값C\"\n",
        "}"
      ],
      "metadata": {
        "id": "7vDQdhUsk_tc"
      },
      "execution_count": null,
      "outputs": []
    },
    {
      "cell_type": "code",
      "source": [
        "example_dictionary"
      ],
      "metadata": {
        "colab": {
          "base_uri": "https://localhost:8080/"
        },
        "id": "0nrW2eYnlgHG",
        "outputId": "9b334e5b-da46-4a44-bdd1-be4080bbbc6f"
      },
      "execution_count": null,
      "outputs": [
        {
          "output_type": "execute_result",
          "data": {
            "text/plain": [
              "{'키A': '값A', '키B': '값B', '키C': '값C'}"
            ]
          },
          "metadata": {},
          "execution_count": 20
        }
      ]
    },
    {
      "cell_type": "code",
      "source": [
        "example_dictionary.items()"
      ],
      "metadata": {
        "colab": {
          "base_uri": "https://localhost:8080/"
        },
        "id": "Fk3JQWb6ljv1",
        "outputId": "2b19fe3f-4234-49a8-faba-4acfbbdcde2f"
      },
      "execution_count": null,
      "outputs": [
        {
          "output_type": "execute_result",
          "data": {
            "text/plain": [
              "dict_items([('키A', '값A'), ('키B', '값B'), ('키C', '값C')])"
            ]
          },
          "metadata": {},
          "execution_count": 21
        }
      ]
    },
    {
      "cell_type": "code",
      "source": [
        "for key, element in example_dictionary.items():\n",
        "  print('dictionary[{}]={}'.format(key, element))"
      ],
      "metadata": {
        "colab": {
          "base_uri": "https://localhost:8080/"
        },
        "id": "3RS4rbwHlqet",
        "outputId": "c8776178-cfdb-452e-a851-097d8fbdafa6"
      },
      "execution_count": null,
      "outputs": [
        {
          "output_type": "stream",
          "name": "stdout",
          "text": [
            "dictionary[키A]=값A\n",
            "dictionary[키B]=값B\n",
            "dictionary[키C]=값C\n"
          ]
        }
      ]
    },
    {
      "cell_type": "markdown",
      "source": [
        "##리스트 내포\n",
        "리스트 이름 = [표현식 for 반복자 in 반복할 수 있는 것]  \n",
        "리스트 이름 = [표현식 for 반복자 in 반복할 수 있는 것 if 조건문]"
      ],
      "metadata": {
        "id": "DYV9_h_cmSms"
      }
    },
    {
      "cell_type": "code",
      "source": [
        "array = []\n",
        "\n",
        "for i in range(0, 20, 2):\n",
        "  array.append(i*i)\n",
        "\n",
        "print(array)"
      ],
      "metadata": {
        "colab": {
          "base_uri": "https://localhost:8080/"
        },
        "id": "1XVuLAXDmTaH",
        "outputId": "a0dba197-d82c-4a86-a28d-b44f3c7cac89"
      },
      "execution_count": null,
      "outputs": [
        {
          "output_type": "stream",
          "name": "stdout",
          "text": [
            "[0, 4, 16, 36, 64, 100, 144, 196, 256, 324]\n"
          ]
        }
      ]
    },
    {
      "cell_type": "code",
      "source": [
        "array = [\"사과\", \"자두\", \"초콜릿\", \"바나나\", \"제리\"]\n",
        "output = [fruit for fruit in array if fruit != \"초콜릿\"]\n",
        "\n",
        "print(output)"
      ],
      "metadata": {
        "colab": {
          "base_uri": "https://localhost:8080/"
        },
        "id": "W0vbD-xCmiAK",
        "outputId": "84d06541-2292-4146-b3e5-08bfff5fec51"
      },
      "execution_count": null,
      "outputs": [
        {
          "output_type": "stream",
          "name": "stdout",
          "text": [
            "['사과', '자두', '바나나', '제리']\n"
          ]
        }
      ]
    },
    {
      "cell_type": "code",
      "source": [],
      "metadata": {
        "id": "dFJeha6FnHo2"
      },
      "execution_count": null,
      "outputs": []
    }
  ]
}
