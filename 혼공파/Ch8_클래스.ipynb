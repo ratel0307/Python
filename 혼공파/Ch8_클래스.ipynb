{
  "nbformat": 4,
  "nbformat_minor": 0,
  "metadata": {
    "colab": {
      "provenance": [],
      "authorship_tag": "ABX9TyOS9Oo48+Ehh+mpwIThKafD",
      "include_colab_link": true
    },
    "kernelspec": {
      "name": "python3",
      "display_name": "Python 3"
    },
    "language_info": {
      "name": "python"
    }
  },
  "cells": [
    {
      "cell_type": "markdown",
      "metadata": {
        "id": "view-in-github",
        "colab_type": "text"
      },
      "source": [
        "<a href=\"https://colab.research.google.com/github/ratel0307/Python/blob/main/Ch8_%ED%81%B4%EB%9E%98%EC%8A%A4.ipynb\" target=\"_parent\"><img src=\"https://colab.research.google.com/assets/colab-badge.svg\" alt=\"Open In Colab\"/></a>"
      ]
    },
    {
      "cell_type": "markdown",
      "source": [
        "#08-1. 클래스의 기본\n",
        "이번 절에서는 클래스와 객체에 대해서 다룸. 핵심 키워드 수가 많고 그 개념이 처음에는 생소하여 이해하기 쉽지 않지만 일단 해보자.\n",
        "\n",
        "작은 규모의 프로그램에서는 왜 이런 복잡한 개념을 배우는지 이해하기 어렵지만, 인공지능 공부할 때 클래스를 어디에 사용하는지 그때부터 감을 잡을 수 있으니 문법 정도만 이해만 한 상태로 넘어가자!\n",
        "\n",
        "**강의를 보며 종이나 공책에 객체, 클래스, 인스턴스, 생성자, 메소드에 대한 설명을 적으며 따라오길 바란다.**"
      ],
      "metadata": {
        "id": "azDmBOO2Kk2f"
      }
    },
    {
      "cell_type": "code",
      "source": [
        "# 학생 리스트를 선언합니다.\n",
        "students = [\n",
        "    { \"name\": \"윤인성\", \"korean\": 87, \"math\": 98, \"english\": 88, \"science\": 95 },\n",
        "    { \"name\": \"연하진\", \"korean\": 92, \"math\": 98, \"english\": 96, \"science\": 98 },\n",
        "    { \"name\": \"구지연\", \"korean\": 76, \"math\": 96, \"english\": 94, \"science\": 90 },\n",
        "    { \"name\": \"나선주\", \"korean\": 98, \"math\": 92, \"english\": 96, \"science\": 92 },\n",
        "    { \"name\": \"윤아린\", \"korean\": 95, \"math\": 98, \"english\": 98, \"science\": 98 },\n",
        "    { \"name\": \"윤명월\", \"korean\": 64, \"math\": 88, \"english\": 92, \"science\": 92 }\n",
        "]\n",
        "\n",
        "# 학생을 한 명씩 반복합니다.\n",
        "print(\"이름\", \"총점\", \"평균\", sep=\"\\t\")\n",
        "for student in students:\n",
        "    # 점수의 총합과 평균을 구합니다.\n",
        "    score_sum = student[\"korean\"] + student[\"math\"] +\\\n",
        "        student[\"english\"] + student[\"science\"]\n",
        "    score_average = score_sum / 4\n",
        "    # 출력합니다.\n",
        "    print(student[\"name\"], score_sum, score_average, sep=\"\\t\")"
      ],
      "metadata": {
        "colab": {
          "base_uri": "https://localhost:8080/"
        },
        "id": "ilWRfWIMQJC3",
        "outputId": "92ae0b2a-f45b-4a36-e77b-b353475f6ada"
      },
      "execution_count": null,
      "outputs": [
        {
          "output_type": "stream",
          "name": "stdout",
          "text": [
            "이름\t총점\t평균\n",
            "윤인성\t368\t92.0\n",
            "연하진\t384\t96.0\n",
            "구지연\t356\t89.0\n",
            "나선주\t378\t94.5\n",
            "윤아린\t389\t97.25\n",
            "윤명월\t336\t84.0\n"
          ]
        }
      ]
    },
    {
      "cell_type": "code",
      "source": [
        "# 딕셔너리를 리턴하는 함수를 선언합니다.\n",
        "def create_student(name, korean, math, english, science):\n",
        "    return {\n",
        "        \"name\": name,\n",
        "        \"korean\": korean,\n",
        "        \"math\": math,\n",
        "        \"english\": english,\n",
        "        \"science\": science\n",
        "    }\n",
        "\n",
        "# 학생 리스트를 선언합니다.\n",
        "students = [\n",
        "    create_student(\"윤인성\", 87, 98, 88, 95),\n",
        "    create_student(\"연하진\", 92, 98, 96, 98),\n",
        "    create_student(\"구지연\", 76, 96, 94, 90),\n",
        "    create_student(\"나선주\", 98, 92, 96, 92),\n",
        "    create_student(\"윤아린\", 95, 98, 98, 98),\n",
        "    create_student(\"윤명월\", 64, 88, 92, 92)\n",
        "]\n",
        "\n",
        "# 학생을 한 명씩 반복합니다.\n",
        "print(\"이름\", \"총점\", \"평균\", sep=\"\\t\")\n",
        "for student in students:\n",
        "    # 점수의 총합과 평균을 구합니다.\n",
        "    score_sum = student[\"korean\"] + student[\"math\"] +\\\n",
        "        student[\"english\"] + student[\"science\"]\n",
        "    score_average = score_sum / 4\n",
        "    # 출력합니다.\n",
        "    print(student[\"name\"], score_sum, score_average, sep=\"\\t\")"
      ],
      "metadata": {
        "colab": {
          "base_uri": "https://localhost:8080/"
        },
        "id": "0qrLT9VPQo4G",
        "outputId": "14535aad-4d0c-49b9-d979-c9ca224051d2"
      },
      "execution_count": null,
      "outputs": [
        {
          "output_type": "stream",
          "name": "stdout",
          "text": [
            "이름\t총점\t평균\n",
            "윤인성\t368\t92.0\n",
            "연하진\t384\t96.0\n",
            "구지연\t356\t89.0\n",
            "나선주\t378\t94.5\n",
            "윤아린\t389\t97.25\n",
            "윤명월\t336\t84.0\n"
          ]
        }
      ]
    },
    {
      "cell_type": "code",
      "source": [
        "# 딕셔너리를 리턴하는 함수를 선언합니다.\n",
        "def create_student(name, korean, math, english, science):\n",
        "    return {\n",
        "        \"name\": name,\n",
        "        \"korean\": korean,\n",
        "        \"math\": math,\n",
        "        \"english\": english,\n",
        "        \"science\": science\n",
        "    }\n",
        "\n",
        "# 학생을 처리하는 함수를 선언합니다.\n",
        "def student_get_sum(student):\n",
        "    return student[\"korean\"] + student[\"math\"] +\\\n",
        "        student[\"english\"] + student[\"science\"]\n",
        "\n",
        "def student_get_average(student):\n",
        "    return student_get_sum(student) / 4\n",
        "\n",
        "def student_to_string(student):\n",
        "    return \"{}\\t{}\\t{}\".format(\n",
        "        student[\"name\"],\n",
        "        student_get_sum(student),\n",
        "        student_get_average(student))\n",
        "\n",
        "# 학생 리스트를 선언합니다.\n",
        "students = [\n",
        "    create_student(\"윤인성\", 87, 98, 88, 95),\n",
        "    create_student(\"연하진\", 92, 98, 96, 98),\n",
        "    create_student(\"구지연\", 76, 96, 94, 90),\n",
        "    create_student(\"나선주\", 98, 92, 96, 92),\n",
        "    create_student(\"윤아린\", 95, 98, 98, 98),\n",
        "    create_student(\"윤명월\", 64, 88, 92, 92)\n",
        "]\n",
        "\n",
        "# 학생을 한 명씩 반복합니다.\n",
        "print(\"이름\", \"총점\", \"평균\", sep=\"\\t\")\n",
        "for student in students:\n",
        "    # 출력합니다.\n",
        "    print(student_to_string(student))"
      ],
      "metadata": {
        "colab": {
          "base_uri": "https://localhost:8080/"
        },
        "id": "hsqkKzjXUXa8",
        "outputId": "37d3ccf6-f378-414a-916a-eb9438716a84"
      },
      "execution_count": null,
      "outputs": [
        {
          "output_type": "stream",
          "name": "stdout",
          "text": [
            "이름\t총점\t평균\n",
            "윤인성\t368\t92.0\n",
            "연하진\t384\t96.0\n",
            "구지연\t356\t89.0\n",
            "나선주\t378\t94.5\n",
            "윤아린\t389\t97.25\n",
            "윤명월\t336\t84.0\n"
          ]
        }
      ]
    },
    {
      "cell_type": "code",
      "source": [
        "# 클래스를 선언합니다.\n",
        "class Student:\n",
        "    def __init__(self, name, korean, math, english, science):\n",
        "        self.name = name\n",
        "        self.korean = korean\n",
        "        self.math = math\n",
        "        self.english = english\n",
        "        self.science = science\n",
        "\n",
        "    def get_sum(self):\n",
        "        return self.korean + self.math +\\\n",
        "            self.english + self.science\n",
        "\n",
        "    def get_average(self):\n",
        "        return self.get_sum() / 4\n",
        "\n",
        "    def to_string(self):\n",
        "        return \"{}\\t{}\\t{}\".format(\\\n",
        "            self.name,\\\n",
        "            self.get_sum(),\\\n",
        "            self.get_average())\n",
        "\n",
        "# 학생 리스트를 선언합니다.\n",
        "students = [\n",
        "    Student(\"윤인성\", 87, 98, 88, 95),\n",
        "    Student(\"연하진\", 92, 98, 96, 98),\n",
        "    Student(\"구지연\", 76, 96, 94, 90),\n",
        "    Student(\"나선주\", 98, 92, 96, 92),\n",
        "    Student(\"윤아린\", 95, 98, 98, 98),\n",
        "    Student(\"윤명월\", 64, 88, 92, 92)\n",
        "]\n",
        "\n",
        "# 학생을 한 명씩 반복합니다.\n",
        "print(\"이름\", \"총점\", \"평균\", sep=\"\\t\")\n",
        "for student in students:\n",
        "    # 출력합니다.\n",
        "    print(student.to_string())"
      ],
      "metadata": {
        "colab": {
          "base_uri": "https://localhost:8080/"
        },
        "id": "-uEvSoVFUgaz",
        "outputId": "cf5bea05-5763-4f00-8bf6-130a7dc323f4"
      },
      "execution_count": null,
      "outputs": [
        {
          "output_type": "stream",
          "name": "stdout",
          "text": [
            "이름\t총점\t평균\n",
            "윤인성\t368\t92.0\n",
            "연하진\t384\t96.0\n",
            "구지연\t356\t89.0\n",
            "나선주\t378\t94.5\n",
            "윤아린\t389\t97.25\n",
            "윤명월\t336\t84.0\n"
          ]
        }
      ]
    },
    {
      "cell_type": "code",
      "source": [],
      "metadata": {
        "id": "XTp-fwfNVTRZ"
      },
      "execution_count": null,
      "outputs": []
    }
  ]
}
