{
  "cells": [
    {
      "cell_type": "markdown",
      "metadata": {
        "id": "view-in-github",
        "colab_type": "text"
      },
      "source": [
        "<a href=\"https://colab.research.google.com/github/ratel0307/Python/blob/main/Ch3_%EC%A1%B0%EA%B1%B4%EB%AC%B8.ipynb\" target=\"_parent\"><img src=\"https://colab.research.google.com/assets/colab-badge.svg\" alt=\"Open In Colab\"/></a>"
      ]
    },
    {
      "cell_type": "markdown",
      "metadata": {
        "id": "8k8SzfLoaKfw"
      },
      "source": [
        "#03-1. 불 자료형과 if 조건문"
      ]
    },
    {
      "cell_type": "markdown",
      "metadata": {
        "id": "cg9nneKTtsmO"
      },
      "source": [
        "##불 만들기: 비교 연산자"
      ]
    },
    {
      "cell_type": "code",
      "execution_count": null,
      "metadata": {
        "colab": {
          "base_uri": "https://localhost:8080/"
        },
        "id": "qmIuBAUutp8t",
        "outputId": "f4e7064f-907e-4416-fca8-e8fcc705dc47"
      },
      "outputs": [
        {
          "name": "stdout",
          "output_type": "stream",
          "text": [
            "True\n"
          ]
        }
      ],
      "source": [
        "print(\"가방\"==\"가방\")"
      ]
    },
    {
      "cell_type": "code",
      "execution_count": null,
      "metadata": {
        "colab": {
          "base_uri": "https://localhost:8080/"
        },
        "id": "Q6fyUUqMty32",
        "outputId": "ccbdc6f2-1cc2-427a-d7b9-9110f48728b2"
      },
      "outputs": [
        {
          "name": "stdout",
          "output_type": "stream",
          "text": [
            "False\n"
          ]
        }
      ],
      "source": [
        "print(\"가방\"!=\"가방\") #문자열에도 비교연산자를 적용할 수 있다"
      ]
    },
    {
      "cell_type": "markdown",
      "metadata": {
        "id": "X_XkfDEdt7mk"
      },
      "source": [
        "##불 연산자: 논리 연산자\n",
        "and 연산자: 양쪽 변의 값이 모두 참일 때만 True를 결과로 낸다  \n",
        "or 연산자: 둘 중 하나만 참이어도 True를 결과로 낸다"
      ]
    },
    {
      "cell_type": "code",
      "execution_count": null,
      "metadata": {
        "colab": {
          "base_uri": "https://localhost:8080/"
        },
        "id": "oNjRYy9Ot1-F",
        "outputId": "f64eb6b1-dfba-4d15-9dd9-afaafc7e8c6d"
      },
      "outputs": [
        {
          "name": "stdout",
          "output_type": "stream",
          "text": [
            "False\n"
          ]
        }
      ],
      "source": [
        "print(not True)"
      ]
    },
    {
      "cell_type": "code",
      "execution_count": null,
      "metadata": {
        "colab": {
          "base_uri": "https://localhost:8080/"
        },
        "id": "8xxe7Lg3uCEE",
        "outputId": "35642235-5637-47ce-d107-afb18c8ed983"
      },
      "outputs": [
        {
          "name": "stdout",
          "output_type": "stream",
          "text": [
            "True\n"
          ]
        }
      ],
      "source": [
        "x = 10\n",
        "under_20 = x < 20\n",
        "print(under_20)"
      ]
    },
    {
      "cell_type": "code",
      "execution_count": null,
      "metadata": {
        "colab": {
          "base_uri": "https://localhost:8080/"
        },
        "id": "JLWyXoZauLjb",
        "outputId": "13461926-2817-4581-e0b4-23d99171460f"
      },
      "outputs": [
        {
          "name": "stdout",
          "output_type": "stream",
          "text": [
            "True\n"
          ]
        }
      ],
      "source": [
        "print(True or False)"
      ]
    },
    {
      "cell_type": "markdown",
      "metadata": {
        "id": "kqmMs-7AuvJ8"
      },
      "source": [
        "##if 조건문이란?"
      ]
    },
    {
      "cell_type": "code",
      "execution_count": null,
      "metadata": {
        "colab": {
          "base_uri": "https://localhost:8080/"
        },
        "id": "JuaidnerucFM",
        "outputId": "3070b686-e266-4fa3-a124-98fb3d56c3e8"
      },
      "outputs": [
        {
          "name": "stdout",
          "output_type": "stream",
          "text": [
            "정수 입력> -1\n"
          ]
        }
      ],
      "source": [
        "number = input(\"정수 입력> \")\n",
        "number = int(number)"
      ]
    },
    {
      "cell_type": "code",
      "execution_count": null,
      "metadata": {
        "colab": {
          "base_uri": "https://localhost:8080/"
        },
        "id": "pMQd3hnivLu-",
        "outputId": "0f0fa0ba-fc16-4e0e-8e78-eab8756f78ee"
      },
      "outputs": [
        {
          "name": "stdout",
          "output_type": "stream",
          "text": [
            "음수\n"
          ]
        }
      ],
      "source": [
        "if number > 0:\n",
        "  print(\"양수\")\n",
        "elif number < 0:\n",
        "  print(\"음수\")\n",
        "else:\n",
        "  print(\"0\")"
      ]
    },
    {
      "cell_type": "markdown",
      "metadata": {
        "id": "p0JWZvSTvqWY"
      },
      "source": [
        "##날짜/시간 활용하기"
      ]
    },
    {
      "cell_type": "code",
      "execution_count": null,
      "metadata": {
        "id": "tEffwUwNvV4-"
      },
      "outputs": [],
      "source": [
        "import datetime #날짜/시간과 관련된 기능가 가져옵니다"
      ]
    },
    {
      "cell_type": "code",
      "execution_count": null,
      "metadata": {
        "id": "WQgcN5A0vtqW"
      },
      "outputs": [],
      "source": [
        "now = datetime.datetime.now()"
      ]
    },
    {
      "cell_type": "code",
      "execution_count": null,
      "metadata": {
        "colab": {
          "base_uri": "https://localhost:8080/"
        },
        "id": "O0ql0Xnrv7yW",
        "outputId": "84f1c533-b77a-4393-8881-d58b932e4821"
      },
      "outputs": [
        {
          "name": "stdout",
          "output_type": "stream",
          "text": [
            "2024년 4월 10일 2시 4분 21초\n"
          ]
        }
      ],
      "source": [
        "print(\"{}년 {}월 {}일 {}시 {}분 {}초\".format(\n",
        "  now.year,\n",
        "  now.month,\n",
        "  now.day,\n",
        "  now.hour,\n",
        "  now.minute,\n",
        "  now.second\n",
        "))"
      ]
    },
    {
      "cell_type": "code",
      "execution_count": null,
      "metadata": {
        "colab": {
          "base_uri": "https://localhost:8080/"
        },
        "id": "vWHyjbuSwDdw",
        "outputId": "20a81632-d879-4a6a-ed8d-7cba3609fed5"
      },
      "outputs": [
        {
          "name": "stdout",
          "output_type": "stream",
          "text": [
            "현지 시각은 2시로 오전입니다!\n"
          ]
        }
      ],
      "source": [
        "if now.hour < 12:\n",
        "  print(\"현지 시각은 {}시로 오전입니다!\".format(now.hour))"
      ]
    },
    {
      "cell_type": "code",
      "execution_count": null,
      "metadata": {
        "colab": {
          "base_uri": "https://localhost:8080/"
        },
        "id": "NPHve7gJ3dBa",
        "outputId": "ca644cc2-9db7-40c3-aa3f-3f49806486f2"
      },
      "outputs": [
        {
          "name": "stdout",
          "output_type": "stream",
          "text": [
            "이번 달은 4월로 봄입니다\n"
          ]
        }
      ],
      "source": [
        "if 3 <= now.month <= 5:\n",
        "  print(\"이번 달은 {}월로 봄입니다\".format(now.month))"
      ]
    },
    {
      "cell_type": "code",
      "execution_count": null,
      "metadata": {
        "colab": {
          "base_uri": "https://localhost:8080/"
        },
        "id": "fVOn0gXU3vjS",
        "outputId": "32b07c78-d7ae-4712-e955-b35e08045873"
      },
      "outputs": [
        {
          "data": {
            "text/plain": [
              "False"
            ]
          },
          "execution_count": 24,
          "metadata": {},
          "output_type": "execute_result"
        }
      ],
      "source": [
        "6 <= now.month <= 8"
      ]
    },
    {
      "cell_type": "markdown",
      "metadata": {
        "id": "Q3O2Fu5o4T1n"
      },
      "source": [
        "##짝수와 홀수 구분하기"
      ]
    },
    {
      "cell_type": "code",
      "execution_count": null,
      "metadata": {
        "id": "Vk_8zx0531Cq"
      },
      "outputs": [],
      "source": [
        "number = input(\"정수 입력> \")\n",
        "last_character = number[-1]\n",
        "last_number = int(last_character)\n",
        "\n",
        "if last_number == 0\\\n",
        "  or last_number == 2\\\n",
        "  or last_number == 4\\\n",
        "  or last_number == 6\\\n",
        "  or last_number == 8:\n",
        "  print(\"짝수입니다\")\n",
        "else:\n",
        "  print(\"홀수입니다\")"
      ]
    },
    {
      "cell_type": "code",
      "execution_count": null,
      "metadata": {
        "colab": {
          "base_uri": "https://localhost:8080/"
        },
        "id": "llMq2p_r5Rq_",
        "outputId": "d80e25ea-2f8c-4251-a22e-4676e43aa1c5"
      },
      "outputs": [
        {
          "name": "stdout",
          "output_type": "stream",
          "text": [
            "정수 입력> 4212\n",
            "짝수입니다\n"
          ]
        }
      ],
      "source": [
        "number = input(\"정수 입력> \")\n",
        "last_character = number[-1]\n",
        "\n",
        "if last_character in \"02468\": #in 연산자!\n",
        "  print(\"짝수입니다\")\n",
        "else:\n",
        "  print(\"홀수입니다\")"
      ]
    },
    {
      "cell_type": "code",
      "execution_count": null,
      "metadata": {
        "id": "55dgeHtl6D1S"
      },
      "outputs": [],
      "source": [
        "number = input(\"정수 입력> \")\n",
        "number = int(number)\n",
        "\n",
        "if number % 2 == 0:\n",
        "  print(\"짝수입니다\")\n",
        "else:\n",
        "  print(\"홀수입니다\")"
      ]
    },
    {
      "cell_type": "markdown",
      "metadata": {
        "id": "1ylBTD31679N"
      },
      "source": [
        "#03-2. if~else와 elif 구문"
      ]
    },
    {
      "cell_type": "markdown",
      "metadata": {
        "id": "6wamkEjB7AD5"
      },
      "source": [
        "##False로 변환되는 값"
      ]
    },
    {
      "cell_type": "markdown",
      "metadata": {
        "id": "LuPUTz179-jc"
      },
      "source": [
        "False로 변환되는 값: None, 숫자 0과 0.0, 빈 컨테이너"
      ]
    },
    {
      "cell_type": "code",
      "execution_count": null,
      "metadata": {
        "colab": {
          "background_save": true
        },
        "id": "Owj-IQiO7-0b",
        "outputId": "d963dcaa-5191-4aca-ca2d-2e545d545c5a"
      },
      "outputs": [
        {
          "name": "stdout",
          "output_type": "stream",
          "text": [
            "0은 False로 변환됩니다\n"
          ]
        }
      ],
      "source": [
        "if 0:\n",
        "  print(\"0은 True로 변환됩니다\")\n",
        "else:\n",
        "  print(\"0은 False로 변환됩니다\")"
      ]
    },
    {
      "cell_type": "markdown",
      "source": [
        "##pass 키워드"
      ],
      "metadata": {
        "id": "cfTbndOQGM0N"
      }
    },
    {
      "cell_type": "code",
      "source": [],
      "metadata": {
        "id": "WdFLrD2sGN3m"
      },
      "execution_count": null,
      "outputs": []
    }
  ],
  "metadata": {
    "colab": {
      "toc_visible": true,
      "provenance": [],
      "authorship_tag": "ABX9TyOUnhcmMHVY32bjA6DU2L3M",
      "include_colab_link": true
    },
    "kernelspec": {
      "display_name": "Python 3",
      "name": "python3"
    },
    "language_info": {
      "name": "python"
    }
  },
  "nbformat": 4,
  "nbformat_minor": 0
}