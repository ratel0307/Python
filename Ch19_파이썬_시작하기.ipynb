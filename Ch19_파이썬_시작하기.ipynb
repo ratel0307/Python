{
  "nbformat": 4,
  "nbformat_minor": 0,
  "metadata": {
    "colab": {
      "provenance": [],
      "authorship_tag": "ABX9TyOZHiP88iJKmmTCL0Hhj2Ax",
      "include_colab_link": true
    },
    "kernelspec": {
      "name": "python3",
      "display_name": "Python 3"
    },
    "language_info": {
      "name": "python"
    }
  },
  "cells": [
    {
      "cell_type": "markdown",
      "metadata": {
        "id": "view-in-github",
        "colab_type": "text"
      },
      "source": [
        "<a href=\"https://colab.research.google.com/github/ratel0307/Python/blob/main/Ch19_%ED%8C%8C%EC%9D%B4%EC%8D%AC_%EC%8B%9C%EC%9E%91%ED%95%98%EA%B8%B0.ipynb\" target=\"_parent\"><img src=\"https://colab.research.google.com/assets/colab-badge.svg\" alt=\"Open In Colab\"/></a>"
      ]
    },
    {
      "cell_type": "markdown",
      "source": [
        "##반복문"
      ],
      "metadata": {
        "id": "ye6AqRqFdmNy"
      }
    },
    {
      "cell_type": "code",
      "source": [
        "list(range(10))"
      ],
      "metadata": {
        "colab": {
          "base_uri": "https://localhost:8080/"
        },
        "id": "LdA1fMytdQDL",
        "outputId": "4b26992c-e5be-432f-8f60-28dcba304a48"
      },
      "execution_count": null,
      "outputs": [
        {
          "output_type": "execute_result",
          "data": {
            "text/plain": [
              "[0, 1, 2, 3, 4, 5, 6, 7, 8, 9]"
            ]
          },
          "metadata": {},
          "execution_count": 2
        }
      ]
    },
    {
      "cell_type": "code",
      "source": [
        "for n in range(10):\n",
        "  print(n)\n",
        "  pass\n",
        "print(\"done\")"
      ],
      "metadata": {
        "colab": {
          "base_uri": "https://localhost:8080/"
        },
        "id": "WOaxF5W_diJn",
        "outputId": "95df0885-dce1-4c94-ba67-9b261ff5f3c6"
      },
      "execution_count": null,
      "outputs": [
        {
          "output_type": "stream",
          "name": "stdout",
          "text": [
            "0\n",
            "1\n",
            "2\n",
            "3\n",
            "4\n",
            "5\n",
            "6\n",
            "7\n",
            "8\n",
            "9\n",
            "done\n"
          ]
        }
      ]
    },
    {
      "cell_type": "code",
      "source": [
        "for n in range(10):\n",
        "  print(\"The square of\", n, \"is\", n*n)\n",
        "  pass\n",
        "print(\"done\")"
      ],
      "metadata": {
        "colab": {
          "base_uri": "https://localhost:8080/"
        },
        "id": "aVrE5Ul2eENa",
        "outputId": "f17f6c8a-41d1-4976-878b-e14e94141f54"
      },
      "execution_count": null,
      "outputs": [
        {
          "output_type": "stream",
          "name": "stdout",
          "text": [
            "The square of 0 is 0\n",
            "The square of 1 is 1\n",
            "The square of 2 is 4\n",
            "The square of 3 is 9\n",
            "The square of 4 is 16\n",
            "The square of 5 is 25\n",
            "The square of 6 is 36\n",
            "The square of 7 is 49\n",
            "The square of 8 is 64\n",
            "The square of 9 is 81\n",
            "done\n"
          ]
        }
      ]
    },
    {
      "cell_type": "markdown",
      "source": [
        "##함수"
      ],
      "metadata": {
        "id": "0x2simM9eR0O"
      }
    },
    {
      "cell_type": "code",
      "source": [
        "def avg(x, y): #재사용 가능한 함수 #매개변수: x, y #신경망에서는 시그모이드 활성화 함수를 재사용 가능한 함수로 만들어두고 필요할 때마다 호출\n",
        "  print(\"first input is\", x)\n",
        "  print(\"second input is\", y)\n",
        "  a = (x + y) / 2.0\n",
        "  print(\"average is\", a)\n",
        "  return a"
      ],
      "metadata": {
        "id": "6LPOTWJieO3F"
      },
      "execution_count": null,
      "outputs": []
    },
    {
      "cell_type": "code",
      "source": [
        "avg(1,2) #함수를 호출한다"
      ],
      "metadata": {
        "colab": {
          "base_uri": "https://localhost:8080/"
        },
        "id": "W_XGJJ-5e19O",
        "outputId": "f526a89b-2d42-4f42-ea5d-6c4779077471"
      },
      "execution_count": null,
      "outputs": [
        {
          "output_type": "stream",
          "name": "stdout",
          "text": [
            "first input is 1\n",
            "second input is 2\n",
            "average is 1.5\n"
          ]
        },
        {
          "output_type": "execute_result",
          "data": {
            "text/plain": [
              "1.5"
            ]
          },
          "metadata": {},
          "execution_count": 7
        }
      ]
    },
    {
      "cell_type": "markdown",
      "source": [
        "##배열(array)"
      ],
      "metadata": {
        "id": "fwGSGgbDffNt"
      }
    },
    {
      "cell_type": "code",
      "source": [
        "import numpy as np"
      ],
      "metadata": {
        "id": "8jJycgu-e3zV"
      },
      "execution_count": null,
      "outputs": []
    },
    {
      "cell_type": "code",
      "source": [
        "a = np.zeros([3,2])\n",
        "print(a)"
      ],
      "metadata": {
        "colab": {
          "base_uri": "https://localhost:8080/"
        },
        "id": "R_FFh2ithRXI",
        "outputId": "71af819c-b467-4e38-d033-7f13514a6f9a"
      },
      "execution_count": null,
      "outputs": [
        {
          "output_type": "stream",
          "name": "stdout",
          "text": [
            "[[0. 0.]\n",
            " [0. 0.]\n",
            " [0. 0.]]\n"
          ]
        }
      ]
    },
    {
      "cell_type": "code",
      "source": [
        "a[0,0] = 1\n",
        "a[0,1] = 3\n",
        "print(a)"
      ],
      "metadata": {
        "colab": {
          "base_uri": "https://localhost:8080/"
        },
        "id": "7Ftv4ZX-hcMY",
        "outputId": "0eb062dd-ebcd-4530-f3a7-1e0dd215d247"
      },
      "execution_count": null,
      "outputs": [
        {
          "output_type": "stream",
          "name": "stdout",
          "text": [
            "[[1. 3.]\n",
            " [0. 0.]\n",
            " [0. 0.]]\n"
          ]
        }
      ]
    },
    {
      "cell_type": "code",
      "source": [
        "import matplotlib.pyplot as plt"
      ],
      "metadata": {
        "id": "TDTfPrdahlpA"
      },
      "execution_count": null,
      "outputs": []
    },
    {
      "cell_type": "code",
      "source": [
        "%matplotlib inline"
      ],
      "metadata": {
        "id": "9dx5eIGAh94A"
      },
      "execution_count": null,
      "outputs": []
    },
    {
      "cell_type": "code",
      "source": [
        "plt.imshow(a, interpolation=\"nearest\")\n",
        "#같은 값을 가지는 원소는 같은 색상으로 표현됨"
      ],
      "metadata": {
        "colab": {
          "base_uri": "https://localhost:8080/",
          "height": 453
        },
        "id": "gCUEofrdiDwA",
        "outputId": "cf15a01c-2e22-416d-fbca-900b945afe57"
      },
      "execution_count": null,
      "outputs": [
        {
          "output_type": "execute_result",
          "data": {
            "text/plain": [
              "<matplotlib.image.AxesImage at 0x7aa5e2152a40>"
            ]
          },
          "metadata": {},
          "execution_count": 15
        },
        {
          "output_type": "display_data",
          "data": {
            "text/plain": [
              "<Figure size 640x480 with 1 Axes>"
            ],
            "image/png": "[encoded data removed]"
          },
          "metadata": {}
        }
      ]
    },
    {
      "cell_type": "markdown",
      "source": [
        "##객체"
      ],
      "metadata": {
        "id": "sBqqpx8Xiam2"
      }
    },
    {
      "cell_type": "code",
      "source": [
        "class Dog:\n",
        "  def bark(self):\n",
        "    print(\"woof!\")\n",
        "    pass\n",
        "\n",
        "  pass"
      ],
      "metadata": {
        "id": "s2vw3NhuiMXA"
      },
      "execution_count": null,
      "outputs": []
    },
    {
      "cell_type": "code",
      "source": [
        "sizzles = Dog() #Dog 클래스의 정의로부터 sizzles라는 객체를 생성함. 이 sizzles라는 객체는 개로 간주해도 됨. 이러한 객체를 클래스의 인스턴스라고 한다."
      ],
      "metadata": {
        "id": "lsvvy-aAj-Fs"
      },
      "execution_count": null,
      "outputs": []
    },
    {
      "cell_type": "code",
      "source": [
        "sizzles.bark() #Dog 클래스로부터 생성된 모든 객체는 bark()함수를 가질 수 있어."
      ],
      "metadata": {
        "colab": {
          "base_uri": "https://localhost:8080/"
        },
        "id": "kJpKH8kQkYVq",
        "outputId": "4c9a8481-2097-4895-bff0-e4850c30f431"
      },
      "execution_count": null,
      "outputs": [
        {
          "output_type": "stream",
          "name": "stdout",
          "text": [
            "woof!\n"
          ]
        }
      ]
    },
    {
      "cell_type": "code",
      "source": [
        "sizzles = Dog()\n",
        "mutley = Dog()\n",
        "\n",
        "sizzles.bark() #bark(): 객체 함수\n",
        "mutley.bark()"
      ],
      "metadata": {
        "colab": {
          "base_uri": "https://localhost:8080/"
        },
        "id": "YvRtWdn6kdEa",
        "outputId": "864246da-fcb9-40bb-a5b9-1eb75b8910a1"
      },
      "execution_count": null,
      "outputs": [
        {
          "output_type": "stream",
          "name": "stdout",
          "text": [
            "woof!\n",
            "woof!\n"
          ]
        }
      ]
    },
    {
      "cell_type": "code",
      "source": [
        "#개 객체를 위한 함수\n",
        "class Dog:\n",
        "  #내부 데이터 초기화\n",
        "  def __init__(self, petname, temp):\n",
        "    self.name = petname\n",
        "    self.temperature = temp\n",
        "\n",
        "  #상태 확인\n",
        "  def status(self):\n",
        "    print(\"dog name is\", self.name)\n",
        "    print(\"dog temperature is\", self.temperature)\n",
        "    pass\n",
        "\n",
        "  #온도 설정\n",
        "  def setTemperature(self, temp):\n",
        "    self.temperature = temp\n",
        "    pass\n",
        "\n",
        "  #개가 짖습니다.\n",
        "  def bark(self):\n",
        "    print(\"woof!\")\n",
        "    pass\n",
        "  pass"
      ],
      "metadata": {
        "id": "JpFcV8AElTVr"
      },
      "execution_count": null,
      "outputs": []
    },
    {
      "cell_type": "markdown",
      "source": [
        "- Dog 클래스에 3개의 새로운 함수를 추가함 : init, status, setTemperature + bark\n",
        "- init(self, petname, temp) : 2개의 매개변수 전달받음\n",
        "- init 함수 : 파이썬에서는 객체가 최초로 생성될 때 이 함수를 호출하도록 약속되어 있다. 이 함수는 self.name과 self.temperature라는 2개의 변수를 생성한다. self. 부분은 이 변수들이 객체의 일부, 즉 자기 자신의 일부라는 것을 의미한다. -> 이 변수들은 오직 이 객체에만 속하며 다른 Dog 객체나 일반적인 파이썬 변수와는 독립적이라는 것을 뜻함."
      ],
      "metadata": {
        "id": "CmDt6z4Tp-3c"
      }
    },
    {
      "cell_type": "code",
      "source": [
        "lassie = Dog(\"Lassie\", 37)\n",
        "lassie.status()"
      ],
      "metadata": {
        "colab": {
          "base_uri": "https://localhost:8080/"
        },
        "id": "IZDuUTfXxe28",
        "outputId": "21f2fb64-15d8-4b55-bdd3-e5812a214397"
      },
      "execution_count": null,
      "outputs": [
        {
          "output_type": "stream",
          "name": "stdout",
          "text": [
            "dog name is Lassie\n",
            "dog temperature is 37\n"
          ]
        }
      ]
    },
    {
      "cell_type": "code",
      "source": [
        "lassie.setTemperature(40)\n",
        "lassie.status()"
      ],
      "metadata": {
        "colab": {
          "base_uri": "https://localhost:8080/"
        },
        "id": "AZ_W9Sgexnzz",
        "outputId": "e7aa4652-b3d8-4c2d-c9e3-638cb737b784"
      },
      "execution_count": null,
      "outputs": [
        {
          "output_type": "stream",
          "name": "stdout",
          "text": [
            "dog name is Lassie\n",
            "dog temperature is 40\n"
          ]
        }
      ]
    },
    {
      "cell_type": "markdown",
      "source": [
        "##객체"
      ],
      "metadata": {
        "id": "_QyeWvSRFmcf"
      }
    },
    {
      "cell_type": "code",
      "source": [
        "class Dog:\n",
        "\n",
        "  def bark (self):\n",
        "    print(\"woof!\")\n",
        "    pass\n",
        "\n",
        "  pass"
      ],
      "metadata": {
        "id": "L-AfN76zFlVX"
      },
      "execution_count": null,
      "outputs": []
    },
    {
      "cell_type": "code",
      "source": [
        "sizzles = Dog()"
      ],
      "metadata": {
        "id": "RBIImj8QGoES"
      },
      "execution_count": null,
      "outputs": []
    },
    {
      "cell_type": "code",
      "source": [
        "sizzles.bark()"
      ],
      "metadata": {
        "colab": {
          "base_uri": "https://localhost:8080/"
        },
        "id": "cYAuYL4oGrgO",
        "outputId": "0da41547-a98b-4ed1-a761-fec608ed20fb"
      },
      "execution_count": null,
      "outputs": [
        {
          "output_type": "stream",
          "name": "stdout",
          "text": [
            "woof!\n"
          ]
        }
      ]
    },
    {
      "cell_type": "code",
      "source": [
        "mutley = Dog()"
      ],
      "metadata": {
        "id": "jp-CRpLQGsbf"
      },
      "execution_count": null,
      "outputs": []
    },
    {
      "cell_type": "code",
      "source": [
        "mutley.bark()"
      ],
      "metadata": {
        "colab": {
          "base_uri": "https://localhost:8080/"
        },
        "id": "zmop4B1QHf56",
        "outputId": "e50809e7-9e61-447f-91e6-bfbc361fe6ef"
      },
      "execution_count": null,
      "outputs": [
        {
          "output_type": "stream",
          "name": "stdout",
          "text": [
            "woof!\n"
          ]
        }
      ]
    },
    {
      "cell_type": "code",
      "source": [
        "#개 객체를 위한 함수\n",
        "class Dog:\n",
        "  #내부 데이터 초기화\n",
        "  def __init__(self, petname, temp):\n",
        "    self.name = petname\n",
        "    self.temperature = temp\n",
        "\n",
        "  #상태 확인\n",
        "  def status(self):\n",
        "    print(\"dog name is\", self.name)\n",
        "    print(\"dog temperature is\", self.temperature)\n",
        "    pass\n",
        "\n",
        "  #온도 설정\n",
        "  def setTemperature(self, temp):\n",
        "    self.temperature = temp\n",
        "    pass\n",
        "\n",
        "  #개가 짖습니다.\n",
        "  def bark(self):\n",
        "    print(\"woof!\")\n",
        "    pass\n",
        "  pass"
      ],
      "metadata": {
        "id": "RcP1SjWiH5ys"
      },
      "execution_count": null,
      "outputs": []
    },
    {
      "cell_type": "code",
      "source": [
        "lassie = Dog(\"Lassie\", 37)"
      ],
      "metadata": {
        "id": "wvrV3t_nInoS"
      },
      "execution_count": null,
      "outputs": []
    },
    {
      "cell_type": "code",
      "source": [
        "lassie.status()"
      ],
      "metadata": {
        "colab": {
          "base_uri": "https://localhost:8080/"
        },
        "id": "DE0HRb7kMXFg",
        "outputId": "c6d38ba7-37e3-4ec0-81e3-f91bacf36d81"
      },
      "execution_count": null,
      "outputs": [
        {
          "output_type": "stream",
          "name": "stdout",
          "text": [
            "dog name is Lassie\n",
            "dog temperature is 37\n"
          ]
        }
      ]
    },
    {
      "cell_type": "code",
      "source": [
        "lassie.setTemperature(40)"
      ],
      "metadata": {
        "id": "lvgdNaBqMgnl"
      },
      "execution_count": null,
      "outputs": []
    },
    {
      "cell_type": "code",
      "source": [
        "lassie.status()\n"
      ],
      "metadata": {
        "colab": {
          "base_uri": "https://localhost:8080/"
        },
        "id": "hjmP4E-OMlu2",
        "outputId": "d4da171e-d23d-44ff-9a4d-bcd50dd3c834"
      },
      "execution_count": null,
      "outputs": [
        {
          "output_type": "stream",
          "name": "stdout",
          "text": [
            "dog name is Lassie\n",
            "dog temperature is 40\n"
          ]
        }
      ]
    },
    {
      "cell_type": "code",
      "source": [
        "lassie.bark()"
      ],
      "metadata": {
        "colab": {
          "base_uri": "https://localhost:8080/"
        },
        "id": "ZuUeFeA9MrWH",
        "outputId": "565bc0bd-4284-4eed-eddb-a77ffd9fe247"
      },
      "execution_count": null,
      "outputs": [
        {
          "output_type": "stream",
          "name": "stdout",
          "text": [
            "woof!\n"
          ]
        }
      ]
    },
    {
      "cell_type": "code",
      "source": [
        "class neuralNetwork:\n",
        "\n",
        "  def __init__(self, inputnodes, hiddennodes, outputnodes, learningrate):\n",
        "    self.inodes = inputnodes\n",
        "    self.hnodes = hiddennodes\n",
        "    self.onodes = outputnodes\n",
        "\n",
        "    self.wih = np.random.normal(0.0, pow(self.hnodes, -0.5), (self.hnodes, self.inodes))\n",
        "    self.who = np.random.normal(0.0, pow())\n",
        "\n",
        "    self.lr = learningrate\n",
        "    pass\n",
        "\n",
        "  def train():\n",
        "    pass\n",
        "\n",
        "  def query():\n",
        "    pass"
      ],
      "metadata": {
        "id": "CsNmPfvhMvXQ"
      },
      "execution_count": null,
      "outputs": []
    },
    {
      "cell_type": "code",
      "source": [
        "input_nodes = 3\n",
        "hidden_nodes = 3\n",
        "output_nodes = 3\n",
        "learning_rate = 0.3\n",
        "\n",
        "n = neuralNetwork(input_nodes, hidden_nodes, output_nodes, learning_rate)"
      ],
      "metadata": {
        "id": "IgkIXm9WN8R9"
      },
      "execution_count": null,
      "outputs": []
    },
    {
      "cell_type": "code",
      "source": [
        "import numpy"
      ],
      "metadata": {
        "id": "1WxrEIuOOEXX"
      },
      "execution_count": null,
      "outputs": []
    },
    {
      "cell_type": "code",
      "source": [
        "import numpy as np"
      ],
      "metadata": {
        "id": "saJ_KUT-Q-Rs"
      },
      "execution_count": null,
      "outputs": []
    },
    {
      "cell_type": "code",
      "source": [],
      "metadata": {
        "id": "MNqqVnBTQ_D6"
      },
      "execution_count": null,
      "outputs": []
    }
  ]
}