{
  "nbformat": 4,
  "nbformat_minor": 0,
  "metadata": {
    "colab": {
      "provenance": [],
      "authorship_tag": "ABX9TyMzApa3oj5oLevYC97NipJd",
      "include_colab_link": true
    },
    "kernelspec": {
      "name": "python3",
      "display_name": "Python 3"
    },
    "language_info": {
      "name": "python"
    }
  },
  "cells": [
    {
      "cell_type": "markdown",
      "metadata": {
        "id": "view-in-github",
        "colab_type": "text"
      },
      "source": [
        "<a href=\"https://colab.research.google.com/github/ratel0307/Python/blob/main/Ch20_%ED%8C%8C%EC%9D%B4%EC%8D%AC%EC%9C%BC%EB%A1%9C_%EC%9D%B8%EA%B3%B5_%EC%8B%A0%EA%B2%BD%EB%A7%9D_%EB%A7%8C%EB%93%A4%EA%B8%B0.ipynb\" target=\"_parent\"><img src=\"https://colab.research.google.com/assets/colab-badge.svg\" alt=\"Open In Colab\"/></a>"
      ]
    },
    {
      "cell_type": "markdown",
      "source": [
        "##뼈대 코드"
      ],
      "metadata": {
        "id": "w0WrRlNYzWf4"
      }
    },
    {
      "cell_type": "markdown",
      "source": [
        "신경망의 세 가지 기능\n",
        "- 초기화: 입력, 은닉, 출력 노드의 수 설정\n",
        "- 학습: 학습 데이터들을 통해 학습하고 이에 따라 가중치를 업데이트\n",
        "- 질의: 입력을 받아 연산한 후 출력 노드에서 답을 전달"
      ],
      "metadata": {
        "id": "vdPd-Ir_z9sE"
      }
    },
    {
      "cell_type": "code",
      "execution_count": null,
      "metadata": {
        "id": "E6UYo2NKzMUY"
      },
      "outputs": [],
      "source": [
        "class neuralNetwork:\n",
        "\n",
        "  #신경망 초기화하기\n",
        "  def __init__():\n",
        "    pass\n",
        "\n",
        "  #신경망 학습시키기\n",
        "  def train():\n",
        "    pass\n",
        "\n",
        "  #신경망에 질의하기\n",
        "  def query():\n",
        "    pass"
      ]
    },
    {
      "cell_type": "markdown",
      "source": [
        "##신경망 초기화하기"
      ],
      "metadata": {
        "id": "-o969M1Y1EUI"
      }
    },
    {
      "cell_type": "code",
      "source": [
        "class neuralNetwork:\n",
        "  def __init__(self, inputnodes, hiddennodes, outputnodes, learningrate):\n",
        "    self.inodes = inputnodes\n",
        "    self.hnodes = hiddennodes\n",
        "    self.onodes = outputnodes\n",
        "    self.wih = (np.random.rand(self.hnodes, self.inodes) - 0.5)\n",
        "    self.who = (np.random.rand(self.onodes, self.hnodes) - 0.5)\n",
        "    #np.random.rand(A,B)는 AXB 행렬을 0과 1 사이에서 균등 분포를 따르는 난수를 생성\n",
        "    #가중치 값은 -0.5~+0.5 사이로 설정\n",
        "    self.lr = learningrate\n",
        "    pass\n",
        "  def train():\n",
        "    pass\n",
        "  def query():\n",
        "    pass"
      ],
      "metadata": {
        "id": "wHMEwDSS1DxJ"
      },
      "execution_count": null,
      "outputs": []
    },
    {
      "cell_type": "code",
      "source": [
        "input_nodes = 3\n",
        "hidden_nodes = 3\n",
        "output_nodes = 3\n",
        "\n",
        "learning_rate = 0.3\n",
        "\n",
        "n = neuralNetwork(input_nodes, hidden_nodes, output_nodes, learning_rate)"
      ],
      "metadata": {
        "id": "GxU1hL3k1lzh"
      },
      "execution_count": null,
      "outputs": []
    },
    {
      "cell_type": "markdown",
      "source": [
        "##신경망의 핵심인 가중치"
      ],
      "metadata": {
        "id": "NkyDM3nl2ZZp"
      }
    },
    {
      "cell_type": "markdown",
      "source": [
        "- (은닉 노드 x 입력 노드)의 크기를 가지는 입력 계층과 은닉 계층 사이의 가중치의 행렬\n",
        "- (출력 노드 x 은닉 노드)의 크기를 가지는 은닉 계층과 출력 계층 사이의 가중치의 행렬"
      ],
      "metadata": {
        "id": "UpBsVSZN48SO"
      }
    },
    {
      "cell_type": "code",
      "source": [
        "import numpy as np"
      ],
      "metadata": {
        "id": "0IKG60eV2bLC"
      },
      "execution_count": null,
      "outputs": []
    },
    {
      "cell_type": "code",
      "source": [
        "np.random.rand(3, 3) #0~1 사이의 수 랜덤으로 기입"
      ],
      "metadata": {
        "colab": {
          "base_uri": "https://localhost:8080/"
        },
        "id": "i19qwo-55OTl",
        "outputId": "87d73a9a-0d8b-4653-8dad-a7b5fccfdb4e"
      },
      "execution_count": null,
      "outputs": [
        {
          "output_type": "execute_result",
          "data": {
            "text/plain": [
              "array([[0.0669673 , 0.96869559, 0.77947874],\n",
              "       [0.44978621, 0.11829539, 0.57926344],\n",
              "       [0.16351432, 0.06967876, 0.79426059]])"
            ]
          },
          "metadata": {},
          "execution_count": 6
        }
      ]
    },
    {
      "cell_type": "code",
      "source": [
        "np.random.rand(3, 3) - 0.5 #음수 값 가지도록 설정"
      ],
      "metadata": {
        "colab": {
          "base_uri": "https://localhost:8080/"
        },
        "id": "0_TQPSq75Y-8",
        "outputId": "8a8048a5-8b41-4e2a-f010-dd041a562f29"
      },
      "execution_count": null,
      "outputs": [
        {
          "output_type": "execute_result",
          "data": {
            "text/plain": [
              "array([[-0.1338136 , -0.32872948,  0.30845883],\n",
              "       [-0.1052473 , -0.08723289, -0.08095556],\n",
              "       [-0.18277092, -0.40850581, -0.42070929]])"
            ]
          },
          "metadata": {},
          "execution_count": 7
        }
      ]
    },
    {
      "cell_type": "code",
      "source": [
        "self.wih = (np.random.rand(self.hnodes, self.inodes) - 0.5)\n",
        "self.who = (np.random.rand(self.onodes, self.hnodes) - 0.5)"
      ],
      "metadata": {
        "colab": {
          "base_uri": "https://localhost:8080/",
          "height": 165
        },
        "id": "KCP3SApe5kKn",
        "outputId": "e033f1df-5b5d-4263-9dd4-fbf7e08734be"
      },
      "execution_count": null,
      "outputs": [
        {
          "output_type": "error",
          "ename": "NameError",
          "evalue": "name 'self' is not defined",
          "traceback": [
            "\u001b[0;31m---------------------------------------------------------------------------\u001b[0m",
            "\u001b[0;31mNameError\u001b[0m                                 Traceback (most recent call last)",
            "\u001b[0;32m<ipython-input-9-ceb7bd048063>\u001b[0m in \u001b[0;36m<cell line: 1>\u001b[0;34m()\u001b[0m\n\u001b[0;32m----> 1\u001b[0;31m \u001b[0mself\u001b[0m\u001b[0;34m.\u001b[0m\u001b[0mwih\u001b[0m \u001b[0;34m=\u001b[0m \u001b[0;34m(\u001b[0m\u001b[0mnp\u001b[0m\u001b[0;34m.\u001b[0m\u001b[0mrandom\u001b[0m\u001b[0;34m.\u001b[0m\u001b[0mrand\u001b[0m\u001b[0;34m(\u001b[0m\u001b[0mself\u001b[0m\u001b[0;34m.\u001b[0m\u001b[0mhnodes\u001b[0m\u001b[0;34m,\u001b[0m \u001b[0mself\u001b[0m\u001b[0;34m.\u001b[0m\u001b[0minodes\u001b[0m\u001b[0;34m)\u001b[0m \u001b[0;34m-\u001b[0m \u001b[0;36m0.5\u001b[0m\u001b[0;34m)\u001b[0m\u001b[0;34m\u001b[0m\u001b[0;34m\u001b[0m\u001b[0m\n\u001b[0m\u001b[1;32m      2\u001b[0m \u001b[0mself\u001b[0m\u001b[0;34m.\u001b[0m\u001b[0mwho\u001b[0m \u001b[0;34m=\u001b[0m \u001b[0;34m(\u001b[0m\u001b[0mnp\u001b[0m\u001b[0;34m.\u001b[0m\u001b[0mrandom\u001b[0m\u001b[0;34m.\u001b[0m\u001b[0mrand\u001b[0m\u001b[0;34m(\u001b[0m\u001b[0mself\u001b[0m\u001b[0;34m.\u001b[0m\u001b[0monodes\u001b[0m\u001b[0;34m,\u001b[0m \u001b[0mself\u001b[0m\u001b[0;34m.\u001b[0m\u001b[0mhnodes\u001b[0m\u001b[0;34m)\u001b[0m \u001b[0;34m-\u001b[0m \u001b[0;36m0.5\u001b[0m\u001b[0;34m)\u001b[0m\u001b[0;34m\u001b[0m\u001b[0;34m\u001b[0m\u001b[0m\n",
            "\u001b[0;31mNameError\u001b[0m: name 'self' is not defined"
          ]
        }
      ]
    },
    {
      "cell_type": "markdown",
      "source": [
        "##신경망에 질의하기"
      ],
      "metadata": {
        "id": "JnPnm_yO6bA7"
      }
    },
    {
      "cell_type": "code",
      "source": [
        "hidden_inputs = np.dot(self.wih, inputs)"
      ],
      "metadata": {
        "id": "1BlNj6_W6Oqm"
      },
      "execution_count": null,
      "outputs": []
    },
    {
      "cell_type": "code",
      "source": [
        "import scipy.special"
      ],
      "metadata": {
        "id": "TGHrwVGQ75S2"
      },
      "execution_count": null,
      "outputs": []
    },
    {
      "cell_type": "code",
      "source": [
        "self.activation_function = lambda x: scipy.special.expit(x)"
      ],
      "metadata": {
        "id": "cgm9ZUZD7_nY"
      },
      "execution_count": null,
      "outputs": []
    },
    {
      "cell_type": "code",
      "source": [
        "hidden_outputs = self.activation_function(hidden_inputs)"
      ],
      "metadata": {
        "id": "9Ny6lqhd8YMW"
      },
      "execution_count": null,
      "outputs": []
    },
    {
      "cell_type": "code",
      "source": [
        "final_inputs = np.dot(self.who, hidden_outputs)\n",
        "final_outputs = self.activation_function(final_inputs)"
      ],
      "metadata": {
        "id": "AtceuMrg8m7W"
      },
      "execution_count": null,
      "outputs": []
    },
    {
      "cell_type": "code",
      "source": [
        "##지금까지의 코드"
      ],
      "metadata": {
        "id": "8HaqDwx39WG0"
      },
      "execution_count": null,
      "outputs": []
    },
    {
      "cell_type": "code",
      "source": [
        "self.wih = np.random.normal(0.0, pow(self.hnodes, -0.5), (self.hnodes, self.inodes))\n",
        "self.who = np.random.normal(0.0, pow(self.onodes, -0.5), (self.onodes, self.hnodes))"
      ],
      "metadata": {
        "id": "5mzPPIog9rT1"
      },
      "execution_count": null,
      "outputs": []
    },
    {
      "cell_type": "code",
      "source": [
        "class neuralNetwork:\n",
        "\n",
        "  def __init__(self, inputnodes, hiddennodes, outputnodes, learningrate):\n",
        "\n",
        "    self.inodes = inputnodes\n",
        "    self.hnodes = hiddennodes\n",
        "    self.onodes = outputnodes\n",
        "\n",
        "    self.wih = np.random.normal(0.0, pow(self.hnodes, -0.5), (self.hnodes, self.inodes))\n",
        "    self.who = np.random.normal(0.0, pow(self.onodes, -0.5), (self.onodes, self.hnodes))\n",
        "    #np.random.normal(loc, scale, size)에서 loc은 평균, scale은 표준편차, size는 출력 배열의 크기\n",
        "    #pow(a,b)는 a를 b만큼 거듭제곱한 값을 계산하는 함수\n",
        "\n",
        "    self.lr = learningrate\n",
        "\n",
        "    self.activation_function = lambda x: scipy.special.expit(x)\n",
        "    #spicy.special.expit은 시그모이드 함수임!\n",
        "    #메서드로 설정하면 길어지니깐 + 람다함수는 나중에 유연하게 수정도 가능\n",
        "\n",
        "    pass\n",
        "\n",
        "  def train():\n",
        "    pass\n",
        "\n",
        "  def query(self, inputs_list):\n",
        "    #입력 리스트를 2차원 행렬로 변환 + 행벡터를 열벡터로!\n",
        "    inputs = np.array(inputs_list, ndmin=2).T\n",
        "    hidden_inputs = np.dot(self.wih, inputs)\n",
        "    hidden_outputs = self.activation_function(hidden_inputs)\n",
        "    final_inputs = np.dot(self.who, hidden_outputs)\n",
        "    final_outputs = self.activation_function(final_inputs)\n",
        "\n",
        "    return final_outputs"
      ],
      "metadata": {
        "id": "SiwUselV9Ccg"
      },
      "execution_count": null,
      "outputs": []
    },
    {
      "cell_type": "code",
      "source": [
        "import numpy as np\n",
        "\n",
        "inputs_list = [1,2,3]\n",
        "inputs = np.array(inputs_list, ndmin=2)\n",
        "\n",
        "print(inputs_list)\n",
        "print(inputs)\n",
        "print(inputs.T)"
      ],
      "metadata": {
        "colab": {
          "base_uri": "https://localhost:8080/"
        },
        "id": "cTR2ITr4Vn4s",
        "outputId": "5f68c35a-c074-43f8-fb9e-5e80f26bc572"
      },
      "execution_count": null,
      "outputs": [
        {
          "output_type": "stream",
          "name": "stdout",
          "text": [
            "[1, 2, 3]\n",
            "[[1 2 3]]\n",
            "[[1]\n",
            " [2]\n",
            " [3]]\n"
          ]
        }
      ]
    },
    {
      "cell_type": "markdown",
      "source": [
        "##신경망 학습시키기"
      ],
      "metadata": {
        "id": "0uwOmZcDFGqN"
      }
    },
    {
      "cell_type": "code",
      "source": [
        "#신경망 학습시키기\n",
        "def train(self, inputs_list, targets_list):\n",
        "  #입력 리스트를 2차원의 행렬로 변환\n",
        "  inputs = np.array(inputs_list, ndmin=2).T\n",
        "  targets = np.array(targets_list, ndmin=2).T\n",
        "\n",
        "  hidden_inputs = np.dot(self.wih, inputs)\n",
        "  hidden_outputs = self.activation_function(hidden_inputs)\n",
        "  final_inputs = np.dot(self.who, hidden_outputs)\n",
        "  final_outputs = self.activation_function(hidden_outputs)\n",
        "\n",
        "  output_errors = targets - final_outputs\n",
        "  hidden_errors = np.dot(self.who.T, output_errors)\n",
        "\n",
        "  #은닉 계층과 출력 계층 간의 가중치 업데이트\n",
        "  self.who += self.lr * np.dot((output_errors * final_outputs * (1.0  - final_outputs)), np.transpose(hidden_outputs))\n",
        "  #입력 계층과 은닉 계층 간의 가중치 업데이트\n",
        "  self.wih += self.lr * np.dot((hidden_errors * hidden_outputs * (1.0  - hidden_outputs)), np.transpose(inputs))\n",
        "\n",
        "  pass"
      ],
      "metadata": {
        "id": "0-3lmGf1FGYd"
      },
      "execution_count": null,
      "outputs": []
    },
    {
      "cell_type": "markdown",
      "source": [
        "##완성된 신경망 코드"
      ],
      "metadata": {
        "id": "5o7JiXDUKL-h"
      }
    },
    {
      "cell_type": "code",
      "source": [
        "class neuralNetwork:\n",
        "\n",
        "  def __init__(self, inputnodes, hiddennodes, outputnodes, learningrate):\n",
        "\n",
        "    self.inodes = inputnodes\n",
        "    self.hnodes = hiddennodes\n",
        "    self.onodes = outputnodes\n",
        "\n",
        "    self.wih = np.random.normal(0.0, pow(self.hnodes, -0.5), (self.hnodes, self.inodes))\n",
        "    self.who = np.random.normal(0.0, pow(self.onodes, -0.5), (self.onodes, self.hnodes))\n",
        "\n",
        "    self.lr = learningrate\n",
        "\n",
        "    self.activation_function = lambda x: scipy.special.expit(x)\n",
        "\n",
        "    pass\n",
        "\n",
        "  def train(self, inputs_list, targets_list):\n",
        "  #입력 리스트를 2차원의 행렬로 변환\n",
        "    inputs = np.array(inputs_list, ndmin=2).T\n",
        "    targets = np.array(targets_list, ndmin=2).T\n",
        "\n",
        "    hidden_inputs = np.dot(self.wih, inputs)\n",
        "    hidden_outputs = self.activation_function(hidden_inputs)\n",
        "    final_inputs = np.dot(self.who, hidden_outputs)\n",
        "    final_outputs = self.activation_function(final_inputs)\n",
        "\n",
        "    output_errors = targets - final_outputs\n",
        "    hidden_errors = np.dot(self.who.T, output_errors)\n",
        "\n",
        "    #은닉 계층과 출력 계층 간의 가중치 업데이트\n",
        "    self.who += self.lr * np.dot((output_errors * final_outputs * (1.0  - final_outputs)), np.transpose(hidden_outputs))\n",
        "    #입력 계층과 은닉 계층 간의 가중치 업데이트\n",
        "    self.wih += self.lr * np.dot((hidden_errors * hidden_outputs * (1.0  - hidden_outputs)), np.transpose(inputs))\n",
        "\n",
        "    pass\n",
        "\n",
        "  def query(self, inputs_list):\n",
        "    #입력 리스트를 2차원 행렬로 변환\n",
        "    inputs = np.array(inputs_list, ndmin=2).T\n",
        "    hidden_inputs = np.dot(self.wih, inputs)\n",
        "    hidden_outputs = self.activation_function(hidden_inputs)\n",
        "    final_inputs = np.dot(self.who, hidden_outputs)\n",
        "    final_outputs = self.activation_function(final_inputs)\n",
        "\n",
        "    return final_outputs"
      ],
      "metadata": {
        "id": "AwNm9DPuGP8y"
      },
      "execution_count": null,
      "outputs": []
    }
  ]
}
